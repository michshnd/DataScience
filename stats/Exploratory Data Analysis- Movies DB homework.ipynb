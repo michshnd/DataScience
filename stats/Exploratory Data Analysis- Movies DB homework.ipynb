{
 "cells": [
  {
   "cell_type": "markdown",
   "metadata": {},
   "source": [
    "# Exploratory Data Analysis"
   ]
  },
  {
   "cell_type": "code",
   "execution_count": 32,
   "metadata": {},
   "outputs": [
    {
     "name": "stderr",
     "output_type": "stream",
     "text": [
      "Loading required package: VIM\n",
      "\n",
      "Loading required package: colorspace\n",
      "\n",
      "Loading required package: grid\n",
      "\n",
      "Loading required package: data.table\n",
      "\n",
      "\n",
      "Attaching package: 'data.table'\n",
      "\n",
      "\n",
      "The following objects are masked from 'package:lubridate':\n",
      "\n",
      "    hour, isoweek, mday, minute, month, quarter, second, wday, week,\n",
      "    yday, year\n",
      "\n",
      "\n",
      "The following objects are masked from 'package:pastecs':\n",
      "\n",
      "    first, last\n",
      "\n",
      "\n",
      "The following objects are masked from 'package:dplyr':\n",
      "\n",
      "    between, first, last\n",
      "\n",
      "\n",
      "VIM is ready to use. \n",
      " Since version 4.0.0 the GUI is in its own package VIMGUI.\n",
      "\n",
      "          Please use the package to use the new (and old) GUI.\n",
      "\n",
      "\n",
      "Suggestions and bug-reports can be submitted at: https://github.com/alexkowa/VIM/issues\n",
      "\n",
      "\n",
      "Attaching package: 'VIM'\n",
      "\n",
      "\n",
      "The following object is masked from 'package:datasets':\n",
      "\n",
      "    sleep\n",
      "\n",
      "\n"
     ]
    }
   ],
   "source": [
    "if (!require(\"car\")) install.packages(\"DBI\")\n",
    "if (!require(\"tibble\")) install.packages(\"ggplot2\")\n",
    "if (!require(\"dplyr\")) install.packages(\"RSQLite\")\n",
    "if (!require(\"car\")) install.packages(\"DBI\")\n",
    "if (!require(\"tibble\")) install.packages(\"lubridate\")\n",
    "if (!require(\"dplyr\")) install.packages(\"pastecs\")\n",
    "if (!require(\"car\")) install.packages(\"car\")\n",
    "if (!require(\"tibble\")) install.packages(\"tibble\")\n",
    "if (!require(\"dplyr\")) install.packages(\"dplyr\")\n",
    "if (!require(\"RColorBrewer\")) install.packages(\"RColorBrewer\")\n",
    "if (!require(\"corrplot\")) install.packages(\"corrplot\")\n",
    "if(!require(corrplot)) {install.packages(\"corrplot\");require(corrplot)}\n",
    "if (!require(\"VIM\")) {install.packages(\"VIM\");require(VIM)} "
   ]
  },
  {
   "cell_type": "code",
   "execution_count": 2,
   "metadata": {},
   "outputs": [
    {
     "name": "stderr",
     "output_type": "stream",
     "text": [
      "\n",
      "Attaching package: 'pastecs'\n",
      "\n",
      "\n",
      "The following objects are masked from 'package:dplyr':\n",
      "\n",
      "    first, last\n",
      "\n",
      "\n",
      "\n",
      "Attaching package: 'lubridate'\n",
      "\n",
      "\n",
      "The following object is masked from 'package:base':\n",
      "\n",
      "    date\n",
      "\n",
      "\n"
     ]
    }
   ],
   "source": [
    "library(DBI)\n",
    "library(dplyr)\n",
    "library(pastecs)\n",
    "library(ggplot2)\n",
    "library(lubridate)\n",
    "library(RSQLite)\n"
   ]
  },
  {
   "cell_type": "code",
   "execution_count": 3,
   "metadata": {},
   "outputs": [
    {
     "name": "stderr",
     "output_type": "stream",
     "text": [
      "Loading required package: usethis\n",
      "\n"
     ]
    }
   ],
   "source": [
    "###########################\n",
    "## Mechkar installation ###\n",
    "###########################\n",
    "\n",
    "library(devtools)\n",
    "#install_github(\"karpatit/mechkar\")\n",
    "library(mechkar)\n",
    "setwd(\"C:/Users/michs/Documents/DataScience/stats/\")"
   ]
  },
  {
   "cell_type": "code",
   "execution_count": 4,
   "metadata": {},
   "outputs": [],
   "source": [
    "con <- dbConnect(odbc::odbc(), .connection_string = \"DSN=BoxOffice;Trusted_Connection=yes;\", timeout = 10)"
   ]
  },
  {
   "cell_type": "code",
   "execution_count": null,
   "metadata": {},
   "outputs": [],
   "source": [
    "movies_ff <- dbReadTable(con,\"movies_ff_v\")"
   ]
  },
  {
   "cell_type": "code",
   "execution_count": 33,
   "metadata": {},
   "outputs": [],
   "source": [
    "save(movies_ff,file=\"C:/Users/michs/Documents/DataScience/data/BoxOffice_ff.RData\")"
   ]
  },
  {
   "cell_type": "code",
   "execution_count": 5,
   "metadata": {},
   "outputs": [],
   "source": [
    "load(\"C:/Users/michs/Documents/DataScience/data/BoxOffice_ff.RData\")"
   ]
  },
  {
   "cell_type": "code",
   "execution_count": 60,
   "metadata": {},
   "outputs": [],
   "source": [
    "###############################################################################\n",
    "##############################################################################\n",
    "vn <- names(movies_ff[,2:84])\n",
    "movies_numeric <- c('movie_id')\n",
    "for(v in vn) {\n",
    "        if((is.numeric(movies_ff[[v]])) & (max(movies_ff[[v]],na.rm=T)>1))\n",
    "            {movies_numeric <- c(movies_numeric,v)}}\n",
    "\n",
    "##############################################################################"
   ]
  },
  {
   "cell_type": "code",
   "execution_count": 6,
   "metadata": {},
   "outputs": [],
   "source": [
    "#########################################################################\n",
    "#############------Functions misings and outliers--------################\n",
    "#########################################################################\n",
    "\n",
    "outlierMatrix <- function(data,threshold=1.5) {\n",
    "    vn <- names(data)\n",
    "    outdata <- data.frame(row1=1:nrow(data))\n",
    "    for(v in vn) {\n",
    "        if(is.numeric(data[[v]])) {\n",
    "            outlow <- quantile(data[[v]],probs = 0.25,na.rm = T) \n",
    "            outhigh <- quantile(data[[v]],probs = 0.75, na.rm = T)\n",
    "            irq_level <- (outhigh - outlow) * threshold\n",
    "            outlow <- outlow - irq_level\n",
    "            outhigh <- outhigh +  irq_level\n",
    "            mv <- ifelse(data[[v]] < outlow | data[[v]] > outhigh, 1, 0)\n",
    "            outdata[v] <- mv\n",
    "        } else {\n",
    "            mv <- rep(0,nrow(data))\n",
    "        }\n",
    "    }\n",
    "    outdata$row1 <- NULL\n",
    "    return(outdata)\n",
    "}\n",
    "\n",
    "\n",
    "missingMatrix <- function(data) {\n",
    "    vn <- names(data)\n",
    "    missdata <- data.frame(row1=1:nrow(data))\n",
    "    for(v in vn) {\n",
    "        mv <- ifelse(is.na(data[[v]]),1,0)\n",
    "        missdata[v] <- mv\n",
    "    }\n",
    "    missdata$row1 <- NULL\n",
    "    return(missdata)\n",
    "}\n",
    "\n",
    "minmax <- function(x) {\n",
    "    return(((x-min(x,na.rm=T))/(max(x,na.rm=T)-min(x,na.rm=T))))\n",
    "}\n",
    "\n",
    "getMissingness <- function (data, getRows = FALSE) {\n",
    "    require(dplyr)\n",
    "    l <- nrow(data)\n",
    "    vn <- names(data)\n",
    "    nadf <- data\n",
    "    cnt <- NULL\n",
    "    miss <- function(x) return(sum(is.na(x)))\n",
    "    for (n in vn) {\n",
    "        nadf[[n]] <- ifelse(is.na(nadf[[n]]) == T, 1, 0)\n",
    "        cnt <- rbind(cnt, data.frame(n, sum(nadf[[n]])))\n",
    "    }\n",
    "    names(cnt) <- c(\"var\", \"na.count\")\n",
    "    cnt$rate <- round((cnt$na.count/nrow(nadf)) * 100, 1)\n",
    "    nadf$na.cnt <- 0\n",
    "    nadf$na.cnt <- rowSums(nadf)\n",
    "    cnt <- cnt %>% dplyr::arrange(desc(na.count)) %>% dplyr::filter(na.count > \n",
    "        0)\n",
    "    totmiss <- nadf %>% dplyr::filter(na.cnt == 0) %>% dplyr::tally()\n",
    "    idx <- NULL\n",
    "    msg <- (paste(\"This dataset has \", as.character(totmiss), \n",
    "        \" (\", as.character(round(totmiss/nrow(data) * 100, 1)), \n",
    "        \"%)\", \" complete rows. Original data has \", nrow(data), \n",
    "        \" rows.\", sep = \"\"))\n",
    "    if (getRows == TRUE & totmiss != 0) {\n",
    "        nadf$rn <- seq_len(nrow(data))\n",
    "        idx <- nadf %>% dplyr::filter(na.cnt == 0) %>% dplyr::select(rn)\n",
    "    }\n",
    "    print(list(head(cnt, n = 10), msg))\n",
    "    return(list(missingness = cnt, message = msg, rows = idx$rn))\n",
    "}"
   ]
  },
  {
   "cell_type": "markdown",
   "metadata": {},
   "source": [
    "# 2.1 - Data stats"
   ]
  },
  {
   "cell_type": "code",
   "execution_count": 51,
   "metadata": {},
   "outputs": [
    {
     "data": {
      "text/plain": [
       "    movie_id        budget          original_language    popularity \n",
       " Min.   :   1   Min.   :        0   Length:7375        Min.   :  0  \n",
       " 1st Qu.:1848   1st Qu.:        0   Class :character   1st Qu.:  4  \n",
       " Median :3696   Median :  8000000   Mode  :character   Median :  7  \n",
       " Mean   :3698   Mean   : 22666657                      Mean   :  9  \n",
       " 3rd Qu.:5550   3rd Qu.: 29000000                      3rd Qu.: 11  \n",
       " Max.   :7398   Max.   :380000000                      Max.   :547  \n",
       "                                                                    \n",
       " release_date          runtime    runtime_cat           revenue          \n",
       " Length:7375        Min.   :  0   Length:7375        Min.   :         1  \n",
       " Class :character   1st Qu.: 94   Class :character   1st Qu.:   2405420  \n",
       " Mode  :character   Median :104   Mode  :character   Median :  16928137  \n",
       "                    Mean   :108                      Mean   :  66879312  \n",
       "                    3rd Qu.:118                      3rd Qu.:  69055695  \n",
       "                    Max.   :338                      Max.   :1519557910  \n",
       "                    NA's   :5                        NA's   :4382        \n",
       "   sw_lang_en   sw_web_presence sw_has_poster   sw_tagline   keyword_cnt \n",
       " Min.   :0.00   Min.   :0.00    Min.   :0     Min.   :0.0   Min.   :  0  \n",
       " 1st Qu.:1.00   1st Qu.:0.00    1st Qu.:1     1st Qu.:1.0   1st Qu.:  3  \n",
       " Median :1.00   Median :0.00    Median :1     Median :1.0   Median :  6  \n",
       " Mean   :0.86   Mean   :0.32    Mean   :1     Mean   :0.8   Mean   :  7  \n",
       " 3rd Qu.:1.00   3rd Qu.:1.00    3rd Qu.:1     3rd Qu.:1.0   3rd Qu.: 10  \n",
       " Max.   :1.00   Max.   :1.00    Max.   :1     Max.   :1.0   Max.   :149  \n",
       "                                                                         \n",
       "  release_year  release_month  high_release_month  release_day  \n",
       " Min.   :1918   Min.   : 1.0   Min.   :0.0        Min.   : 1.0  \n",
       " 1st Qu.:1992   1st Qu.: 4.0   1st Qu.:0.0        1st Qu.: 8.0  \n",
       " Median :2004   Median : 7.0   Median :0.0        Median :15.0  \n",
       " Mean   :2000   Mean   : 6.8   Mean   :0.4        Mean   :15.2  \n",
       " 3rd Qu.:2011   3rd Qu.:10.0   3rd Qu.:1.0        3rd Qu.:22.0  \n",
       " Max.   :2017   Max.   :12.0   Max.   :1.0        Max.   :31.0  \n",
       " NA's   :1      NA's   :1                         NA's   :1     \n",
       "  seasonality        sw_collection  producers_cnt countries_cnt     lang_US    \n",
       " Min.   :-50746591   Min.   :0.00   Min.   : 1    Min.   : 0.0   Min.   :0.00  \n",
       " 1st Qu.:-33273015   1st Qu.:0.00   1st Qu.: 1    1st Qu.: 1.0   1st Qu.:1.00  \n",
       " Median :-15309317   Median :0.00   Median : 2    Median : 1.0   Median :1.00  \n",
       " Mean   : -1337484   Mean   :0.03   Mean   : 3    Mean   : 1.3   Mean   :0.87  \n",
       " 3rd Qu.: 32322910   3rd Qu.:0.00   3rd Qu.: 4    3rd Qu.: 1.0   3rd Qu.:1.00  \n",
       " Max.   : 74205073   Max.   :2.00   Max.   :26    Max.   :12.0   Max.   :1.00  \n",
       " NA's   :1                          NA's   :395                                \n",
       "    lang_FR       lang_RU        lang_ES        lang_JA      keywords_cnt\n",
       " Min.   :0.0   Min.   :0.00   Min.   :0.00   Min.   :0.00   Min.   :  0  \n",
       " 1st Qu.:0.0   1st Qu.:0.00   1st Qu.:0.00   1st Qu.:0.00   1st Qu.:  3  \n",
       " Median :0.0   Median :0.00   Median :0.00   Median :0.00   Median :  6  \n",
       " Mean   :0.1   Mean   :0.05   Mean   :0.08   Mean   :0.03   Mean   :  7  \n",
       " 3rd Qu.:0.0   3rd Qu.:0.00   3rd Qu.:0.00   3rd Qu.:0.00   3rd Qu.: 10  \n",
       " Max.   :1.0   Max.   :1.00   Max.   :1.00   Max.   :1.00   Max.   :149  \n",
       "                                                                         \n",
       " actor0_movies_cnt actor0_movies_5y_cnt actor1_movies_cnt actor1_movies_5y_cnt\n",
       " Min.   : 0        Min.   : 0.0         Min.   : 0        Min.   : 0.0        \n",
       " 1st Qu.: 0        1st Qu.: 0.0         1st Qu.: 0        1st Qu.: 0.0        \n",
       " Median : 4        Median : 2.0         Median : 2        Median : 1.0        \n",
       " Mean   : 7        Mean   : 2.8         Mean   : 5        Mean   : 2.3        \n",
       " 3rd Qu.:11        3rd Qu.: 5.0         3rd Qu.: 8        3rd Qu.: 4.0        \n",
       " Max.   :65        Max.   :16.0         Max.   :67        Max.   :17.0        \n",
       "                                                                              \n",
       " actor2_movies_cnt actor2_movies_5y_cnt sw_female_actor0 sw_female_actor1\n",
       " Min.   : 0        Min.   : 0.0         Min.   :0        Min.   :0       \n",
       " 1st Qu.: 0        1st Qu.: 0.0         1st Qu.:0        1st Qu.:0       \n",
       " Median : 2        Median : 1.0         Median :0        Median :0       \n",
       " Mean   : 5        Mean   : 1.9         Mean   :0        Mean   :0       \n",
       " 3rd Qu.: 7        3rd Qu.: 3.0         3rd Qu.:0        3rd Qu.:1       \n",
       " Max.   :68        Max.   :15.0         Max.   :1        Max.   :1       \n",
       "                                        NA's   :934      NA's   :782     \n",
       " sw_female_actor2 sw_male_actor0 sw_male_actor1 sw_male_actor2\n",
       " Min.   :0        Min.   :0      Min.   :0      Min.   :0     \n",
       " 1st Qu.:0        1st Qu.:0      1st Qu.:0      1st Qu.:0     \n",
       " Median :0        Median :1      Median :1      Median :1     \n",
       " Mean   :0        Mean   :1      Mean   :1      Mean   :1     \n",
       " 3rd Qu.:1        3rd Qu.:1      3rd Qu.:1      3rd Qu.:1     \n",
       " Max.   :1        Max.   :1      Max.   :1      Max.   :1     \n",
       " NA's   :788      NA's   :934    NA's   :782    NA's   :788   \n",
       " actor0_prev_revenue  actor1_prev_revenue  actor2_prev_revenue \n",
       " Min.   :         1   Min.   :         1   Min.   :         1  \n",
       " 1st Qu.:  44264350   1st Qu.:  35114428   1st Qu.:  30857814  \n",
       " Median : 151493655   Median : 125586134   Median : 110879513  \n",
       " Mean   : 223290867   Mean   : 205206872   Mean   : 195725923  \n",
       " 3rd Qu.: 311312624   3rd Qu.: 268426634   3rd Qu.: 250649836  \n",
       " Max.   :1519557910   Max.   :1519557910   Max.   :1519557910  \n",
       " NA's   :2752         NA's   :3201         NA's   :3423        \n",
       " director_movies_cnt director_movies_5y_cnt genre_adventure genre_fantasy \n",
       " Min.   : 0          Min.   :0.0            Min.   :0.00    Min.   :0.00  \n",
       " 1st Qu.: 0          1st Qu.:0.0            1st Qu.:0.00    1st Qu.:0.00  \n",
       " Median : 1          Median :0.0            Median :0.00    Median :0.00  \n",
       " Mean   : 2          Mean   :0.6            Mean   :0.15    Mean   :0.09  \n",
       " 3rd Qu.: 3          3rd Qu.:1.0            3rd Qu.:0.00    3rd Qu.:0.00  \n",
       " Max.   :29          Max.   :6.0            Max.   :1.00    Max.   :1.00  \n",
       "                                                                          \n",
       " genre_animation  genre_drama   genre_horror  genre_action   genre_comedy \n",
       " Min.   :0.00    Min.   :0.0   Min.   :0.0   Min.   :0.00   Min.   :0.00  \n",
       " 1st Qu.:0.00    1st Qu.:0.0   1st Qu.:0.0   1st Qu.:0.00   1st Qu.:0.00  \n",
       " Median :0.00    Median :0.0   Median :0.0   Median :0.00   Median :0.00  \n",
       " Mean   :0.05    Mean   :0.5   Mean   :0.1   Mean   :0.24   Mean   :0.35  \n",
       " 3rd Qu.:0.00    3rd Qu.:1.0   3rd Qu.:0.0   3rd Qu.:0.00   3rd Qu.:1.00  \n",
       " Max.   :1.00    Max.   :1.0   Max.   :1.0   Max.   :1.00   Max.   :1.00  \n",
       "                                                                          \n",
       " genre_history  genre_western  genre_thriller  genre_crime   genre_documentary\n",
       " Min.   :0.00   Min.   :0.00   Min.   :0.00   Min.   :0.00   Min.   :0.00     \n",
       " 1st Qu.:0.00   1st Qu.:0.00   1st Qu.:0.00   1st Qu.:0.00   1st Qu.:0.00     \n",
       " Median :0.00   Median :0.00   Median :0.00   Median :0.00   Median :0.00     \n",
       " Mean   :0.04   Mean   :0.02   Mean   :0.25   Mean   :0.15   Mean   :0.03     \n",
       " 3rd Qu.:0.00   3rd Qu.:0.00   3rd Qu.:1.00   3rd Qu.:0.00   3rd Qu.:0.00     \n",
       " Max.   :1.00   Max.   :1.00   Max.   :1.00   Max.   :1.00   Max.   :1.00     \n",
       "                                                                              \n",
       " genre_science_fiction genre_mystery   genre_music   genre_romance \n",
       " Min.   :0.0           Min.   :0.00   Min.   :0.00   Min.   :0.00  \n",
       " 1st Qu.:0.0           1st Qu.:0.00   1st Qu.:0.00   1st Qu.:0.00  \n",
       " Median :0.0           Median :0.00   Median :0.00   Median :0.00  \n",
       " Mean   :0.1           Mean   :0.07   Mean   :0.04   Mean   :0.19  \n",
       " 3rd Qu.:0.0           3rd Qu.:0.00   3rd Qu.:0.00   3rd Qu.:0.00  \n",
       " Max.   :1.0           Max.   :1.00   Max.   :1.00   Max.   :1.00  \n",
       "                                                                   \n",
       "  genre_family    genre_war    genre_foreign    depart_Art depart_Camera\n",
       " Min.   :0.00   Min.   :0.00   Min.   :0.00   Min.   : 0   Min.   : 0   \n",
       " 1st Qu.:0.00   1st Qu.:0.00   1st Qu.:0.00   1st Qu.: 0   1st Qu.: 0   \n",
       " Median :0.00   Median :0.00   Median :0.00   Median : 1   Median : 1   \n",
       " Mean   :0.09   Mean   :0.03   Mean   :0.01   Mean   : 3   Mean   : 2   \n",
       " 3rd Qu.:0.00   3rd Qu.:0.00   3rd Qu.:0.00   3rd Qu.: 3   3rd Qu.: 2   \n",
       " Max.   :1.00   Max.   :1.00   Max.   :1.00   Max.   :36   Max.   :24   \n",
       "                                              NA's   :34   NA's   :34   \n",
       "  depart_Crew  depart_Custom_Mkup depart_Directing depart_Editing\n",
       " Min.   :  0   Min.   : 0         Min.   : 0       Min.   : 0    \n",
       " 1st Qu.:  0   1st Qu.: 0         1st Qu.: 1       1st Qu.: 0    \n",
       " Median :  0   Median : 1         Median : 1       Median : 1    \n",
       " Mean   :  2   Mean   : 2         Mean   : 2       Mean   : 2    \n",
       " 3rd Qu.:  2   3rd Qu.: 2         3rd Qu.: 2       3rd Qu.: 2    \n",
       " Max.   :119   Max.   :33         Max.   :30       Max.   :21    \n",
       " NA's   :34    NA's   :34         NA's   :34       NA's   :34    \n",
       " depart_Lighting depart_Production  depart_Sound depart_Visual_Effects\n",
       " Min.   : 0      Min.   : 0        Min.   : 0    Min.   : 0           \n",
       " 1st Qu.: 0      1st Qu.: 1        1st Qu.: 1    1st Qu.: 0           \n",
       " Median : 0      Median : 4        Median : 1    Median : 0           \n",
       " Mean   : 0      Mean   : 5        Mean   : 3    Mean   : 1           \n",
       " 3rd Qu.: 0      3rd Qu.: 8        3rd Qu.: 3    3rd Qu.: 0           \n",
       " Max.   :18      Max.   :38        Max.   :40    Max.   :89           \n",
       " NA's   :34      NA's   :34        NA's   :34    NA's   :34           \n",
       " depart_Writing depart_Art_female depart_Camera_female depart_Crew_female\n",
       " Min.   : 0     Min.   :0         Min.   :0            Min.   : 0        \n",
       " 1st Qu.: 1     1st Qu.:0         1st Qu.:0            1st Qu.: 0        \n",
       " Median : 2     Median :0         Median :0            Median : 0        \n",
       " Mean   : 2     Mean   :0         Mean   :0            Mean   : 0        \n",
       " 3rd Qu.: 3     3rd Qu.:0         3rd Qu.:0            3rd Qu.: 0        \n",
       " Max.   :23     Max.   :7         Max.   :3            Max.   :10        \n",
       " NA's   :34     NA's   :34        NA's   :34           NA's   :34        \n",
       " depart_Custom_Mkup_female depart_Directing_female depart_Editing_female\n",
       " Min.   :0                 Min.   :0               Min.   :0            \n",
       " 1st Qu.:0                 1st Qu.:0               1st Qu.:0            \n",
       " Median :0                 Median :0               Median :0            \n",
       " Mean   :0                 Mean   :0               Mean   :0            \n",
       " 3rd Qu.:1                 3rd Qu.:0               3rd Qu.:0            \n",
       " Max.   :6                 Max.   :4               Max.   :5            \n",
       " NA's   :34                NA's   :34              NA's   :34           \n",
       " depart_Lighting_female depart_Production_female depart_Sound_female\n",
       " Min.   :0              Min.   : 0               Min.   :0          \n",
       " 1st Qu.:0              1st Qu.: 0               1st Qu.:0          \n",
       " Median :0              Median : 0               Median :0          \n",
       " Mean   :0              Mean   : 1               Mean   :0          \n",
       " 3rd Qu.:0              3rd Qu.: 2               3rd Qu.:0          \n",
       " Max.   :1              Max.   :12               Max.   :6          \n",
       " NA's   :34             NA's   :34               NA's   :34         \n",
       " depart_Visual_Effects_female depart_Writing_female\n",
       " Min.   :0                    Min.   :0            \n",
       " 1st Qu.:0                    1st Qu.:0            \n",
       " Median :0                    Median :0            \n",
       " Mean   :0                    Mean   :0            \n",
       " 3rd Qu.:0                    3rd Qu.:0            \n",
       " Max.   :2                    Max.   :5            \n",
       " NA's   :34                   NA's   :34           "
      ]
     },
     "metadata": {},
     "output_type": "display_data"
    }
   ],
   "source": [
    "summary(movies_ff)"
   ]
  },
  {
   "cell_type": "code",
   "execution_count": 5,
   "metadata": {},
   "outputs": [
    {
     "data": {
      "text/html": [
       "<table>\n",
       "<thead><tr><th></th><th scope=col>runtime</th><th scope=col>runtime_cat</th><th scope=col>revenue</th><th scope=col>sw_lang_en</th><th scope=col>sw_web_presence</th><th scope=col>sw_has_poster</th><th scope=col>sw_tagline</th><th scope=col>keyword_cnt</th><th scope=col>release_year</th><th scope=col>release_month</th><th scope=col>...</th><th scope=col>depart_Art_female</th><th scope=col>depart_Camera_female</th><th scope=col>depart_Crew_female</th><th scope=col>depart_Custom_Mkup_female</th><th scope=col>depart_Directing_female</th><th scope=col>depart_Editing_female</th><th scope=col>depart_Lighting_female</th><th scope=col>depart_Production_female</th><th scope=col>depart_Sound_female</th><th scope=col>depart_Visual_Effects_female</th></tr></thead>\n",
       "<tbody>\n",
       "\t<tr><th scope=row>nbr.val</th><td>  7370.00          </td><td>NA                 </td><td>             2993.0</td><td>7375.0000          </td><td>7375.0000          </td><td>7375.00000         </td><td>7375.0000          </td><td> 7375.000          </td><td>    7374.0000      </td><td> 7374.000          </td><td>...                </td><td>7341.0000          </td><td>7341.0000          </td><td>7341.0000          </td><td>7341.0000          </td><td>7341.0000          </td><td>7341.0000          </td><td>7341.00000         </td><td>7341.000           </td><td>7341.0000          </td><td>7341.0000          </td></tr>\n",
       "\t<tr><th scope=row>nbr.null</th><td>    19.00          </td><td>NA                 </td><td>                0.0</td><td>1039.0000          </td><td>5012.0000          </td><td>   2.00000         </td><td>1442.0000          </td><td>  649.000          </td><td>       0.0000      </td><td>    0.000          </td><td>...                </td><td>5988.0000          </td><td>7194.0000          </td><td>6971.0000          </td><td>5293.0000          </td><td>6297.0000          </td><td>6516.0000          </td><td>7336.00000         </td><td>3872.000           </td><td>6840.0000          </td><td>7281.0000          </td></tr>\n",
       "\t<tr><th scope=row>nbr.na</th><td>     5.00          </td><td>NA                 </td><td>             4382.0</td><td>   0.0000          </td><td>   0.0000          </td><td>   0.00000         </td><td>   0.0000          </td><td>    0.000          </td><td>       1.0000      </td><td>    1.000          </td><td>...                </td><td>  34.0000          </td><td>  34.0000          </td><td>  34.0000          </td><td>  34.0000          </td><td>  34.0000          </td><td>  34.0000          </td><td>  34.00000         </td><td>  34.000           </td><td>  34.0000          </td><td>  34.0000          </td></tr>\n",
       "\t<tr><th scope=row>min</th><td>     0.00          </td><td>NA                 </td><td>                1.0</td><td>   0.0000          </td><td>   0.0000          </td><td>   0.00000         </td><td>   0.0000          </td><td>    0.000          </td><td>    1918.0000      </td><td>    1.000          </td><td>...                </td><td>   0.0000          </td><td>   0.0000          </td><td>   0.0000          </td><td>   0.0000          </td><td>   0.0000          </td><td>   0.0000          </td><td>   0.00000         </td><td>   0.000           </td><td>   0.0000          </td><td>   0.0000          </td></tr>\n",
       "\t<tr><th scope=row>max</th><td>   338.00          </td><td>NA                 </td><td>       1519557910.0</td><td>   1.0000          </td><td>   1.0000          </td><td>   1.00000         </td><td>   1.0000          </td><td>  149.000          </td><td>    2017.0000      </td><td>   12.000          </td><td>...                </td><td>   7.0000          </td><td>   3.0000          </td><td>  10.0000          </td><td>   6.0000          </td><td>   4.0000          </td><td>   5.0000          </td><td>   1.00000         </td><td>  12.000           </td><td>   6.0000          </td><td>   2.0000          </td></tr>\n",
       "\t<tr><th scope=row>range</th><td>   338.00          </td><td>NA                 </td><td>       1519557909.0</td><td>   1.0000          </td><td>   1.0000          </td><td>   1.00000         </td><td>   1.0000          </td><td>  149.000          </td><td>      99.0000      </td><td>   11.000          </td><td>...                </td><td>   7.0000          </td><td>   3.0000          </td><td>  10.0000          </td><td>   6.0000          </td><td>   4.0000          </td><td>   5.0000          </td><td>   1.00000         </td><td>  12.000           </td><td>   6.0000          </td><td>   2.0000          </td></tr>\n",
       "\t<tr><th scope=row>sum</th><td>794097.00          </td><td>NA                 </td><td>     200169779760.0</td><td>6336.0000          </td><td>2363.0000          </td><td>7373.00000         </td><td>5933.0000          </td><td>53579.000          </td><td>14745625.0000      </td><td>50471.000          </td><td>...                </td><td>1726.0000          </td><td> 150.0000          </td><td> 473.0000          </td><td>2595.0000          </td><td>1127.0000          </td><td> 893.0000          </td><td>   5.00000         </td><td>6898.000           </td><td> 581.0000          </td><td>  62.0000          </td></tr>\n",
       "\t<tr><th scope=row>median</th><td>   104.00          </td><td>NA                 </td><td>         16928137.0</td><td>   1.0000          </td><td>   0.0000          </td><td>   1.00000         </td><td>   1.0000          </td><td>    6.000          </td><td>    2004.0000      </td><td>    7.000          </td><td>...                </td><td>   0.0000          </td><td>   0.0000          </td><td>   0.0000          </td><td>   0.0000          </td><td>   0.0000          </td><td>   0.0000          </td><td>   0.00000         </td><td>   0.000           </td><td>   0.0000          </td><td>   0.0000          </td></tr>\n",
       "\t<tr><th scope=row>mean</th><td>   107.75          </td><td>NA                 </td><td>         66879311.6</td><td>   0.8591          </td><td>   0.3204          </td><td>   0.99973         </td><td>   0.8045          </td><td>    7.265          </td><td>    1999.6779      </td><td>    6.844          </td><td>...                </td><td>   0.2351          </td><td>   0.0204          </td><td>   0.0644          </td><td>   0.3535          </td><td>   0.1535          </td><td>   0.1216          </td><td>   0.00068         </td><td>   0.940           </td><td>   0.0791          </td><td>   0.0084          </td></tr>\n",
       "\t<tr><th scope=row>SE.mean</th><td>     0.25          </td><td>NA                 </td><td>          2516188.3</td><td>   0.0041          </td><td>   0.0054          </td><td>   0.00019         </td><td>   0.0046          </td><td>    0.073          </td><td>       0.1790      </td><td>    0.039          </td><td>...                </td><td>   0.0065          </td><td>   0.0017          </td><td>   0.0039          </td><td>   0.0076          </td><td>   0.0046          </td><td>   0.0042          </td><td>   0.00030         </td><td>   0.016           </td><td>   0.0037          </td><td>   0.0011          </td></tr>\n",
       "\t<tr><th scope=row>CI.mean.0.95</th><td>     0.49          </td><td>NA                 </td><td>          4933634.3</td><td>   0.0079          </td><td>   0.0107          </td><td>   0.00038         </td><td>   0.0091          </td><td>    0.143          </td><td>       0.3510      </td><td>    0.077          </td><td>...                </td><td>   0.0128          </td><td>   0.0033          </td><td>   0.0077          </td><td>   0.0149          </td><td>   0.0090          </td><td>   0.0082          </td><td>   0.00060         </td><td>   0.030           </td><td>   0.0072          </td><td>   0.0022          </td></tr>\n",
       "\t<tr><th scope=row>var</th><td>   458.50          </td><td>NA                 </td><td>18949292507956320.0</td><td>   0.1211          </td><td>   0.2178          </td><td>   0.00027         </td><td>   0.1573          </td><td>   39.090          </td><td>     236.3624      </td><td>   11.468          </td><td>...                </td><td>   0.3115          </td><td>   0.0211          </td><td>   0.1126          </td><td>   0.4245          </td><td>   0.1556          </td><td>   0.1281          </td><td>   0.00068         </td><td>   1.767           </td><td>   0.1001          </td><td>   0.0089          </td></tr>\n",
       "\t<tr><th scope=row>std.dev</th><td>    21.41          </td><td>NA                 </td><td>        137656429.2</td><td>   0.3479          </td><td>   0.4667          </td><td>   0.01647         </td><td>   0.3966          </td><td>    6.252          </td><td>      15.3741      </td><td>    3.386          </td><td>...                </td><td>   0.5581          </td><td>   0.1453          </td><td>   0.3356          </td><td>   0.6515          </td><td>   0.3944          </td><td>   0.3579          </td><td>   0.02609         </td><td>   1.329           </td><td>   0.3164          </td><td>   0.0944          </td></tr>\n",
       "\t<tr><th scope=row>coef.var</th><td>     0.20          </td><td>NA                 </td><td>                2.1</td><td>   0.4050          </td><td>   1.4565          </td><td>   0.01647         </td><td>   0.4930          </td><td>    0.861          </td><td>       0.0077      </td><td>    0.495          </td><td>...                </td><td>   2.3737          </td><td>   7.1103          </td><td>   5.2080          </td><td>   1.8431          </td><td>   2.5693          </td><td>   2.9424          </td><td>  38.30666         </td><td>   1.415           </td><td>   3.9983          </td><td>  11.1830          </td></tr>\n",
       "</tbody>\n",
       "</table>\n"
      ],
      "text/latex": [
       "\\begin{tabular}{r|lllllllllllllllllllllllllllllllllllllllllllllllllllllllllllllllllllllllllllllll}\n",
       "  & runtime & runtime\\_cat & revenue & sw\\_lang\\_en & sw\\_web\\_presence & sw\\_has\\_poster & sw\\_tagline & keyword\\_cnt & release\\_year & release\\_month & ... & depart\\_Art\\_female & depart\\_Camera\\_female & depart\\_Crew\\_female & depart\\_Custom\\_Mkup\\_female & depart\\_Directing\\_female & depart\\_Editing\\_female & depart\\_Lighting\\_female & depart\\_Production\\_female & depart\\_Sound\\_female & depart\\_Visual\\_Effects\\_female\\\\\n",
       "\\hline\n",
       "\tnbr.val &   7370.00           & NA                  &              2993.0 & 7375.0000           & 7375.0000           & 7375.00000          & 7375.0000           &  7375.000           &     7374.0000       &  7374.000           & ...                 & 7341.0000           & 7341.0000           & 7341.0000           & 7341.0000           & 7341.0000           & 7341.0000           & 7341.00000          & 7341.000            & 7341.0000           & 7341.0000          \\\\\n",
       "\tnbr.null &     19.00           & NA                  &                 0.0 & 1039.0000           & 5012.0000           &    2.00000          & 1442.0000           &   649.000           &        0.0000       &     0.000           & ...                 & 5988.0000           & 7194.0000           & 6971.0000           & 5293.0000           & 6297.0000           & 6516.0000           & 7336.00000          & 3872.000            & 6840.0000           & 7281.0000          \\\\\n",
       "\tnbr.na &      5.00           & NA                  &              4382.0 &    0.0000           &    0.0000           &    0.00000          &    0.0000           &     0.000           &        1.0000       &     1.000           & ...                 &   34.0000           &   34.0000           &   34.0000           &   34.0000           &   34.0000           &   34.0000           &   34.00000          &   34.000            &   34.0000           &   34.0000          \\\\\n",
       "\tmin &      0.00           & NA                  &                 1.0 &    0.0000           &    0.0000           &    0.00000          &    0.0000           &     0.000           &     1918.0000       &     1.000           & ...                 &    0.0000           &    0.0000           &    0.0000           &    0.0000           &    0.0000           &    0.0000           &    0.00000          &    0.000            &    0.0000           &    0.0000          \\\\\n",
       "\tmax &    338.00           & NA                  &        1519557910.0 &    1.0000           &    1.0000           &    1.00000          &    1.0000           &   149.000           &     2017.0000       &    12.000           & ...                 &    7.0000           &    3.0000           &   10.0000           &    6.0000           &    4.0000           &    5.0000           &    1.00000          &   12.000            &    6.0000           &    2.0000          \\\\\n",
       "\trange &    338.00           & NA                  &        1519557909.0 &    1.0000           &    1.0000           &    1.00000          &    1.0000           &   149.000           &       99.0000       &    11.000           & ...                 &    7.0000           &    3.0000           &   10.0000           &    6.0000           &    4.0000           &    5.0000           &    1.00000          &   12.000            &    6.0000           &    2.0000          \\\\\n",
       "\tsum & 794097.00           & NA                  &      200169779760.0 & 6336.0000           & 2363.0000           & 7373.00000          & 5933.0000           & 53579.000           & 14745625.0000       & 50471.000           & ...                 & 1726.0000           &  150.0000           &  473.0000           & 2595.0000           & 1127.0000           &  893.0000           &    5.00000          & 6898.000            &  581.0000           &   62.0000          \\\\\n",
       "\tmedian &    104.00           & NA                  &          16928137.0 &    1.0000           &    0.0000           &    1.00000          &    1.0000           &     6.000           &     2004.0000       &     7.000           & ...                 &    0.0000           &    0.0000           &    0.0000           &    0.0000           &    0.0000           &    0.0000           &    0.00000          &    0.000            &    0.0000           &    0.0000          \\\\\n",
       "\tmean &    107.75           & NA                  &          66879311.6 &    0.8591           &    0.3204           &    0.99973          &    0.8045           &     7.265           &     1999.6779       &     6.844           & ...                 &    0.2351           &    0.0204           &    0.0644           &    0.3535           &    0.1535           &    0.1216           &    0.00068          &    0.940            &    0.0791           &    0.0084          \\\\\n",
       "\tSE.mean &      0.25           & NA                  &           2516188.3 &    0.0041           &    0.0054           &    0.00019          &    0.0046           &     0.073           &        0.1790       &     0.039           & ...                 &    0.0065           &    0.0017           &    0.0039           &    0.0076           &    0.0046           &    0.0042           &    0.00030          &    0.016            &    0.0037           &    0.0011          \\\\\n",
       "\tCI.mean.0.95 &      0.49           & NA                  &           4933634.3 &    0.0079           &    0.0107           &    0.00038          &    0.0091           &     0.143           &        0.3510       &     0.077           & ...                 &    0.0128           &    0.0033           &    0.0077           &    0.0149           &    0.0090           &    0.0082           &    0.00060          &    0.030            &    0.0072           &    0.0022          \\\\\n",
       "\tvar &    458.50           & NA                  & 18949292507956320.0 &    0.1211           &    0.2178           &    0.00027          &    0.1573           &    39.090           &      236.3624       &    11.468           & ...                 &    0.3115           &    0.0211           &    0.1126           &    0.4245           &    0.1556           &    0.1281           &    0.00068          &    1.767            &    0.1001           &    0.0089          \\\\\n",
       "\tstd.dev &     21.41           & NA                  &         137656429.2 &    0.3479           &    0.4667           &    0.01647          &    0.3966           &     6.252           &       15.3741       &     3.386           & ...                 &    0.5581           &    0.1453           &    0.3356           &    0.6515           &    0.3944           &    0.3579           &    0.02609          &    1.329            &    0.3164           &    0.0944          \\\\\n",
       "\tcoef.var &      0.20           & NA                  &                 2.1 &    0.4050           &    1.4565           &    0.01647          &    0.4930           &     0.861           &        0.0077       &     0.495           & ...                 &    2.3737           &    7.1103           &    5.2080           &    1.8431           &    2.5693           &    2.9424           &   38.30666          &    1.415            &    3.9983           &   11.1830          \\\\\n",
       "\\end{tabular}\n"
      ],
      "text/markdown": [
       "\n",
       "| <!--/--> | runtime | runtime_cat | revenue | sw_lang_en | sw_web_presence | sw_has_poster | sw_tagline | keyword_cnt | release_year | release_month | ... | depart_Art_female | depart_Camera_female | depart_Crew_female | depart_Custom_Mkup_female | depart_Directing_female | depart_Editing_female | depart_Lighting_female | depart_Production_female | depart_Sound_female | depart_Visual_Effects_female |\n",
       "|---|---|---|---|---|---|---|---|---|---|---|---|---|---|---|---|---|---|---|---|---|---|\n",
       "| nbr.val |   7370.00           | NA                  |              2993.0 | 7375.0000           | 7375.0000           | 7375.00000          | 7375.0000           |  7375.000           |     7374.0000       |  7374.000           | ...                 | 7341.0000           | 7341.0000           | 7341.0000           | 7341.0000           | 7341.0000           | 7341.0000           | 7341.00000          | 7341.000            | 7341.0000           | 7341.0000           |\n",
       "| nbr.null |     19.00           | NA                  |                 0.0 | 1039.0000           | 5012.0000           |    2.00000          | 1442.0000           |   649.000           |        0.0000       |     0.000           | ...                 | 5988.0000           | 7194.0000           | 6971.0000           | 5293.0000           | 6297.0000           | 6516.0000           | 7336.00000          | 3872.000            | 6840.0000           | 7281.0000           |\n",
       "| nbr.na |      5.00           | NA                  |              4382.0 |    0.0000           |    0.0000           |    0.00000          |    0.0000           |     0.000           |        1.0000       |     1.000           | ...                 |   34.0000           |   34.0000           |   34.0000           |   34.0000           |   34.0000           |   34.0000           |   34.00000          |   34.000            |   34.0000           |   34.0000           |\n",
       "| min |      0.00           | NA                  |                 1.0 |    0.0000           |    0.0000           |    0.00000          |    0.0000           |     0.000           |     1918.0000       |     1.000           | ...                 |    0.0000           |    0.0000           |    0.0000           |    0.0000           |    0.0000           |    0.0000           |    0.00000          |    0.000            |    0.0000           |    0.0000           |\n",
       "| max |    338.00           | NA                  |        1519557910.0 |    1.0000           |    1.0000           |    1.00000          |    1.0000           |   149.000           |     2017.0000       |    12.000           | ...                 |    7.0000           |    3.0000           |   10.0000           |    6.0000           |    4.0000           |    5.0000           |    1.00000          |   12.000            |    6.0000           |    2.0000           |\n",
       "| range |    338.00           | NA                  |        1519557909.0 |    1.0000           |    1.0000           |    1.00000          |    1.0000           |   149.000           |       99.0000       |    11.000           | ...                 |    7.0000           |    3.0000           |   10.0000           |    6.0000           |    4.0000           |    5.0000           |    1.00000          |   12.000            |    6.0000           |    2.0000           |\n",
       "| sum | 794097.00           | NA                  |      200169779760.0 | 6336.0000           | 2363.0000           | 7373.00000          | 5933.0000           | 53579.000           | 14745625.0000       | 50471.000           | ...                 | 1726.0000           |  150.0000           |  473.0000           | 2595.0000           | 1127.0000           |  893.0000           |    5.00000          | 6898.000            |  581.0000           |   62.0000           |\n",
       "| median |    104.00           | NA                  |          16928137.0 |    1.0000           |    0.0000           |    1.00000          |    1.0000           |     6.000           |     2004.0000       |     7.000           | ...                 |    0.0000           |    0.0000           |    0.0000           |    0.0000           |    0.0000           |    0.0000           |    0.00000          |    0.000            |    0.0000           |    0.0000           |\n",
       "| mean |    107.75           | NA                  |          66879311.6 |    0.8591           |    0.3204           |    0.99973          |    0.8045           |     7.265           |     1999.6779       |     6.844           | ...                 |    0.2351           |    0.0204           |    0.0644           |    0.3535           |    0.1535           |    0.1216           |    0.00068          |    0.940            |    0.0791           |    0.0084           |\n",
       "| SE.mean |      0.25           | NA                  |           2516188.3 |    0.0041           |    0.0054           |    0.00019          |    0.0046           |     0.073           |        0.1790       |     0.039           | ...                 |    0.0065           |    0.0017           |    0.0039           |    0.0076           |    0.0046           |    0.0042           |    0.00030          |    0.016            |    0.0037           |    0.0011           |\n",
       "| CI.mean.0.95 |      0.49           | NA                  |           4933634.3 |    0.0079           |    0.0107           |    0.00038          |    0.0091           |     0.143           |        0.3510       |     0.077           | ...                 |    0.0128           |    0.0033           |    0.0077           |    0.0149           |    0.0090           |    0.0082           |    0.00060          |    0.030            |    0.0072           |    0.0022           |\n",
       "| var |    458.50           | NA                  | 18949292507956320.0 |    0.1211           |    0.2178           |    0.00027          |    0.1573           |    39.090           |      236.3624       |    11.468           | ...                 |    0.3115           |    0.0211           |    0.1126           |    0.4245           |    0.1556           |    0.1281           |    0.00068          |    1.767            |    0.1001           |    0.0089           |\n",
       "| std.dev |     21.41           | NA                  |         137656429.2 |    0.3479           |    0.4667           |    0.01647          |    0.3966           |     6.252           |       15.3741       |     3.386           | ...                 |    0.5581           |    0.1453           |    0.3356           |    0.6515           |    0.3944           |    0.3579           |    0.02609          |    1.329            |    0.3164           |    0.0944           |\n",
       "| coef.var |      0.20           | NA                  |                 2.1 |    0.4050           |    1.4565           |    0.01647          |    0.4930           |     0.861           |        0.0077       |     0.495           | ...                 |    2.3737           |    7.1103           |    5.2080           |    1.8431           |    2.5693           |    2.9424           |   38.30666          |    1.415            |    3.9983           |   11.1830           |\n",
       "\n"
      ],
      "text/plain": [
       "             runtime   runtime_cat revenue             sw_lang_en\n",
       "nbr.val        7370.00 NA                       2993.0 7375.0000 \n",
       "nbr.null         19.00 NA                          0.0 1039.0000 \n",
       "nbr.na            5.00 NA                       4382.0    0.0000 \n",
       "min               0.00 NA                          1.0    0.0000 \n",
       "max             338.00 NA                 1519557910.0    1.0000 \n",
       "range           338.00 NA                 1519557909.0    1.0000 \n",
       "sum          794097.00 NA               200169779760.0 6336.0000 \n",
       "median          104.00 NA                   16928137.0    1.0000 \n",
       "mean            107.75 NA                   66879311.6    0.8591 \n",
       "SE.mean           0.25 NA                    2516188.3    0.0041 \n",
       "CI.mean.0.95      0.49 NA                    4933634.3    0.0079 \n",
       "var             458.50 NA          18949292507956320.0    0.1211 \n",
       "std.dev          21.41 NA                  137656429.2    0.3479 \n",
       "coef.var          0.20 NA                          2.1    0.4050 \n",
       "             sw_web_presence sw_has_poster sw_tagline keyword_cnt release_year \n",
       "nbr.val      7375.0000       7375.00000    7375.0000   7375.000       7374.0000\n",
       "nbr.null     5012.0000          2.00000    1442.0000    649.000          0.0000\n",
       "nbr.na          0.0000          0.00000       0.0000      0.000          1.0000\n",
       "min             0.0000          0.00000       0.0000      0.000       1918.0000\n",
       "max             1.0000          1.00000       1.0000    149.000       2017.0000\n",
       "range           1.0000          1.00000       1.0000    149.000         99.0000\n",
       "sum          2363.0000       7373.00000    5933.0000  53579.000   14745625.0000\n",
       "median          0.0000          1.00000       1.0000      6.000       2004.0000\n",
       "mean            0.3204          0.99973       0.8045      7.265       1999.6779\n",
       "SE.mean         0.0054          0.00019       0.0046      0.073          0.1790\n",
       "CI.mean.0.95    0.0107          0.00038       0.0091      0.143          0.3510\n",
       "var             0.2178          0.00027       0.1573     39.090        236.3624\n",
       "std.dev         0.4667          0.01647       0.3966      6.252         15.3741\n",
       "coef.var        1.4565          0.01647       0.4930      0.861          0.0077\n",
       "             release_month ... depart_Art_female depart_Camera_female\n",
       "nbr.val       7374.000     ... 7341.0000         7341.0000           \n",
       "nbr.null         0.000     ... 5988.0000         7194.0000           \n",
       "nbr.na           1.000     ...   34.0000           34.0000           \n",
       "min              1.000     ...    0.0000            0.0000           \n",
       "max             12.000     ...    7.0000            3.0000           \n",
       "range           11.000     ...    7.0000            3.0000           \n",
       "sum          50471.000     ... 1726.0000          150.0000           \n",
       "median           7.000     ...    0.0000            0.0000           \n",
       "mean             6.844     ...    0.2351            0.0204           \n",
       "SE.mean          0.039     ...    0.0065            0.0017           \n",
       "CI.mean.0.95     0.077     ...    0.0128            0.0033           \n",
       "var             11.468     ...    0.3115            0.0211           \n",
       "std.dev          3.386     ...    0.5581            0.1453           \n",
       "coef.var         0.495     ...    2.3737            7.1103           \n",
       "             depart_Crew_female depart_Custom_Mkup_female\n",
       "nbr.val      7341.0000          7341.0000                \n",
       "nbr.null     6971.0000          5293.0000                \n",
       "nbr.na         34.0000            34.0000                \n",
       "min             0.0000             0.0000                \n",
       "max            10.0000             6.0000                \n",
       "range          10.0000             6.0000                \n",
       "sum           473.0000          2595.0000                \n",
       "median          0.0000             0.0000                \n",
       "mean            0.0644             0.3535                \n",
       "SE.mean         0.0039             0.0076                \n",
       "CI.mean.0.95    0.0077             0.0149                \n",
       "var             0.1126             0.4245                \n",
       "std.dev         0.3356             0.6515                \n",
       "coef.var        5.2080             1.8431                \n",
       "             depart_Directing_female depart_Editing_female\n",
       "nbr.val      7341.0000               7341.0000            \n",
       "nbr.null     6297.0000               6516.0000            \n",
       "nbr.na         34.0000                 34.0000            \n",
       "min             0.0000                  0.0000            \n",
       "max             4.0000                  5.0000            \n",
       "range           4.0000                  5.0000            \n",
       "sum          1127.0000                893.0000            \n",
       "median          0.0000                  0.0000            \n",
       "mean            0.1535                  0.1216            \n",
       "SE.mean         0.0046                  0.0042            \n",
       "CI.mean.0.95    0.0090                  0.0082            \n",
       "var             0.1556                  0.1281            \n",
       "std.dev         0.3944                  0.3579            \n",
       "coef.var        2.5693                  2.9424            \n",
       "             depart_Lighting_female depart_Production_female\n",
       "nbr.val      7341.00000             7341.000                \n",
       "nbr.null     7336.00000             3872.000                \n",
       "nbr.na         34.00000               34.000                \n",
       "min             0.00000                0.000                \n",
       "max             1.00000               12.000                \n",
       "range           1.00000               12.000                \n",
       "sum             5.00000             6898.000                \n",
       "median          0.00000                0.000                \n",
       "mean            0.00068                0.940                \n",
       "SE.mean         0.00030                0.016                \n",
       "CI.mean.0.95    0.00060                0.030                \n",
       "var             0.00068                1.767                \n",
       "std.dev         0.02609                1.329                \n",
       "coef.var       38.30666                1.415                \n",
       "             depart_Sound_female depart_Visual_Effects_female\n",
       "nbr.val      7341.0000           7341.0000                   \n",
       "nbr.null     6840.0000           7281.0000                   \n",
       "nbr.na         34.0000             34.0000                   \n",
       "min             0.0000              0.0000                   \n",
       "max             6.0000              2.0000                   \n",
       "range           6.0000              2.0000                   \n",
       "sum           581.0000             62.0000                   \n",
       "median          0.0000              0.0000                   \n",
       "mean            0.0791              0.0084                   \n",
       "SE.mean         0.0037              0.0011                   \n",
       "CI.mean.0.95    0.0072              0.0022                   \n",
       "var             0.1001              0.0089                   \n",
       "std.dev         0.3164              0.0944                   \n",
       "coef.var        3.9983             11.1830                   "
      ]
     },
     "metadata": {},
     "output_type": "display_data"
    }
   ],
   "source": [
    "\n",
    "library(pastecs)\n",
    "options(scipen=100)\n",
    "options(digits=2)\n",
    "stat.desc(movies_ff[,6:84], basic=TRUE, desc=TRUE, norm=FALSE, p=0.95)"
   ]
  },
  {
   "cell_type": "code",
   "execution_count": 26,
   "metadata": {},
   "outputs": [
    {
     "data": {
      "text/html": [
       "<dl class=dl-horizontal>\n",
       "\t<dt>movie_id</dt>\n",
       "\t\t<dd>7375</dd>\n",
       "\t<dt>budget</dt>\n",
       "\t\t<dd>704</dd>\n",
       "\t<dt>original_language</dt>\n",
       "\t\t<dd>44</dd>\n",
       "\t<dt>popularity</dt>\n",
       "\t\t<dd>7371</dd>\n",
       "\t<dt>release_date</dt>\n",
       "\t\t<dd>4697</dd>\n",
       "\t<dt>runtime</dt>\n",
       "\t\t<dd>168</dd>\n",
       "\t<dt>runtime_cat</dt>\n",
       "\t\t<dd>3</dd>\n",
       "\t<dt>revenue</dt>\n",
       "\t\t<dd>2845</dd>\n",
       "\t<dt>sw_lang_en</dt>\n",
       "\t\t<dd>2</dd>\n",
       "\t<dt>sw_web_presence</dt>\n",
       "\t\t<dd>2</dd>\n",
       "\t<dt>sw_has_poster</dt>\n",
       "\t\t<dd>2</dd>\n",
       "\t<dt>sw_tagline</dt>\n",
       "\t\t<dd>2</dd>\n",
       "\t<dt>keyword_cnt</dt>\n",
       "\t\t<dd>46</dd>\n",
       "\t<dt>release_year</dt>\n",
       "\t\t<dd>99</dd>\n",
       "\t<dt>release_month</dt>\n",
       "\t\t<dd>13</dd>\n",
       "\t<dt>high_release_month</dt>\n",
       "\t\t<dd>2</dd>\n",
       "\t<dt>release_day</dt>\n",
       "\t\t<dd>32</dd>\n",
       "\t<dt>seasonality</dt>\n",
       "\t\t<dd>13</dd>\n",
       "\t<dt>sw_collection</dt>\n",
       "\t\t<dd>3</dd>\n",
       "\t<dt>producers_cnt</dt>\n",
       "\t\t<dd>25</dd>\n",
       "\t<dt>countries_cnt</dt>\n",
       "\t\t<dd>12</dd>\n",
       "\t<dt>lang_US</dt>\n",
       "\t\t<dd>2</dd>\n",
       "\t<dt>lang_FR</dt>\n",
       "\t\t<dd>2</dd>\n",
       "\t<dt>lang_RU</dt>\n",
       "\t\t<dd>2</dd>\n",
       "\t<dt>lang_ES</dt>\n",
       "\t\t<dd>2</dd>\n",
       "\t<dt>lang_JA</dt>\n",
       "\t\t<dd>2</dd>\n",
       "\t<dt>keywords_cnt</dt>\n",
       "\t\t<dd>46</dd>\n",
       "\t<dt>actor0_movies_cnt</dt>\n",
       "\t\t<dd>61</dd>\n",
       "\t<dt>actor0_movies_5y_cnt</dt>\n",
       "\t\t<dd>17</dd>\n",
       "\t<dt>actor1_movies_cnt</dt>\n",
       "\t\t<dd>59</dd>\n",
       "\t<dt>actor1_movies_5y_cnt</dt>\n",
       "\t\t<dd>18</dd>\n",
       "\t<dt>actor2_movies_cnt</dt>\n",
       "\t\t<dd>53</dd>\n",
       "\t<dt>actor2_movies_5y_cnt</dt>\n",
       "\t\t<dd>16</dd>\n",
       "\t<dt>sw_female_actor0</dt>\n",
       "\t\t<dd>3</dd>\n",
       "\t<dt>sw_female_actor1</dt>\n",
       "\t\t<dd>3</dd>\n",
       "\t<dt>sw_female_actor2</dt>\n",
       "\t\t<dd>3</dd>\n",
       "\t<dt>sw_male_actor0</dt>\n",
       "\t\t<dd>3</dd>\n",
       "\t<dt>sw_male_actor1</dt>\n",
       "\t\t<dd>3</dd>\n",
       "\t<dt>sw_male_actor2</dt>\n",
       "\t\t<dd>3</dd>\n",
       "\t<dt>actor0_prev_revenue</dt>\n",
       "\t\t<dd>1152</dd>\n",
       "\t<dt>actor1_prev_revenue</dt>\n",
       "\t\t<dd>1265</dd>\n",
       "\t<dt>actor2_prev_revenue</dt>\n",
       "\t\t<dd>1341</dd>\n",
       "\t<dt>director_movies_cnt</dt>\n",
       "\t\t<dd>30</dd>\n",
       "\t<dt>director_movies_5y_cnt</dt>\n",
       "\t\t<dd>7</dd>\n",
       "\t<dt>genre_adventure</dt>\n",
       "\t\t<dd>2</dd>\n",
       "\t<dt>genre_fantasy</dt>\n",
       "\t\t<dd>2</dd>\n",
       "\t<dt>genre_animation</dt>\n",
       "\t\t<dd>2</dd>\n",
       "\t<dt>genre_drama</dt>\n",
       "\t\t<dd>2</dd>\n",
       "\t<dt>genre_horror</dt>\n",
       "\t\t<dd>2</dd>\n",
       "\t<dt>genre_action</dt>\n",
       "\t\t<dd>2</dd>\n",
       "\t<dt>genre_comedy</dt>\n",
       "\t\t<dd>2</dd>\n",
       "\t<dt>genre_history</dt>\n",
       "\t\t<dd>2</dd>\n",
       "\t<dt>genre_western</dt>\n",
       "\t\t<dd>2</dd>\n",
       "\t<dt>genre_thriller</dt>\n",
       "\t\t<dd>2</dd>\n",
       "\t<dt>genre_crime</dt>\n",
       "\t\t<dd>2</dd>\n",
       "\t<dt>genre_documentary</dt>\n",
       "\t\t<dd>2</dd>\n",
       "\t<dt>genre_science_fiction</dt>\n",
       "\t\t<dd>2</dd>\n",
       "\t<dt>genre_mystery</dt>\n",
       "\t\t<dd>2</dd>\n",
       "\t<dt>genre_music</dt>\n",
       "\t\t<dd>2</dd>\n",
       "\t<dt>genre_romance</dt>\n",
       "\t\t<dd>2</dd>\n",
       "\t<dt>genre_family</dt>\n",
       "\t\t<dd>2</dd>\n",
       "\t<dt>genre_war</dt>\n",
       "\t\t<dd>2</dd>\n",
       "\t<dt>genre_foreign</dt>\n",
       "\t\t<dd>2</dd>\n",
       "\t<dt>depart_Art</dt>\n",
       "\t\t<dd>35</dd>\n",
       "\t<dt>depart_Camera</dt>\n",
       "\t\t<dd>24</dd>\n",
       "\t<dt>depart_Crew</dt>\n",
       "\t\t<dd>51</dd>\n",
       "\t<dt>depart_Custom_Mkup</dt>\n",
       "\t\t<dd>28</dd>\n",
       "\t<dt>depart_Directing</dt>\n",
       "\t\t<dd>24</dd>\n",
       "\t<dt>depart_Editing</dt>\n",
       "\t\t<dd>17</dd>\n",
       "\t<dt>depart_Lighting</dt>\n",
       "\t\t<dd>14</dd>\n",
       "\t<dt>depart_Production</dt>\n",
       "\t\t<dd>38</dd>\n",
       "\t<dt>depart_Sound</dt>\n",
       "\t\t<dd>35</dd>\n",
       "\t<dt>depart_Visual_Effects</dt>\n",
       "\t\t<dd>46</dd>\n",
       "\t<dt>depart_Writing</dt>\n",
       "\t\t<dd>21</dd>\n",
       "\t<dt>depart_Art_female</dt>\n",
       "\t\t<dd>9</dd>\n",
       "\t<dt>depart_Camera_female</dt>\n",
       "\t\t<dd>5</dd>\n",
       "\t<dt>depart_Crew_female</dt>\n",
       "\t\t<dd>9</dd>\n",
       "\t<dt>depart_Custom_Mkup_female</dt>\n",
       "\t\t<dd>8</dd>\n",
       "\t<dt>depart_Directing_female</dt>\n",
       "\t\t<dd>6</dd>\n",
       "\t<dt>depart_Editing_female</dt>\n",
       "\t\t<dd>6</dd>\n",
       "\t<dt>depart_Lighting_female</dt>\n",
       "\t\t<dd>3</dd>\n",
       "\t<dt>depart_Production_female</dt>\n",
       "\t\t<dd>13</dd>\n",
       "\t<dt>depart_Sound_female</dt>\n",
       "\t\t<dd>7</dd>\n",
       "\t<dt>depart_Visual_Effects_female</dt>\n",
       "\t\t<dd>4</dd>\n",
       "\t<dt>depart_Writing_female</dt>\n",
       "\t\t<dd>7</dd>\n",
       "</dl>\n"
      ],
      "text/latex": [
       "\\begin{description*}\n",
       "\\item[movie\\textbackslash{}\\_id] 7375\n",
       "\\item[budget] 704\n",
       "\\item[original\\textbackslash{}\\_language] 44\n",
       "\\item[popularity] 7371\n",
       "\\item[release\\textbackslash{}\\_date] 4697\n",
       "\\item[runtime] 168\n",
       "\\item[runtime\\textbackslash{}\\_cat] 3\n",
       "\\item[revenue] 2845\n",
       "\\item[sw\\textbackslash{}\\_lang\\textbackslash{}\\_en] 2\n",
       "\\item[sw\\textbackslash{}\\_web\\textbackslash{}\\_presence] 2\n",
       "\\item[sw\\textbackslash{}\\_has\\textbackslash{}\\_poster] 2\n",
       "\\item[sw\\textbackslash{}\\_tagline] 2\n",
       "\\item[keyword\\textbackslash{}\\_cnt] 46\n",
       "\\item[release\\textbackslash{}\\_year] 99\n",
       "\\item[release\\textbackslash{}\\_month] 13\n",
       "\\item[high\\textbackslash{}\\_release\\textbackslash{}\\_month] 2\n",
       "\\item[release\\textbackslash{}\\_day] 32\n",
       "\\item[seasonality] 13\n",
       "\\item[sw\\textbackslash{}\\_collection] 3\n",
       "\\item[producers\\textbackslash{}\\_cnt] 25\n",
       "\\item[countries\\textbackslash{}\\_cnt] 12\n",
       "\\item[lang\\textbackslash{}\\_US] 2\n",
       "\\item[lang\\textbackslash{}\\_FR] 2\n",
       "\\item[lang\\textbackslash{}\\_RU] 2\n",
       "\\item[lang\\textbackslash{}\\_ES] 2\n",
       "\\item[lang\\textbackslash{}\\_JA] 2\n",
       "\\item[keywords\\textbackslash{}\\_cnt] 46\n",
       "\\item[actor0\\textbackslash{}\\_movies\\textbackslash{}\\_cnt] 61\n",
       "\\item[actor0\\textbackslash{}\\_movies\\textbackslash{}\\_5y\\textbackslash{}\\_cnt] 17\n",
       "\\item[actor1\\textbackslash{}\\_movies\\textbackslash{}\\_cnt] 59\n",
       "\\item[actor1\\textbackslash{}\\_movies\\textbackslash{}\\_5y\\textbackslash{}\\_cnt] 18\n",
       "\\item[actor2\\textbackslash{}\\_movies\\textbackslash{}\\_cnt] 53\n",
       "\\item[actor2\\textbackslash{}\\_movies\\textbackslash{}\\_5y\\textbackslash{}\\_cnt] 16\n",
       "\\item[sw\\textbackslash{}\\_female\\textbackslash{}\\_actor0] 3\n",
       "\\item[sw\\textbackslash{}\\_female\\textbackslash{}\\_actor1] 3\n",
       "\\item[sw\\textbackslash{}\\_female\\textbackslash{}\\_actor2] 3\n",
       "\\item[sw\\textbackslash{}\\_male\\textbackslash{}\\_actor0] 3\n",
       "\\item[sw\\textbackslash{}\\_male\\textbackslash{}\\_actor1] 3\n",
       "\\item[sw\\textbackslash{}\\_male\\textbackslash{}\\_actor2] 3\n",
       "\\item[actor0\\textbackslash{}\\_prev\\textbackslash{}\\_revenue] 1152\n",
       "\\item[actor1\\textbackslash{}\\_prev\\textbackslash{}\\_revenue] 1265\n",
       "\\item[actor2\\textbackslash{}\\_prev\\textbackslash{}\\_revenue] 1341\n",
       "\\item[director\\textbackslash{}\\_movies\\textbackslash{}\\_cnt] 30\n",
       "\\item[director\\textbackslash{}\\_movies\\textbackslash{}\\_5y\\textbackslash{}\\_cnt] 7\n",
       "\\item[genre\\textbackslash{}\\_adventure] 2\n",
       "\\item[genre\\textbackslash{}\\_fantasy] 2\n",
       "\\item[genre\\textbackslash{}\\_animation] 2\n",
       "\\item[genre\\textbackslash{}\\_drama] 2\n",
       "\\item[genre\\textbackslash{}\\_horror] 2\n",
       "\\item[genre\\textbackslash{}\\_action] 2\n",
       "\\item[genre\\textbackslash{}\\_comedy] 2\n",
       "\\item[genre\\textbackslash{}\\_history] 2\n",
       "\\item[genre\\textbackslash{}\\_western] 2\n",
       "\\item[genre\\textbackslash{}\\_thriller] 2\n",
       "\\item[genre\\textbackslash{}\\_crime] 2\n",
       "\\item[genre\\textbackslash{}\\_documentary] 2\n",
       "\\item[genre\\textbackslash{}\\_science\\textbackslash{}\\_fiction] 2\n",
       "\\item[genre\\textbackslash{}\\_mystery] 2\n",
       "\\item[genre\\textbackslash{}\\_music] 2\n",
       "\\item[genre\\textbackslash{}\\_romance] 2\n",
       "\\item[genre\\textbackslash{}\\_family] 2\n",
       "\\item[genre\\textbackslash{}\\_war] 2\n",
       "\\item[genre\\textbackslash{}\\_foreign] 2\n",
       "\\item[depart\\textbackslash{}\\_Art] 35\n",
       "\\item[depart\\textbackslash{}\\_Camera] 24\n",
       "\\item[depart\\textbackslash{}\\_Crew] 51\n",
       "\\item[depart\\textbackslash{}\\_Custom\\textbackslash{}\\_Mkup] 28\n",
       "\\item[depart\\textbackslash{}\\_Directing] 24\n",
       "\\item[depart\\textbackslash{}\\_Editing] 17\n",
       "\\item[depart\\textbackslash{}\\_Lighting] 14\n",
       "\\item[depart\\textbackslash{}\\_Production] 38\n",
       "\\item[depart\\textbackslash{}\\_Sound] 35\n",
       "\\item[depart\\textbackslash{}\\_Visual\\textbackslash{}\\_Effects] 46\n",
       "\\item[depart\\textbackslash{}\\_Writing] 21\n",
       "\\item[depart\\textbackslash{}\\_Art\\textbackslash{}\\_female] 9\n",
       "\\item[depart\\textbackslash{}\\_Camera\\textbackslash{}\\_female] 5\n",
       "\\item[depart\\textbackslash{}\\_Crew\\textbackslash{}\\_female] 9\n",
       "\\item[depart\\textbackslash{}\\_Custom\\textbackslash{}\\_Mkup\\textbackslash{}\\_female] 8\n",
       "\\item[depart\\textbackslash{}\\_Directing\\textbackslash{}\\_female] 6\n",
       "\\item[depart\\textbackslash{}\\_Editing\\textbackslash{}\\_female] 6\n",
       "\\item[depart\\textbackslash{}\\_Lighting\\textbackslash{}\\_female] 3\n",
       "\\item[depart\\textbackslash{}\\_Production\\textbackslash{}\\_female] 13\n",
       "\\item[depart\\textbackslash{}\\_Sound\\textbackslash{}\\_female] 7\n",
       "\\item[depart\\textbackslash{}\\_Visual\\textbackslash{}\\_Effects\\textbackslash{}\\_female] 4\n",
       "\\item[depart\\textbackslash{}\\_Writing\\textbackslash{}\\_female] 7\n",
       "\\end{description*}\n"
      ],
      "text/markdown": [
       "movie_id\n",
       ":   7375budget\n",
       ":   704original_language\n",
       ":   44popularity\n",
       ":   7371release_date\n",
       ":   4697runtime\n",
       ":   168runtime_cat\n",
       ":   3revenue\n",
       ":   2845sw_lang_en\n",
       ":   2sw_web_presence\n",
       ":   2sw_has_poster\n",
       ":   2sw_tagline\n",
       ":   2keyword_cnt\n",
       ":   46release_year\n",
       ":   99release_month\n",
       ":   13high_release_month\n",
       ":   2release_day\n",
       ":   32seasonality\n",
       ":   13sw_collection\n",
       ":   3producers_cnt\n",
       ":   25countries_cnt\n",
       ":   12lang_US\n",
       ":   2lang_FR\n",
       ":   2lang_RU\n",
       ":   2lang_ES\n",
       ":   2lang_JA\n",
       ":   2keywords_cnt\n",
       ":   46actor0_movies_cnt\n",
       ":   61actor0_movies_5y_cnt\n",
       ":   17actor1_movies_cnt\n",
       ":   59actor1_movies_5y_cnt\n",
       ":   18actor2_movies_cnt\n",
       ":   53actor2_movies_5y_cnt\n",
       ":   16sw_female_actor0\n",
       ":   3sw_female_actor1\n",
       ":   3sw_female_actor2\n",
       ":   3sw_male_actor0\n",
       ":   3sw_male_actor1\n",
       ":   3sw_male_actor2\n",
       ":   3actor0_prev_revenue\n",
       ":   1152actor1_prev_revenue\n",
       ":   1265actor2_prev_revenue\n",
       ":   1341director_movies_cnt\n",
       ":   30director_movies_5y_cnt\n",
       ":   7genre_adventure\n",
       ":   2genre_fantasy\n",
       ":   2genre_animation\n",
       ":   2genre_drama\n",
       ":   2genre_horror\n",
       ":   2genre_action\n",
       ":   2genre_comedy\n",
       ":   2genre_history\n",
       ":   2genre_western\n",
       ":   2genre_thriller\n",
       ":   2genre_crime\n",
       ":   2genre_documentary\n",
       ":   2genre_science_fiction\n",
       ":   2genre_mystery\n",
       ":   2genre_music\n",
       ":   2genre_romance\n",
       ":   2genre_family\n",
       ":   2genre_war\n",
       ":   2genre_foreign\n",
       ":   2depart_Art\n",
       ":   35depart_Camera\n",
       ":   24depart_Crew\n",
       ":   51depart_Custom_Mkup\n",
       ":   28depart_Directing\n",
       ":   24depart_Editing\n",
       ":   17depart_Lighting\n",
       ":   14depart_Production\n",
       ":   38depart_Sound\n",
       ":   35depart_Visual_Effects\n",
       ":   46depart_Writing\n",
       ":   21depart_Art_female\n",
       ":   9depart_Camera_female\n",
       ":   5depart_Crew_female\n",
       ":   9depart_Custom_Mkup_female\n",
       ":   8depart_Directing_female\n",
       ":   6depart_Editing_female\n",
       ":   6depart_Lighting_female\n",
       ":   3depart_Production_female\n",
       ":   13depart_Sound_female\n",
       ":   7depart_Visual_Effects_female\n",
       ":   4depart_Writing_female\n",
       ":   7\n",
       "\n"
      ],
      "text/plain": [
       "                    movie_id                       budget \n",
       "                        7375                          704 \n",
       "           original_language                   popularity \n",
       "                          44                         7371 \n",
       "                release_date                      runtime \n",
       "                        4697                          168 \n",
       "                 runtime_cat                      revenue \n",
       "                           3                         2845 \n",
       "                  sw_lang_en              sw_web_presence \n",
       "                           2                            2 \n",
       "               sw_has_poster                   sw_tagline \n",
       "                           2                            2 \n",
       "                 keyword_cnt                 release_year \n",
       "                          46                           99 \n",
       "               release_month           high_release_month \n",
       "                          13                            2 \n",
       "                 release_day                  seasonality \n",
       "                          32                           13 \n",
       "               sw_collection                producers_cnt \n",
       "                           3                           25 \n",
       "               countries_cnt                      lang_US \n",
       "                          12                            2 \n",
       "                     lang_FR                      lang_RU \n",
       "                           2                            2 \n",
       "                     lang_ES                      lang_JA \n",
       "                           2                            2 \n",
       "                keywords_cnt            actor0_movies_cnt \n",
       "                          46                           61 \n",
       "        actor0_movies_5y_cnt            actor1_movies_cnt \n",
       "                          17                           59 \n",
       "        actor1_movies_5y_cnt            actor2_movies_cnt \n",
       "                          18                           53 \n",
       "        actor2_movies_5y_cnt             sw_female_actor0 \n",
       "                          16                            3 \n",
       "            sw_female_actor1             sw_female_actor2 \n",
       "                           3                            3 \n",
       "              sw_male_actor0               sw_male_actor1 \n",
       "                           3                            3 \n",
       "              sw_male_actor2          actor0_prev_revenue \n",
       "                           3                         1152 \n",
       "         actor1_prev_revenue          actor2_prev_revenue \n",
       "                        1265                         1341 \n",
       "         director_movies_cnt       director_movies_5y_cnt \n",
       "                          30                            7 \n",
       "             genre_adventure                genre_fantasy \n",
       "                           2                            2 \n",
       "             genre_animation                  genre_drama \n",
       "                           2                            2 \n",
       "                genre_horror                 genre_action \n",
       "                           2                            2 \n",
       "                genre_comedy                genre_history \n",
       "                           2                            2 \n",
       "               genre_western               genre_thriller \n",
       "                           2                            2 \n",
       "                 genre_crime            genre_documentary \n",
       "                           2                            2 \n",
       "       genre_science_fiction                genre_mystery \n",
       "                           2                            2 \n",
       "                 genre_music                genre_romance \n",
       "                           2                            2 \n",
       "                genre_family                    genre_war \n",
       "                           2                            2 \n",
       "               genre_foreign                   depart_Art \n",
       "                           2                           35 \n",
       "               depart_Camera                  depart_Crew \n",
       "                          24                           51 \n",
       "          depart_Custom_Mkup             depart_Directing \n",
       "                          28                           24 \n",
       "              depart_Editing              depart_Lighting \n",
       "                          17                           14 \n",
       "           depart_Production                 depart_Sound \n",
       "                          38                           35 \n",
       "       depart_Visual_Effects               depart_Writing \n",
       "                          46                           21 \n",
       "           depart_Art_female         depart_Camera_female \n",
       "                           9                            5 \n",
       "          depart_Crew_female    depart_Custom_Mkup_female \n",
       "                           9                            8 \n",
       "     depart_Directing_female        depart_Editing_female \n",
       "                           6                            6 \n",
       "      depart_Lighting_female     depart_Production_female \n",
       "                           3                           13 \n",
       "         depart_Sound_female depart_Visual_Effects_female \n",
       "                           7                            4 \n",
       "       depart_Writing_female \n",
       "                           7 "
      ]
     },
     "metadata": {},
     "output_type": "display_data"
    }
   ],
   "source": [
    "#####counting unique#####\n",
    "\n",
    "rapply(movies_ff,function(x)length(unique(x)))"
   ]
  },
  {
   "cell_type": "code",
   "execution_count": 43,
   "metadata": {},
   "outputs": [
    {
     "name": "stdout",
     "output_type": "stream",
     "text": [
      "'data.frame':\t7375 obs. of  85 variables:\n",
      " $ movie_id                    : int  1 2 3 4 5 6 7 8 9 10 ...\n",
      " $ budget                      : int  14000000 40000000 3300000 1200000 0 8000000 14000000 0 0 6000000 ...\n",
      " $ original_language           : chr  \"en\" \"en\" \"en\" \"hi\" ...\n",
      " $ popularity                  : num  6.58 8.25 64.3 3.17 1.15 ...\n",
      " $ release_date                : chr  \"2015-02-20\" \"2004-08-06\" \"2014-10-10\" \"2012-03-09\" ...\n",
      " $ runtime                     : num  93 113 105 122 118 83 92 84 100 91 ...\n",
      " $ runtime_cat                 : chr  \"Short\" \"Medium\" \"Medium\" \"Large\" ...\n",
      " $ revenue                     : int  12314651 95149435 13092000 16000000 3923970 3261638 85446075 2586511 34327391 18750246 ...\n",
      " $ sw_lang_en                  : int  1 1 1 0 0 1 1 1 1 1 ...\n",
      " $ sw_web_presence             : int  0 0 1 1 0 0 1 0 0 0 ...\n",
      " $ sw_has_poster               : int  1 1 1 1 1 1 1 1 1 1 ...\n",
      " $ sw_tagline                  : int  1 1 1 0 0 0 1 1 1 1 ...\n",
      " $ keyword_cnt                 : int  4 4 12 7 0 0 0 7 4 2 ...\n",
      " $ release_year                : int  2015 2004 2014 2012 2009 1987 2012 2004 1996 2003 ...\n",
      " $ release_month               : int  2 8 10 3 2 8 8 1 2 4 ...\n",
      " $ high_release_month          : int  0 1 1 0 0 1 1 0 0 0 ...\n",
      " $ release_day                 : int  20 6 10 9 5 6 30 15 16 16 ...\n",
      " $ seasonality                 : int  -15309317 -33273015 -28659422 -7149862 -15309317 -33273015 -33273015 -50746591 -15309317 -28405871 ...\n",
      " $ sw_collection               : int  0 0 0 0 0 0 0 0 0 0 ...\n",
      " $ producers_cnt               : int  3 1 3 NA NA NA 2 NA 3 1 ...\n",
      " $ countries_cnt               : int  1 1 1 1 1 0 2 0 1 1 ...\n",
      " $ lang_US                     : int  1 1 1 1 0 1 1 1 1 1 ...\n",
      " $ lang_FR                     : int  0 0 0 0 0 0 0 0 0 0 ...\n",
      " $ lang_RU                     : int  0 0 0 0 0 0 0 0 0 0 ...\n",
      " $ lang_ES                     : int  0 0 0 0 0 0 0 0 0 0 ...\n",
      " $ lang_JA                     : int  0 0 0 0 0 0 0 0 0 0 ...\n",
      " $ keywords_cnt                : int  4 4 12 7 0 0 0 7 4 2 ...\n",
      " $ actor0_movies_cnt           : int  18 3 7 2 0 1 8 0 12 10 ...\n",
      " $ actor0_movies_5y_cnt        : int  11 3 7 1 0 1 7 0 7 3 ...\n",
      " $ actor1_movies_cnt           : int  13 10 34 2 1 0 0 0 0 6 ...\n",
      " $ actor1_movies_5y_cnt        : int  4 2 11 2 0 0 0 0 0 1 ...\n",
      " $ actor2_movies_cnt           : int  8 13 0 0 0 0 1 1 0 4 ...\n",
      " $ actor2_movies_5y_cnt        : int  6 4 0 0 0 0 1 1 0 2 ...\n",
      " $ sw_female_actor0            : int  0 1 0 1 0 0 0 0 0 0 ...\n",
      " $ sw_female_actor1            : int  0 1 0 0 0 0 0 0 0 0 ...\n",
      " $ sw_female_actor2            : int  0 0 1 0 0 0 1 0 1 0 ...\n",
      " $ sw_male_actor0              : int  1 0 1 0 1 1 1 0 1 1 ...\n",
      " $ sw_male_actor1              : int  1 0 1 1 1 1 0 0 1 1 ...\n",
      " $ sw_male_actor2              : int  1 1 0 0 1 0 0 1 0 1 ...\n",
      " $ actor0_prev_revenue         : int  116980662 165335153 48065672 4100000 NA NA 97838349 NA 152022101 147845033 ...\n",
      " $ actor1_prev_revenue         : int  219076518 165335153 231411584 NA NA NA NA NA NA 243240178 ...\n",
      " $ actor2_prev_revenue         : int  121463226 309457509 NA NA NA NA 297138014 NA NA 64256513 ...\n",
      " $ director_movies_cnt         : int  3 9 0 0 0 0 1 0 1 1 ...\n",
      " $ director_movies_5y_cnt      : int  2 2 0 0 0 0 0 0 1 0 ...\n",
      " $ genre_adventure             : int  0 0 0 0 0 1 0 0 1 0 ...\n",
      " $ genre_fantasy               : int  0 0 0 0 0 0 0 0 0 0 ...\n",
      " $ genre_animation             : int  0 0 0 0 0 1 0 0 0 0 ...\n",
      " $ genre_drama                 : int  0 1 1 1 0 0 0 0 0 0 ...\n",
      " $ genre_horror                : int  0 0 0 0 0 0 1 0 0 0 ...\n",
      " $ genre_action                : int  0 0 0 0 1 0 0 0 1 0 ...\n",
      " $ genre_comedy                : int  1 1 0 0 0 0 0 0 1 1 ...\n",
      " $ genre_history               : int  0 0 0 0 0 0 0 0 0 0 ...\n",
      " $ genre_western               : int  0 0 0 0 0 0 0 0 0 0 ...\n",
      " $ genre_thriller              : int  0 0 0 1 1 0 1 0 0 0 ...\n",
      " $ genre_crime                 : int  0 0 0 0 0 0 0 0 0 0 ...\n",
      " $ genre_documentary           : int  0 0 0 0 0 0 0 1 0 0 ...\n",
      " $ genre_science_fiction       : int  0 0 0 0 0 0 0 0 0 0 ...\n",
      " $ genre_mystery               : int  0 0 0 0 0 0 0 0 0 0 ...\n",
      " $ genre_music                 : int  0 0 0 0 0 0 0 0 1 1 ...\n",
      " $ genre_romance               : int  0 1 0 0 0 0 0 0 0 0 ...\n",
      " $ genre_family                : int  0 1 0 0 0 1 0 0 1 0 ...\n",
      " $ genre_war                   : int  0 0 0 0 0 0 0 0 0 0 ...\n",
      " $ genre_foreign               : int  0 0 0 0 0 0 0 0 0 0 ...\n",
      " $ depart_Art                  : int  12 0 5 0 0 1 4 0 0 3 ...\n",
      " $ depart_Camera               : int  8 1 4 0 0 0 11 0 1 1 ...\n",
      " $ depart_Crew                 : int  4 0 9 0 0 0 11 0 0 0 ...\n",
      " $ depart_Custom_Mkup          : int  13 0 5 0 0 0 12 0 0 1 ...\n",
      " $ depart_Directing            : int  4 1 3 1 1 1 4 1 1 1 ...\n",
      " $ depart_Editing              : int  2 1 6 0 0 0 9 0 1 1 ...\n",
      " $ depart_Lighting             : int  4 0 1 0 0 0 4 0 0 0 ...\n",
      " $ depart_Production           : int  9 4 18 1 0 1 8 0 2 2 ...\n",
      " $ depart_Sound                : int  10 1 9 0 0 0 8 0 1 0 ...\n",
      " $ depart_Visual_Effects       : int  4 0 3 0 0 4 2 0 0 0 ...\n",
      " $ depart_Writing              : int  2 1 1 1 1 4 4 0 2 2 ...\n",
      " $ depart_Art_female           : int  0 0 1 0 0 0 1 0 0 1 ...\n",
      " $ depart_Camera_female        : int  0 0 0 0 0 0 0 0 0 1 ...\n",
      " $ depart_Crew_female          : int  0 0 1 0 0 0 0 0 0 0 ...\n",
      " $ depart_Custom_Mkup_female   : int  0 0 0 0 0 0 1 0 0 1 ...\n",
      " $ depart_Directing_female     : int  0 0 0 0 0 0 1 1 0 0 ...\n",
      " $ depart_Editing_female       : int  0 0 0 0 0 0 0 0 0 0 ...\n",
      " $ depart_Lighting_female      : int  0 0 0 0 0 0 0 0 0 0 ...\n",
      " $ depart_Production_female    : int  0 3 2 0 0 0 3 0 0 1 ...\n",
      " $ depart_Sound_female         : int  0 0 0 0 0 0 0 0 0 0 ...\n",
      " $ depart_Visual_Effects_female: int  0 0 0 0 0 0 0 0 0 0 ...\n",
      " $ depart_Writing_female       : int  0 1 0 0 0 0 0 0 0 0 ...\n"
     ]
    }
   ],
   "source": [
    "str(movies_ff)"
   ]
  },
  {
   "cell_type": "code",
   "execution_count": 44,
   "metadata": {},
   "outputs": [
    {
     "data": {
      "text/html": [
       "<ol class=list-inline>\n",
       "\t<li>7375</li>\n",
       "\t<li>85</li>\n",
       "</ol>\n"
      ],
      "text/latex": [
       "\\begin{enumerate*}\n",
       "\\item 7375\n",
       "\\item 85\n",
       "\\end{enumerate*}\n"
      ],
      "text/markdown": [
       "1. 7375\n",
       "2. 85\n",
       "\n",
       "\n"
      ],
      "text/plain": [
       "[1] 7375   85"
      ]
     },
     "metadata": {},
     "output_type": "display_data"
    }
   ],
   "source": [
    "dim(movies_ff)"
   ]
  },
  {
   "cell_type": "code",
   "execution_count": 45,
   "metadata": {},
   "outputs": [
    {
     "data": {
      "text/html": [
       "<ol class=list-inline>\n",
       "\t<li>'movie_id'</li>\n",
       "\t<li>'budget'</li>\n",
       "\t<li>'original_language'</li>\n",
       "\t<li>'popularity'</li>\n",
       "\t<li>'release_date'</li>\n",
       "\t<li>'runtime'</li>\n",
       "\t<li>'runtime_cat'</li>\n",
       "\t<li>'revenue'</li>\n",
       "\t<li>'sw_lang_en'</li>\n",
       "\t<li>'sw_web_presence'</li>\n",
       "\t<li>'sw_has_poster'</li>\n",
       "\t<li>'sw_tagline'</li>\n",
       "\t<li>'keyword_cnt'</li>\n",
       "\t<li>'release_year'</li>\n",
       "\t<li>'release_month'</li>\n",
       "\t<li>'high_release_month'</li>\n",
       "\t<li>'release_day'</li>\n",
       "\t<li>'seasonality'</li>\n",
       "\t<li>'sw_collection'</li>\n",
       "\t<li>'producers_cnt'</li>\n",
       "\t<li>'countries_cnt'</li>\n",
       "\t<li>'lang_US'</li>\n",
       "\t<li>'lang_FR'</li>\n",
       "\t<li>'lang_RU'</li>\n",
       "\t<li>'lang_ES'</li>\n",
       "\t<li>'lang_JA'</li>\n",
       "\t<li>'keywords_cnt'</li>\n",
       "\t<li>'actor0_movies_cnt'</li>\n",
       "\t<li>'actor0_movies_5y_cnt'</li>\n",
       "\t<li>'actor1_movies_cnt'</li>\n",
       "\t<li>'actor1_movies_5y_cnt'</li>\n",
       "\t<li>'actor2_movies_cnt'</li>\n",
       "\t<li>'actor2_movies_5y_cnt'</li>\n",
       "\t<li>'sw_female_actor0'</li>\n",
       "\t<li>'sw_female_actor1'</li>\n",
       "\t<li>'sw_female_actor2'</li>\n",
       "\t<li>'sw_male_actor0'</li>\n",
       "\t<li>'sw_male_actor1'</li>\n",
       "\t<li>'sw_male_actor2'</li>\n",
       "\t<li>'actor0_prev_revenue'</li>\n",
       "\t<li>'actor1_prev_revenue'</li>\n",
       "\t<li>'actor2_prev_revenue'</li>\n",
       "\t<li>'director_movies_cnt'</li>\n",
       "\t<li>'director_movies_5y_cnt'</li>\n",
       "\t<li>'genre_adventure'</li>\n",
       "\t<li>'genre_fantasy'</li>\n",
       "\t<li>'genre_animation'</li>\n",
       "\t<li>'genre_drama'</li>\n",
       "\t<li>'genre_horror'</li>\n",
       "\t<li>'genre_action'</li>\n",
       "\t<li>'genre_comedy'</li>\n",
       "\t<li>'genre_history'</li>\n",
       "\t<li>'genre_western'</li>\n",
       "\t<li>'genre_thriller'</li>\n",
       "\t<li>'genre_crime'</li>\n",
       "\t<li>'genre_documentary'</li>\n",
       "\t<li>'genre_science_fiction'</li>\n",
       "\t<li>'genre_mystery'</li>\n",
       "\t<li>'genre_music'</li>\n",
       "\t<li>'genre_romance'</li>\n",
       "\t<li>'genre_family'</li>\n",
       "\t<li>'genre_war'</li>\n",
       "\t<li>'genre_foreign'</li>\n",
       "\t<li>'depart_Art'</li>\n",
       "\t<li>'depart_Camera'</li>\n",
       "\t<li>'depart_Crew'</li>\n",
       "\t<li>'depart_Custom_Mkup'</li>\n",
       "\t<li>'depart_Directing'</li>\n",
       "\t<li>'depart_Editing'</li>\n",
       "\t<li>'depart_Lighting'</li>\n",
       "\t<li>'depart_Production'</li>\n",
       "\t<li>'depart_Sound'</li>\n",
       "\t<li>'depart_Visual_Effects'</li>\n",
       "\t<li>'depart_Writing'</li>\n",
       "\t<li>'depart_Art_female'</li>\n",
       "\t<li>'depart_Camera_female'</li>\n",
       "\t<li>'depart_Crew_female'</li>\n",
       "\t<li>'depart_Custom_Mkup_female'</li>\n",
       "\t<li>'depart_Directing_female'</li>\n",
       "\t<li>'depart_Editing_female'</li>\n",
       "\t<li>'depart_Lighting_female'</li>\n",
       "\t<li>'depart_Production_female'</li>\n",
       "\t<li>'depart_Sound_female'</li>\n",
       "\t<li>'depart_Visual_Effects_female'</li>\n",
       "\t<li>'depart_Writing_female'</li>\n",
       "</ol>\n"
      ],
      "text/latex": [
       "\\begin{enumerate*}\n",
       "\\item 'movie\\_id'\n",
       "\\item 'budget'\n",
       "\\item 'original\\_language'\n",
       "\\item 'popularity'\n",
       "\\item 'release\\_date'\n",
       "\\item 'runtime'\n",
       "\\item 'runtime\\_cat'\n",
       "\\item 'revenue'\n",
       "\\item 'sw\\_lang\\_en'\n",
       "\\item 'sw\\_web\\_presence'\n",
       "\\item 'sw\\_has\\_poster'\n",
       "\\item 'sw\\_tagline'\n",
       "\\item 'keyword\\_cnt'\n",
       "\\item 'release\\_year'\n",
       "\\item 'release\\_month'\n",
       "\\item 'high\\_release\\_month'\n",
       "\\item 'release\\_day'\n",
       "\\item 'seasonality'\n",
       "\\item 'sw\\_collection'\n",
       "\\item 'producers\\_cnt'\n",
       "\\item 'countries\\_cnt'\n",
       "\\item 'lang\\_US'\n",
       "\\item 'lang\\_FR'\n",
       "\\item 'lang\\_RU'\n",
       "\\item 'lang\\_ES'\n",
       "\\item 'lang\\_JA'\n",
       "\\item 'keywords\\_cnt'\n",
       "\\item 'actor0\\_movies\\_cnt'\n",
       "\\item 'actor0\\_movies\\_5y\\_cnt'\n",
       "\\item 'actor1\\_movies\\_cnt'\n",
       "\\item 'actor1\\_movies\\_5y\\_cnt'\n",
       "\\item 'actor2\\_movies\\_cnt'\n",
       "\\item 'actor2\\_movies\\_5y\\_cnt'\n",
       "\\item 'sw\\_female\\_actor0'\n",
       "\\item 'sw\\_female\\_actor1'\n",
       "\\item 'sw\\_female\\_actor2'\n",
       "\\item 'sw\\_male\\_actor0'\n",
       "\\item 'sw\\_male\\_actor1'\n",
       "\\item 'sw\\_male\\_actor2'\n",
       "\\item 'actor0\\_prev\\_revenue'\n",
       "\\item 'actor1\\_prev\\_revenue'\n",
       "\\item 'actor2\\_prev\\_revenue'\n",
       "\\item 'director\\_movies\\_cnt'\n",
       "\\item 'director\\_movies\\_5y\\_cnt'\n",
       "\\item 'genre\\_adventure'\n",
       "\\item 'genre\\_fantasy'\n",
       "\\item 'genre\\_animation'\n",
       "\\item 'genre\\_drama'\n",
       "\\item 'genre\\_horror'\n",
       "\\item 'genre\\_action'\n",
       "\\item 'genre\\_comedy'\n",
       "\\item 'genre\\_history'\n",
       "\\item 'genre\\_western'\n",
       "\\item 'genre\\_thriller'\n",
       "\\item 'genre\\_crime'\n",
       "\\item 'genre\\_documentary'\n",
       "\\item 'genre\\_science\\_fiction'\n",
       "\\item 'genre\\_mystery'\n",
       "\\item 'genre\\_music'\n",
       "\\item 'genre\\_romance'\n",
       "\\item 'genre\\_family'\n",
       "\\item 'genre\\_war'\n",
       "\\item 'genre\\_foreign'\n",
       "\\item 'depart\\_Art'\n",
       "\\item 'depart\\_Camera'\n",
       "\\item 'depart\\_Crew'\n",
       "\\item 'depart\\_Custom\\_Mkup'\n",
       "\\item 'depart\\_Directing'\n",
       "\\item 'depart\\_Editing'\n",
       "\\item 'depart\\_Lighting'\n",
       "\\item 'depart\\_Production'\n",
       "\\item 'depart\\_Sound'\n",
       "\\item 'depart\\_Visual\\_Effects'\n",
       "\\item 'depart\\_Writing'\n",
       "\\item 'depart\\_Art\\_female'\n",
       "\\item 'depart\\_Camera\\_female'\n",
       "\\item 'depart\\_Crew\\_female'\n",
       "\\item 'depart\\_Custom\\_Mkup\\_female'\n",
       "\\item 'depart\\_Directing\\_female'\n",
       "\\item 'depart\\_Editing\\_female'\n",
       "\\item 'depart\\_Lighting\\_female'\n",
       "\\item 'depart\\_Production\\_female'\n",
       "\\item 'depart\\_Sound\\_female'\n",
       "\\item 'depart\\_Visual\\_Effects\\_female'\n",
       "\\item 'depart\\_Writing\\_female'\n",
       "\\end{enumerate*}\n"
      ],
      "text/markdown": [
       "1. 'movie_id'\n",
       "2. 'budget'\n",
       "3. 'original_language'\n",
       "4. 'popularity'\n",
       "5. 'release_date'\n",
       "6. 'runtime'\n",
       "7. 'runtime_cat'\n",
       "8. 'revenue'\n",
       "9. 'sw_lang_en'\n",
       "10. 'sw_web_presence'\n",
       "11. 'sw_has_poster'\n",
       "12. 'sw_tagline'\n",
       "13. 'keyword_cnt'\n",
       "14. 'release_year'\n",
       "15. 'release_month'\n",
       "16. 'high_release_month'\n",
       "17. 'release_day'\n",
       "18. 'seasonality'\n",
       "19. 'sw_collection'\n",
       "20. 'producers_cnt'\n",
       "21. 'countries_cnt'\n",
       "22. 'lang_US'\n",
       "23. 'lang_FR'\n",
       "24. 'lang_RU'\n",
       "25. 'lang_ES'\n",
       "26. 'lang_JA'\n",
       "27. 'keywords_cnt'\n",
       "28. 'actor0_movies_cnt'\n",
       "29. 'actor0_movies_5y_cnt'\n",
       "30. 'actor1_movies_cnt'\n",
       "31. 'actor1_movies_5y_cnt'\n",
       "32. 'actor2_movies_cnt'\n",
       "33. 'actor2_movies_5y_cnt'\n",
       "34. 'sw_female_actor0'\n",
       "35. 'sw_female_actor1'\n",
       "36. 'sw_female_actor2'\n",
       "37. 'sw_male_actor0'\n",
       "38. 'sw_male_actor1'\n",
       "39. 'sw_male_actor2'\n",
       "40. 'actor0_prev_revenue'\n",
       "41. 'actor1_prev_revenue'\n",
       "42. 'actor2_prev_revenue'\n",
       "43. 'director_movies_cnt'\n",
       "44. 'director_movies_5y_cnt'\n",
       "45. 'genre_adventure'\n",
       "46. 'genre_fantasy'\n",
       "47. 'genre_animation'\n",
       "48. 'genre_drama'\n",
       "49. 'genre_horror'\n",
       "50. 'genre_action'\n",
       "51. 'genre_comedy'\n",
       "52. 'genre_history'\n",
       "53. 'genre_western'\n",
       "54. 'genre_thriller'\n",
       "55. 'genre_crime'\n",
       "56. 'genre_documentary'\n",
       "57. 'genre_science_fiction'\n",
       "58. 'genre_mystery'\n",
       "59. 'genre_music'\n",
       "60. 'genre_romance'\n",
       "61. 'genre_family'\n",
       "62. 'genre_war'\n",
       "63. 'genre_foreign'\n",
       "64. 'depart_Art'\n",
       "65. 'depart_Camera'\n",
       "66. 'depart_Crew'\n",
       "67. 'depart_Custom_Mkup'\n",
       "68. 'depart_Directing'\n",
       "69. 'depart_Editing'\n",
       "70. 'depart_Lighting'\n",
       "71. 'depart_Production'\n",
       "72. 'depart_Sound'\n",
       "73. 'depart_Visual_Effects'\n",
       "74. 'depart_Writing'\n",
       "75. 'depart_Art_female'\n",
       "76. 'depart_Camera_female'\n",
       "77. 'depart_Crew_female'\n",
       "78. 'depart_Custom_Mkup_female'\n",
       "79. 'depart_Directing_female'\n",
       "80. 'depart_Editing_female'\n",
       "81. 'depart_Lighting_female'\n",
       "82. 'depart_Production_female'\n",
       "83. 'depart_Sound_female'\n",
       "84. 'depart_Visual_Effects_female'\n",
       "85. 'depart_Writing_female'\n",
       "\n",
       "\n"
      ],
      "text/plain": [
       " [1] \"movie_id\"                     \"budget\"                      \n",
       " [3] \"original_language\"            \"popularity\"                  \n",
       " [5] \"release_date\"                 \"runtime\"                     \n",
       " [7] \"runtime_cat\"                  \"revenue\"                     \n",
       " [9] \"sw_lang_en\"                   \"sw_web_presence\"             \n",
       "[11] \"sw_has_poster\"                \"sw_tagline\"                  \n",
       "[13] \"keyword_cnt\"                  \"release_year\"                \n",
       "[15] \"release_month\"                \"high_release_month\"          \n",
       "[17] \"release_day\"                  \"seasonality\"                 \n",
       "[19] \"sw_collection\"                \"producers_cnt\"               \n",
       "[21] \"countries_cnt\"                \"lang_US\"                     \n",
       "[23] \"lang_FR\"                      \"lang_RU\"                     \n",
       "[25] \"lang_ES\"                      \"lang_JA\"                     \n",
       "[27] \"keywords_cnt\"                 \"actor0_movies_cnt\"           \n",
       "[29] \"actor0_movies_5y_cnt\"         \"actor1_movies_cnt\"           \n",
       "[31] \"actor1_movies_5y_cnt\"         \"actor2_movies_cnt\"           \n",
       "[33] \"actor2_movies_5y_cnt\"         \"sw_female_actor0\"            \n",
       "[35] \"sw_female_actor1\"             \"sw_female_actor2\"            \n",
       "[37] \"sw_male_actor0\"               \"sw_male_actor1\"              \n",
       "[39] \"sw_male_actor2\"               \"actor0_prev_revenue\"         \n",
       "[41] \"actor1_prev_revenue\"          \"actor2_prev_revenue\"         \n",
       "[43] \"director_movies_cnt\"          \"director_movies_5y_cnt\"      \n",
       "[45] \"genre_adventure\"              \"genre_fantasy\"               \n",
       "[47] \"genre_animation\"              \"genre_drama\"                 \n",
       "[49] \"genre_horror\"                 \"genre_action\"                \n",
       "[51] \"genre_comedy\"                 \"genre_history\"               \n",
       "[53] \"genre_western\"                \"genre_thriller\"              \n",
       "[55] \"genre_crime\"                  \"genre_documentary\"           \n",
       "[57] \"genre_science_fiction\"        \"genre_mystery\"               \n",
       "[59] \"genre_music\"                  \"genre_romance\"               \n",
       "[61] \"genre_family\"                 \"genre_war\"                   \n",
       "[63] \"genre_foreign\"                \"depart_Art\"                  \n",
       "[65] \"depart_Camera\"                \"depart_Crew\"                 \n",
       "[67] \"depart_Custom_Mkup\"           \"depart_Directing\"            \n",
       "[69] \"depart_Editing\"               \"depart_Lighting\"             \n",
       "[71] \"depart_Production\"            \"depart_Sound\"                \n",
       "[73] \"depart_Visual_Effects\"        \"depart_Writing\"              \n",
       "[75] \"depart_Art_female\"            \"depart_Camera_female\"        \n",
       "[77] \"depart_Crew_female\"           \"depart_Custom_Mkup_female\"   \n",
       "[79] \"depart_Directing_female\"      \"depart_Editing_female\"       \n",
       "[81] \"depart_Lighting_female\"       \"depart_Production_female\"    \n",
       "[83] \"depart_Sound_female\"          \"depart_Visual_Effects_female\"\n",
       "[85] \"depart_Writing_female\"       "
      ]
     },
     "metadata": {},
     "output_type": "display_data"
    }
   ],
   "source": [
    "names(movies_ff)"
   ]
  },
  {
   "cell_type": "markdown",
   "metadata": {},
   "source": [
    "# 2.2 Plots"
   ]
  },
  {
   "cell_type": "code",
   "execution_count": 38,
   "metadata": {},
   "outputs": [
    {
     "data": {
      "image/png": "[encoded data removed]",
      "text/plain": [
       "plot without title"
      ]
     },
     "metadata": {
      "image/png": {
       "height": 480,
       "width": 720
      },
      "text/plain": {
       "height": 480,
       "width": 720
      }
     },
     "output_type": "display_data"
    }
   ],
   "source": [
    "#popularity\n",
    "options(repr.plot.width=12,repr.plot.height=8)\n",
    "ggplot(data=movies_ff) +\n",
    "    geom_density(aes(x = log(popularity)))"
   ]
  },
  {
   "cell_type": "code",
   "execution_count": 37,
   "metadata": {},
   "outputs": [
    {
     "data": {
      "image/png": "[encoded data removed]",
      "text/plain": [
       "plot without title"
      ]
     },
     "metadata": {
      "image/png": {
       "height": 360,
       "width": 720
      },
      "text/plain": {
       "height": 360,
       "width": 720
      }
     },
     "output_type": "display_data"
    }
   ],
   "source": [
    "#popularity\n",
    "ggplot(data=movies_ff) +\n",
    "  geom_point(aes(x=movie_id , y=popularity))"
   ]
  },
  {
   "cell_type": "code",
   "execution_count": 18,
   "metadata": {},
   "outputs": [
    {
     "name": "stderr",
     "output_type": "stream",
     "text": [
      "Warning message:\n",
      "\"Removed 123 rows containing non-finite values (stat_density).\"\n"
     ]
    },
    {
     "data": {
      "image/png": "[encoded data removed]",
      "text/plain": [
       "plot without title"
      ]
     },
     "metadata": {
      "image/png": {
       "height": 420,
       "width": 420
      }
     },
     "output_type": "display_data"
    }
   ],
   "source": [
    "#budget\n",
    "ggplot(data=movies_ff) +\n",
    "    geom_density(aes(x = budget)) + xlim(0,150000000)"
   ]
  },
  {
   "cell_type": "code",
   "execution_count": 47,
   "metadata": {},
   "outputs": [
    {
     "name": "stderr",
     "output_type": "stream",
     "text": [
      "Warning message:\n",
      "\"Removed 4443 rows containing non-finite values (stat_density).\"\n"
     ]
    },
    {
     "data": {
      "image/png": "[encoded data removed]",
      "text/plain": [
       "plot without title"
      ]
     },
     "metadata": {
      "image/png": {
       "height": 420,
       "width": 420
      }
     },
     "output_type": "display_data"
    }
   ],
   "source": [
    "#revenue\n",
    "ggplot(data=movies_ff) +\n",
    "    geom_density(aes(x = revenue))  + xlim(0,500000000)"
   ]
  },
  {
   "cell_type": "code",
   "execution_count": 57,
   "metadata": {},
   "outputs": [
    {
     "name": "stderr",
     "output_type": "stream",
     "text": [
      "Warning message:\n",
      "\"Removed 5 rows containing missing values (geom_point).\"\n"
     ]
    },
    {
     "data": {
      "image/png": "[encoded data removed]",
      "text/plain": [
       "plot without title"
      ]
     },
     "metadata": {
      "image/png": {
       "height": 420,
       "width": 420
      }
     },
     "output_type": "display_data"
    }
   ],
   "source": [
    "#runtime\n",
    "ggplot(data=movies_ff) +\n",
    "  geom_point(aes(x=movie_id , y=runtime)) + geom_hline(yintercept = 75,color=\"red\") + geom_hline(yintercept = 150,color=\"red\")\n"
   ]
  },
  {
   "cell_type": "code",
   "execution_count": 23,
   "metadata": {},
   "outputs": [
    {
     "name": "stderr",
     "output_type": "stream",
     "text": [
      "Warning message:\n",
      "\"Removed 26 rows containing non-finite values (stat_density).\"\n"
     ]
    },
    {
     "data": {
      "image/png": "[encoded data removed]",
      "text/plain": [
       "plot without title"
      ]
     },
     "metadata": {
      "image/png": {
       "height": 420,
       "width": 420
      }
     },
     "output_type": "display_data"
    }
   ],
   "source": [
    "#runtime\n",
    "ggplot(data=movies_ff) +\n",
    "    geom_density(aes(x = runtime)) + xlim(0,200)"
   ]
  },
  {
   "cell_type": "code",
   "execution_count": 33,
   "metadata": {},
   "outputs": [
    {
     "name": "stderr",
     "output_type": "stream",
     "text": [
      "Selecting by n\n"
     ]
    },
    {
     "data": {
      "image/png": "[encoded data removed]",
      "text/plain": [
       "Plot with title \"Number of movies by language\""
      ]
     },
     "metadata": {
      "image/png": {
       "height": 420,
       "width": 420
      }
     },
     "output_type": "display_data"
    }
   ],
   "source": [
    "#language\n",
    "lang_count <- movies_ff %>% group_by(original_language) %>% summarise(n=n()) %>% arrange(desc(n)) %>% top_n(10)\n",
    "barplot(lang_count$n,main=\"Number of movies by language\",legend.text = lang_count[[1]], names.arg = lang_count[[1]] ,xlab=\"language\",ylab=\"# movies\")"
   ]
  },
  {
   "cell_type": "code",
   "execution_count": 71,
   "metadata": {},
   "outputs": [
    {
     "data": {
      "image/png": "[encoded data removed]",
      "text/plain": [
       "Plot with title \"Movies by year\""
      ]
     },
     "metadata": {
      "image/png": {
       "height": 420,
       "width": 420
      }
     },
     "output_type": "display_data"
    }
   ],
   "source": [
    "plot(table(year(movies_ff$release_date)),ylab=\"Number of movies\",xlab=\"year\",main=\"Movies by year\")"
   ]
  },
  {
   "cell_type": "code",
   "execution_count": 32,
   "metadata": {},
   "outputs": [
    {
     "name": "stdout",
     "output_type": "stream",
     "text": [
      "  |                                                                      |   0%"
     ]
    },
    {
     "name": "stderr",
     "output_type": "stream",
     "text": [
      "Warning message in x[floor(d)] + x[ceiling(d)]:\n",
      "\"NAs produced by integer overflow\"\n",
      "Warning message in x[floor(d)] + x[ceiling(d)]:\n",
      "\"NAs produced by integer overflow\"\n"
     ]
    },
    {
     "name": "stdout",
     "output_type": "stream",
     "text": [
      "  |                                                                      |   0%"
     ]
    },
    {
     "name": "stderr",
     "output_type": "stream",
     "text": [
      "Warning message in x[floor(d)] + x[ceiling(d)]:\n",
      "\"NAs produced by integer overflow\"\n",
      "Warning message in x[floor(d)] + x[ceiling(d)]:\n",
      "\"NAs produced by integer overflow\"\n"
     ]
    },
    {
     "name": "stdout",
     "output_type": "stream",
     "text": [
      "  |                                                                      |   0%"
     ]
    },
    {
     "name": "stderr",
     "output_type": "stream",
     "text": [
      "Warning message in x[floor(d)] + x[ceiling(d)]:\n",
      "\"NAs produced by integer overflow\"\n",
      "Warning message in x[floor(d)] + x[ceiling(d)]:\n",
      "\"NAs produced by integer overflow\"\n"
     ]
    },
    {
     "name": "stdout",
     "output_type": "stream",
     "text": [
      "  |                                                                      |   0%"
     ]
    },
    {
     "name": "stderr",
     "output_type": "stream",
     "text": [
      "Warning message in x[floor(d)] + x[ceiling(d)]:\n",
      "\"NAs produced by integer overflow\"\n",
      "Warning message in x[floor(d)] + x[ceiling(d)]:\n",
      "\"NAs produced by integer overflow\"\n"
     ]
    },
    {
     "name": "stdout",
     "output_type": "stream",
     "text": [
      "  |===================================================================== |  99%"
     ]
    },
    {
     "name": "stderr",
     "output_type": "stream",
     "text": [
      "Warning message in system(cmd, intern = intern, wait = wait | intern, show.output.on.console = wait, :\n",
      "\"running command 'C:\\WINDOWS\\system32\\cmd.exe /c explorer  all_args_exploration\\report.html' had status 1\"\n"
     ]
    },
    {
     "data": {
      "text/html": [],
      "text/latex": [],
      "text/markdown": [],
      "text/plain": [
       "character(0)\n",
       "attr(,\"status\")\n",
       "[1] 1"
      ]
     },
     "metadata": {},
     "output_type": "display_data"
    }
   ],
   "source": [
    "## explore data for all arguments\n",
    "exploreData(data=data.frame(movies_ff), dir=\"all_args_exploration\")"
   ]
  },
  {
   "cell_type": "markdown",
   "metadata": {},
   "source": [
    "# 2.3 Correlation Matrix"
   ]
  },
  {
   "cell_type": "code",
   "execution_count": 8,
   "metadata": {},
   "outputs": [
    {
     "name": "stderr",
     "output_type": "stream",
     "text": [
      "Installing package into 'C:/Users/michs/Documents/R/win-library/3.6'\n",
      "(as 'lib' is unspecified)\n",
      "\n"
     ]
    },
    {
     "name": "stdout",
     "output_type": "stream",
     "text": [
      "package 'Hmisc' successfully unpacked and MD5 sums checked\n",
      "\n",
      "The downloaded binary packages are in\n",
      "\tC:\\Users\\michs\\AppData\\Local\\Temp\\RtmpeEkpKz\\downloaded_packages\n"
     ]
    }
   ],
   "source": [
    "install.packages(\"Hmisc\")"
   ]
  },
  {
   "cell_type": "code",
   "execution_count": null,
   "metadata": {},
   "outputs": [],
   "source": [
    "library(Hmisc)"
   ]
  },
  {
   "cell_type": "code",
   "execution_count": 11,
   "metadata": {},
   "outputs": [
    {
     "data": {
      "text/html": [
       "<table>\n",
       "<thead><tr><th scope=col>movie_id</th><th scope=col>budget</th><th scope=col>popularity</th><th scope=col>runtime</th><th scope=col>revenue</th><th scope=col>sw_lang_en</th><th scope=col>sw_web_presence</th><th scope=col>sw_has_poster</th><th scope=col>sw_tagline</th><th scope=col>keyword_cnt</th><th scope=col>...</th><th scope=col>depart_Camera_female</th><th scope=col>depart_Crew_female</th><th scope=col>depart_Custom_Mkup_female</th><th scope=col>depart_Directing_female</th><th scope=col>depart_Editing_female</th><th scope=col>depart_Lighting_female</th><th scope=col>depart_Production_female</th><th scope=col>depart_Sound_female</th><th scope=col>depart_Visual_Effects_female</th><th scope=col>depart_Writing_female</th></tr></thead>\n",
       "<tbody>\n",
       "\t<tr><td>1        </td><td>14000000 </td><td> 6.575393</td><td> 93      </td><td>12314651 </td><td>1        </td><td>0        </td><td>1        </td><td>1        </td><td> 4       </td><td>...      </td><td>0        </td><td>0        </td><td>0        </td><td>0        </td><td>0        </td><td>0        </td><td>0        </td><td>0        </td><td>0        </td><td>0        </td></tr>\n",
       "\t<tr><td>2        </td><td>40000000 </td><td> 8.248895</td><td>113      </td><td>95149435 </td><td>1        </td><td>0        </td><td>1        </td><td>1        </td><td> 4       </td><td>...      </td><td>0        </td><td>0        </td><td>0        </td><td>0        </td><td>0        </td><td>0        </td><td>3        </td><td>0        </td><td>0        </td><td>1        </td></tr>\n",
       "\t<tr><td>3        </td><td> 3300000 </td><td>64.299990</td><td>105      </td><td>13092000 </td><td>1        </td><td>1        </td><td>1        </td><td>1        </td><td>12       </td><td>...      </td><td>0        </td><td>1        </td><td>0        </td><td>0        </td><td>0        </td><td>0        </td><td>2        </td><td>0        </td><td>0        </td><td>0        </td></tr>\n",
       "\t<tr><td>4        </td><td> 1200000 </td><td> 3.174936</td><td>122      </td><td>16000000 </td><td>0        </td><td>1        </td><td>1        </td><td>0        </td><td> 7       </td><td>...      </td><td>0        </td><td>0        </td><td>0        </td><td>0        </td><td>0        </td><td>0        </td><td>0        </td><td>0        </td><td>0        </td><td>0        </td></tr>\n",
       "\t<tr><td>5        </td><td>       0 </td><td> 1.148070</td><td>118      </td><td> 3923970 </td><td>0        </td><td>0        </td><td>1        </td><td>0        </td><td> 0       </td><td>...      </td><td>0        </td><td>0        </td><td>0        </td><td>0        </td><td>0        </td><td>0        </td><td>0        </td><td>0        </td><td>0        </td><td>0        </td></tr>\n",
       "\t<tr><td>6        </td><td> 8000000 </td><td> 0.743274</td><td> 83      </td><td> 3261638 </td><td>1        </td><td>0        </td><td>1        </td><td>0        </td><td> 0       </td><td>...      </td><td>0        </td><td>0        </td><td>0        </td><td>0        </td><td>0        </td><td>0        </td><td>0        </td><td>0        </td><td>0        </td><td>0        </td></tr>\n",
       "</tbody>\n",
       "</table>\n"
      ],
      "text/latex": [
       "\\begin{tabular}{r|llllllllllllllllllllllllllllllllllllllllllllllllllllllllllllllllllllllllllllllllll}\n",
       " movie\\_id & budget & popularity & runtime & revenue & sw\\_lang\\_en & sw\\_web\\_presence & sw\\_has\\_poster & sw\\_tagline & keyword\\_cnt & ... & depart\\_Camera\\_female & depart\\_Crew\\_female & depart\\_Custom\\_Mkup\\_female & depart\\_Directing\\_female & depart\\_Editing\\_female & depart\\_Lighting\\_female & depart\\_Production\\_female & depart\\_Sound\\_female & depart\\_Visual\\_Effects\\_female & depart\\_Writing\\_female\\\\\n",
       "\\hline\n",
       "\t 1         & 14000000  &  6.575393 &  93       & 12314651  & 1         & 0         & 1         & 1         &  4        & ...       & 0         & 0         & 0         & 0         & 0         & 0         & 0         & 0         & 0         & 0        \\\\\n",
       "\t 2         & 40000000  &  8.248895 & 113       & 95149435  & 1         & 0         & 1         & 1         &  4        & ...       & 0         & 0         & 0         & 0         & 0         & 0         & 3         & 0         & 0         & 1        \\\\\n",
       "\t 3         &  3300000  & 64.299990 & 105       & 13092000  & 1         & 1         & 1         & 1         & 12        & ...       & 0         & 1         & 0         & 0         & 0         & 0         & 2         & 0         & 0         & 0        \\\\\n",
       "\t 4         &  1200000  &  3.174936 & 122       & 16000000  & 0         & 1         & 1         & 0         &  7        & ...       & 0         & 0         & 0         & 0         & 0         & 0         & 0         & 0         & 0         & 0        \\\\\n",
       "\t 5         &        0  &  1.148070 & 118       &  3923970  & 0         & 0         & 1         & 0         &  0        & ...       & 0         & 0         & 0         & 0         & 0         & 0         & 0         & 0         & 0         & 0        \\\\\n",
       "\t 6         &  8000000  &  0.743274 &  83       &  3261638  & 1         & 0         & 1         & 0         &  0        & ...       & 0         & 0         & 0         & 0         & 0         & 0         & 0         & 0         & 0         & 0        \\\\\n",
       "\\end{tabular}\n"
      ],
      "text/markdown": [
       "\n",
       "| movie_id | budget | popularity | runtime | revenue | sw_lang_en | sw_web_presence | sw_has_poster | sw_tagline | keyword_cnt | ... | depart_Camera_female | depart_Crew_female | depart_Custom_Mkup_female | depart_Directing_female | depart_Editing_female | depart_Lighting_female | depart_Production_female | depart_Sound_female | depart_Visual_Effects_female | depart_Writing_female |\n",
       "|---|---|---|---|---|---|---|---|---|---|---|---|---|---|---|---|---|---|---|---|---|\n",
       "| 1         | 14000000  |  6.575393 |  93       | 12314651  | 1         | 0         | 1         | 1         |  4        | ...       | 0         | 0         | 0         | 0         | 0         | 0         | 0         | 0         | 0         | 0         |\n",
       "| 2         | 40000000  |  8.248895 | 113       | 95149435  | 1         | 0         | 1         | 1         |  4        | ...       | 0         | 0         | 0         | 0         | 0         | 0         | 3         | 0         | 0         | 1         |\n",
       "| 3         |  3300000  | 64.299990 | 105       | 13092000  | 1         | 1         | 1         | 1         | 12        | ...       | 0         | 1         | 0         | 0         | 0         | 0         | 2         | 0         | 0         | 0         |\n",
       "| 4         |  1200000  |  3.174936 | 122       | 16000000  | 0         | 1         | 1         | 0         |  7        | ...       | 0         | 0         | 0         | 0         | 0         | 0         | 0         | 0         | 0         | 0         |\n",
       "| 5         |        0  |  1.148070 | 118       |  3923970  | 0         | 0         | 1         | 0         |  0        | ...       | 0         | 0         | 0         | 0         | 0         | 0         | 0         | 0         | 0         | 0         |\n",
       "| 6         |  8000000  |  0.743274 |  83       |  3261638  | 1         | 0         | 1         | 0         |  0        | ...       | 0         | 0         | 0         | 0         | 0         | 0         | 0         | 0         | 0         | 0         |\n",
       "\n"
      ],
      "text/plain": [
       "  movie_id budget   popularity runtime revenue  sw_lang_en sw_web_presence\n",
       "1 1        14000000  6.575393   93     12314651 1          0              \n",
       "2 2        40000000  8.248895  113     95149435 1          0              \n",
       "3 3         3300000 64.299990  105     13092000 1          1              \n",
       "4 4         1200000  3.174936  122     16000000 0          1              \n",
       "5 5               0  1.148070  118      3923970 0          0              \n",
       "6 6         8000000  0.743274   83      3261638 1          0              \n",
       "  sw_has_poster sw_tagline keyword_cnt ... depart_Camera_female\n",
       "1 1             1           4          ... 0                   \n",
       "2 1             1           4          ... 0                   \n",
       "3 1             1          12          ... 0                   \n",
       "4 1             0           7          ... 0                   \n",
       "5 1             0           0          ... 0                   \n",
       "6 1             0           0          ... 0                   \n",
       "  depart_Crew_female depart_Custom_Mkup_female depart_Directing_female\n",
       "1 0                  0                         0                      \n",
       "2 0                  0                         0                      \n",
       "3 1                  0                         0                      \n",
       "4 0                  0                         0                      \n",
       "5 0                  0                         0                      \n",
       "6 0                  0                         0                      \n",
       "  depart_Editing_female depart_Lighting_female depart_Production_female\n",
       "1 0                     0                      0                       \n",
       "2 0                     0                      3                       \n",
       "3 0                     0                      2                       \n",
       "4 0                     0                      0                       \n",
       "5 0                     0                      0                       \n",
       "6 0                     0                      0                       \n",
       "  depart_Sound_female depart_Visual_Effects_female depart_Writing_female\n",
       "1 0                   0                            0                    \n",
       "2 0                   0                            1                    \n",
       "3 0                   0                            0                    \n",
       "4 0                   0                            0                    \n",
       "5 0                   0                            0                    \n",
       "6 0                   0                            0                    "
      ]
     },
     "metadata": {},
     "output_type": "display_data"
    }
   ],
   "source": [
    "##### Check all variables are numeric ####\n",
    "num_movies <- movies_ff[, sapply(movies_ff, is.numeric)]\n",
    "head(num_movies)"
   ]
  },
  {
   "cell_type": "code",
   "execution_count": 13,
   "metadata": {},
   "outputs": [
    {
     "name": "stderr",
     "output_type": "stream",
     "text": [
      "Warning message in cor(num_movies, use = \"pairwise.complete.obs\", method = \"s\"):\n",
      "\"the standard deviation is zero\"\n",
      "Warning message in cor(num_movies, use = \"pairwise.complete.obs\", method = \"s\"):\n",
      "\"the standard deviation is zero\"\n",
      "Warning message in cor(num_movies, use = \"pairwise.complete.obs\", method = \"s\"):\n",
      "\"the standard deviation is zero\"\n",
      "Warning message in cor(num_movies, use = \"pairwise.complete.obs\", method = \"s\"):\n",
      "\"the standard deviation is zero\"\n",
      "Warning message in cor(num_movies, use = \"pairwise.complete.obs\", method = \"s\"):\n",
      "\"the standard deviation is zero\"\n",
      "Warning message in cor(num_movies, use = \"pairwise.complete.obs\", method = \"s\"):\n",
      "\"the standard deviation is zero\"\n",
      "Warning message in cor(num_movies, use = \"pairwise.complete.obs\", method = \"s\"):\n",
      "\"the standard deviation is zero\"\n",
      "Warning message in cor(num_movies, use = \"pairwise.complete.obs\", method = \"s\"):\n",
      "\"the standard deviation is zero\"\n",
      "Warning message in cor(num_movies, use = \"pairwise.complete.obs\", method = \"s\"):\n",
      "\"the standard deviation is zero\"\n",
      "Warning message in cor(num_movies, use = \"pairwise.complete.obs\", method = \"s\"):\n",
      "\"the standard deviation is zero\"\n",
      "Warning message in cor(num_movies, use = \"pairwise.complete.obs\", method = \"s\"):\n",
      "\"the standard deviation is zero\"\n",
      "Warning message in cor(num_movies, use = \"pairwise.complete.obs\", method = \"s\"):\n",
      "\"the standard deviation is zero\"\n",
      "Warning message in cor(num_movies, use = \"pairwise.complete.obs\", method = \"s\"):\n",
      "\"the standard deviation is zero\"\n",
      "Warning message in cor(num_movies, use = \"pairwise.complete.obs\", method = \"s\"):\n",
      "\"the standard deviation is zero\"\n",
      "Warning message in cor(num_movies, use = \"pairwise.complete.obs\", method = \"s\"):\n",
      "\"the standard deviation is zero\"\n",
      "Warning message in cor(num_movies, use = \"pairwise.complete.obs\", method = \"s\"):\n",
      "\"the standard deviation is zero\"\n",
      "Warning message in cor(num_movies, use = \"pairwise.complete.obs\", method = \"s\"):\n",
      "\"the standard deviation is zero\"\n",
      "Warning message in cor(num_movies, use = \"pairwise.complete.obs\", method = \"s\"):\n",
      "\"the standard deviation is zero\"\n",
      "Warning message in cor(num_movies, use = \"pairwise.complete.obs\", method = \"s\"):\n",
      "\"the standard deviation is zero\"\n",
      "Warning message in cor(num_movies, use = \"pairwise.complete.obs\", method = \"s\"):\n",
      "\"the standard deviation is zero\"\n",
      "Warning message in cor(num_movies, use = \"pairwise.complete.obs\", method = \"s\"):\n",
      "\"the standard deviation is zero\"\n",
      "Warning message in cor(num_movies, use = \"pairwise.complete.obs\", method = \"s\"):\n",
      "\"the standard deviation is zero\"\n",
      "Warning message in cor(num_movies, use = \"pairwise.complete.obs\", method = \"s\"):\n",
      "\"the standard deviation is zero\"\n",
      "Warning message in cor(num_movies, use = \"pairwise.complete.obs\", method = \"s\"):\n",
      "\"the standard deviation is zero\"\n",
      "Warning message in cor(num_movies, use = \"pairwise.complete.obs\", method = \"s\"):\n",
      "\"the standard deviation is zero\"\n",
      "Warning message in cor(num_movies, use = \"pairwise.complete.obs\", method = \"s\"):\n",
      "\"the standard deviation is zero\"\n",
      "Warning message in cor(num_movies, use = \"pairwise.complete.obs\", method = \"s\"):\n",
      "\"the standard deviation is zero\"\n"
     ]
    }
   ],
   "source": [
    "cor_res <- cor(num_movies, use =\"pairwise.complete.obs\",method=\"s\")"
   ]
  },
  {
   "cell_type": "code",
   "execution_count": 14,
   "metadata": {},
   "outputs": [
    {
     "data": {
      "text/html": [
       "<table>\n",
       "<thead><tr><th></th><th scope=col>movie_id</th><th scope=col>budget</th><th scope=col>popularity</th><th scope=col>runtime</th><th scope=col>revenue</th><th scope=col>sw_lang_en</th><th scope=col>sw_web_presence</th><th scope=col>sw_has_poster</th><th scope=col>sw_tagline</th><th scope=col>keyword_cnt</th><th scope=col>...</th><th scope=col>depart_Camera_female</th><th scope=col>depart_Crew_female</th><th scope=col>depart_Custom_Mkup_female</th><th scope=col>depart_Directing_female</th><th scope=col>depart_Editing_female</th><th scope=col>depart_Lighting_female</th><th scope=col>depart_Production_female</th><th scope=col>depart_Sound_female</th><th scope=col>depart_Visual_Effects_female</th><th scope=col>depart_Writing_female</th></tr></thead>\n",
       "<tbody>\n",
       "\t<tr><th scope=row>movie_id</th><td>1.0000000000 </td><td>0.0009736131 </td><td>0.005477086  </td><td> 0.002341803 </td><td>0.009997652  </td><td> 0.001170905 </td><td>0.004466673  </td><td>0.004862132  </td><td>-0.008193279 </td><td>0.01012805   </td><td>...          </td><td>-0.005727583 </td><td>-8.193342e-05</td><td>0.003404204  </td><td>-0.004240663 </td><td>-0.01086437  </td><td>-0.01425605  </td><td>-0.000443574 </td><td>-0.02289685  </td><td>0.01435770   </td><td>-0.009913564 </td></tr>\n",
       "\t<tr><th scope=row>budget</th><td>0.0009736131 </td><td>1.0000000000 </td><td>0.517639218  </td><td> 0.250502521 </td><td>0.691007848  </td><td> 0.243950993 </td><td>0.211737710  </td><td>0.020959371  </td><td> 0.298541124 </td><td>0.28302850   </td><td>...          </td><td> 0.036589693 </td><td> 1.755995e-01</td><td>0.315041130  </td><td> 0.139602278 </td><td> 0.08616299  </td><td> 0.01364380  </td><td> 0.396343510 </td><td> 0.13053200  </td><td>0.08256478   </td><td> 0.049253239 </td></tr>\n",
       "\t<tr><th scope=row>popularity</th><td>0.0054770856 </td><td>0.5176392179 </td><td>1.000000000  </td><td> 0.171363671 </td><td>0.594538732  </td><td> 0.258408834 </td><td>0.210234301  </td><td>0.028406920  </td><td> 0.348489699 </td><td>0.43147356   </td><td>...          </td><td> 0.065173132 </td><td> 1.774725e-01</td><td>0.294492671  </td><td> 0.126272830 </td><td> 0.10216707  </td><td> 0.01419199  </td><td> 0.395866981 </td><td> 0.13821703  </td><td>0.07644792   </td><td> 0.060167155 </td></tr>\n",
       "\t<tr><th scope=row>runtime</th><td>0.0023418029 </td><td>0.2505025212 </td><td>0.171363671  </td><td> 1.000000000 </td><td>0.261910598  </td><td>-0.117635059 </td><td>0.043810470  </td><td>0.014082759  </td><td> 0.006435861 </td><td>0.14320100   </td><td>...          </td><td> 0.001225895 </td><td> 7.042466e-02</td><td>0.169646772  </td><td> 0.069858973 </td><td> 0.04849778  </td><td>-0.01132805  </td><td> 0.126761948 </td><td> 0.07748747  </td><td>0.00525580   </td><td> 0.026717987 </td></tr>\n",
       "\t<tr><th scope=row>revenue</th><td>0.0099976524 </td><td>0.6910078479 </td><td>0.594538732  </td><td> 0.261910598 </td><td>1.000000000  </td><td> 0.221077560 </td><td>0.191729626  </td><td>0.027253296  </td><td> 0.333861394 </td><td>0.33226715   </td><td>...          </td><td> 0.032005853 </td><td> 1.628297e-01</td><td>0.317688650  </td><td> 0.126197294 </td><td> 0.05829747  </td><td> 0.03135544  </td><td> 0.387482082 </td><td> 0.14117393  </td><td>0.07706105   </td><td> 0.099745155 </td></tr>\n",
       "\t<tr><th scope=row>sw_lang_en</th><td>0.0011709051 </td><td>0.2439509928 </td><td>0.258408834  </td><td>-0.117635059 </td><td>0.221077560  </td><td> 1.000000000 </td><td>0.035833839  </td><td>0.017001119  </td><td> 0.399816033 </td><td>0.16898117   </td><td>...          </td><td> 0.046737688 </td><td> 6.850151e-02</td><td>0.203880661  </td><td> 0.110337186 </td><td> 0.08101905  </td><td> 0.01057666  </td><td> 0.291199051 </td><td> 0.08149105  </td><td>0.02808414   </td><td> 0.050204337 </td></tr>\n",
       "</tbody>\n",
       "</table>\n"
      ],
      "text/latex": [
       "\\begin{tabular}{r|llllllllllllllllllllllllllllllllllllllllllllllllllllllllllllllllllllllllllllllllll}\n",
       "  & movie\\_id & budget & popularity & runtime & revenue & sw\\_lang\\_en & sw\\_web\\_presence & sw\\_has\\_poster & sw\\_tagline & keyword\\_cnt & ... & depart\\_Camera\\_female & depart\\_Crew\\_female & depart\\_Custom\\_Mkup\\_female & depart\\_Directing\\_female & depart\\_Editing\\_female & depart\\_Lighting\\_female & depart\\_Production\\_female & depart\\_Sound\\_female & depart\\_Visual\\_Effects\\_female & depart\\_Writing\\_female\\\\\n",
       "\\hline\n",
       "\tmovie\\_id & 1.0000000000  & 0.0009736131  & 0.005477086   &  0.002341803  & 0.009997652   &  0.001170905  & 0.004466673   & 0.004862132   & -0.008193279  & 0.01012805    & ...           & -0.005727583  & -8.193342e-05 & 0.003404204   & -0.004240663  & -0.01086437   & -0.01425605   & -0.000443574  & -0.02289685   & 0.01435770    & -0.009913564 \\\\\n",
       "\tbudget & 0.0009736131  & 1.0000000000  & 0.517639218   &  0.250502521  & 0.691007848   &  0.243950993  & 0.211737710   & 0.020959371   &  0.298541124  & 0.28302850    & ...           &  0.036589693  &  1.755995e-01 & 0.315041130   &  0.139602278  &  0.08616299   &  0.01364380   &  0.396343510  &  0.13053200   & 0.08256478    &  0.049253239 \\\\\n",
       "\tpopularity & 0.0054770856  & 0.5176392179  & 1.000000000   &  0.171363671  & 0.594538732   &  0.258408834  & 0.210234301   & 0.028406920   &  0.348489699  & 0.43147356    & ...           &  0.065173132  &  1.774725e-01 & 0.294492671   &  0.126272830  &  0.10216707   &  0.01419199   &  0.395866981  &  0.13821703   & 0.07644792    &  0.060167155 \\\\\n",
       "\truntime & 0.0023418029  & 0.2505025212  & 0.171363671   &  1.000000000  & 0.261910598   & -0.117635059  & 0.043810470   & 0.014082759   &  0.006435861  & 0.14320100    & ...           &  0.001225895  &  7.042466e-02 & 0.169646772   &  0.069858973  &  0.04849778   & -0.01132805   &  0.126761948  &  0.07748747   & 0.00525580    &  0.026717987 \\\\\n",
       "\trevenue & 0.0099976524  & 0.6910078479  & 0.594538732   &  0.261910598  & 1.000000000   &  0.221077560  & 0.191729626   & 0.027253296   &  0.333861394  & 0.33226715    & ...           &  0.032005853  &  1.628297e-01 & 0.317688650   &  0.126197294  &  0.05829747   &  0.03135544   &  0.387482082  &  0.14117393   & 0.07706105    &  0.099745155 \\\\\n",
       "\tsw\\_lang\\_en & 0.0011709051  & 0.2439509928  & 0.258408834   & -0.117635059  & 0.221077560   &  1.000000000  & 0.035833839   & 0.017001119   &  0.399816033  & 0.16898117    & ...           &  0.046737688  &  6.850151e-02 & 0.203880661   &  0.110337186  &  0.08101905   &  0.01057666   &  0.291199051  &  0.08149105   & 0.02808414    &  0.050204337 \\\\\n",
       "\\end{tabular}\n"
      ],
      "text/markdown": [
       "\n",
       "| <!--/--> | movie_id | budget | popularity | runtime | revenue | sw_lang_en | sw_web_presence | sw_has_poster | sw_tagline | keyword_cnt | ... | depart_Camera_female | depart_Crew_female | depart_Custom_Mkup_female | depart_Directing_female | depart_Editing_female | depart_Lighting_female | depart_Production_female | depart_Sound_female | depart_Visual_Effects_female | depart_Writing_female |\n",
       "|---|---|---|---|---|---|---|---|---|---|---|---|---|---|---|---|---|---|---|---|---|---|\n",
       "| movie_id | 1.0000000000  | 0.0009736131  | 0.005477086   |  0.002341803  | 0.009997652   |  0.001170905  | 0.004466673   | 0.004862132   | -0.008193279  | 0.01012805    | ...           | -0.005727583  | -8.193342e-05 | 0.003404204   | -0.004240663  | -0.01086437   | -0.01425605   | -0.000443574  | -0.02289685   | 0.01435770    | -0.009913564  |\n",
       "| budget | 0.0009736131  | 1.0000000000  | 0.517639218   |  0.250502521  | 0.691007848   |  0.243950993  | 0.211737710   | 0.020959371   |  0.298541124  | 0.28302850    | ...           |  0.036589693  |  1.755995e-01 | 0.315041130   |  0.139602278  |  0.08616299   |  0.01364380   |  0.396343510  |  0.13053200   | 0.08256478    |  0.049253239  |\n",
       "| popularity | 0.0054770856  | 0.5176392179  | 1.000000000   |  0.171363671  | 0.594538732   |  0.258408834  | 0.210234301   | 0.028406920   |  0.348489699  | 0.43147356    | ...           |  0.065173132  |  1.774725e-01 | 0.294492671   |  0.126272830  |  0.10216707   |  0.01419199   |  0.395866981  |  0.13821703   | 0.07644792    |  0.060167155  |\n",
       "| runtime | 0.0023418029  | 0.2505025212  | 0.171363671   |  1.000000000  | 0.261910598   | -0.117635059  | 0.043810470   | 0.014082759   |  0.006435861  | 0.14320100    | ...           |  0.001225895  |  7.042466e-02 | 0.169646772   |  0.069858973  |  0.04849778   | -0.01132805   |  0.126761948  |  0.07748747   | 0.00525580    |  0.026717987  |\n",
       "| revenue | 0.0099976524  | 0.6910078479  | 0.594538732   |  0.261910598  | 1.000000000   |  0.221077560  | 0.191729626   | 0.027253296   |  0.333861394  | 0.33226715    | ...           |  0.032005853  |  1.628297e-01 | 0.317688650   |  0.126197294  |  0.05829747   |  0.03135544   |  0.387482082  |  0.14117393   | 0.07706105    |  0.099745155  |\n",
       "| sw_lang_en | 0.0011709051  | 0.2439509928  | 0.258408834   | -0.117635059  | 0.221077560   |  1.000000000  | 0.035833839   | 0.017001119   |  0.399816033  | 0.16898117    | ...           |  0.046737688  |  6.850151e-02 | 0.203880661   |  0.110337186  |  0.08101905   |  0.01057666   |  0.291199051  |  0.08149105   | 0.02808414    |  0.050204337  |\n",
       "\n"
      ],
      "text/plain": [
       "           movie_id     budget       popularity  runtime      revenue    \n",
       "movie_id   1.0000000000 0.0009736131 0.005477086  0.002341803 0.009997652\n",
       "budget     0.0009736131 1.0000000000 0.517639218  0.250502521 0.691007848\n",
       "popularity 0.0054770856 0.5176392179 1.000000000  0.171363671 0.594538732\n",
       "runtime    0.0023418029 0.2505025212 0.171363671  1.000000000 0.261910598\n",
       "revenue    0.0099976524 0.6910078479 0.594538732  0.261910598 1.000000000\n",
       "sw_lang_en 0.0011709051 0.2439509928 0.258408834 -0.117635059 0.221077560\n",
       "           sw_lang_en   sw_web_presence sw_has_poster sw_tagline   keyword_cnt\n",
       "movie_id    0.001170905 0.004466673     0.004862132   -0.008193279 0.01012805 \n",
       "budget      0.243950993 0.211737710     0.020959371    0.298541124 0.28302850 \n",
       "popularity  0.258408834 0.210234301     0.028406920    0.348489699 0.43147356 \n",
       "runtime    -0.117635059 0.043810470     0.014082759    0.006435861 0.14320100 \n",
       "revenue     0.221077560 0.191729626     0.027253296    0.333861394 0.33226715 \n",
       "sw_lang_en  1.000000000 0.035833839     0.017001119    0.399816033 0.16898117 \n",
       "           ... depart_Camera_female depart_Crew_female\n",
       "movie_id   ... -0.005727583         -8.193342e-05     \n",
       "budget     ...  0.036589693          1.755995e-01     \n",
       "popularity ...  0.065173132          1.774725e-01     \n",
       "runtime    ...  0.001225895          7.042466e-02     \n",
       "revenue    ...  0.032005853          1.628297e-01     \n",
       "sw_lang_en ...  0.046737688          6.850151e-02     \n",
       "           depart_Custom_Mkup_female depart_Directing_female\n",
       "movie_id   0.003404204               -0.004240663           \n",
       "budget     0.315041130                0.139602278           \n",
       "popularity 0.294492671                0.126272830           \n",
       "runtime    0.169646772                0.069858973           \n",
       "revenue    0.317688650                0.126197294           \n",
       "sw_lang_en 0.203880661                0.110337186           \n",
       "           depart_Editing_female depart_Lighting_female\n",
       "movie_id   -0.01086437           -0.01425605           \n",
       "budget      0.08616299            0.01364380           \n",
       "popularity  0.10216707            0.01419199           \n",
       "runtime     0.04849778           -0.01132805           \n",
       "revenue     0.05829747            0.03135544           \n",
       "sw_lang_en  0.08101905            0.01057666           \n",
       "           depart_Production_female depart_Sound_female\n",
       "movie_id   -0.000443574             -0.02289685        \n",
       "budget      0.396343510              0.13053200        \n",
       "popularity  0.395866981              0.13821703        \n",
       "runtime     0.126761948              0.07748747        \n",
       "revenue     0.387482082              0.14117393        \n",
       "sw_lang_en  0.291199051              0.08149105        \n",
       "           depart_Visual_Effects_female depart_Writing_female\n",
       "movie_id   0.01435770                   -0.009913564         \n",
       "budget     0.08256478                    0.049253239         \n",
       "popularity 0.07644792                    0.060167155         \n",
       "runtime    0.00525580                    0.026717987         \n",
       "revenue    0.07706105                    0.099745155         \n",
       "sw_lang_en 0.02808414                    0.050204337         "
      ]
     },
     "metadata": {},
     "output_type": "display_data"
    }
   ],
   "source": [
    "head(cor_res)"
   ]
  },
  {
   "cell_type": "code",
   "execution_count": 17,
   "metadata": {},
   "outputs": [
    {
     "data": {
      "image/png": "[encoded data removed]",
      "text/plain": [
       "Plot with title \"\""
      ]
     },
     "metadata": {
      "image/png": {
       "height": 420,
       "width": 420
      },
      "text/plain": {
       "height": 420,
       "width": 420
      }
     },
     "output_type": "display_data"
    }
   ],
   "source": [
    "corrplot.mixed(cor_res, lower.col = \"black\", number.cex = .7, tl.srt = 90)"
   ]
  },
  {
   "cell_type": "code",
   "execution_count": 16,
   "metadata": {},
   "outputs": [
    {
     "data": {
      "image/png": "[encoded data removed]",
      "text/plain": [
       "plot without title"
      ]
     },
     "metadata": {
      "image/png": {
       "height": 420,
       "width": 420
      },
      "text/plain": {
       "height": 420,
       "width": 420
      }
     },
     "output_type": "display_data"
    }
   ],
   "source": [
    "heatmap(cor_res,symm = T,cexCol = 0.8, cexRow = 0.8, col=brewer.pal(n=8, name=\"RdYlBu\"))"
   ]
  },
  {
   "cell_type": "code",
   "execution_count": 67,
   "metadata": {},
   "outputs": [
    {
     "name": "stderr",
     "output_type": "stream",
     "text": [
      "Warning message in cor.test.default(x = movies_ff[[i]], y = movies_ff[[j]], method = \"spearman\"):\n",
      "\"Cannot compute exact p-value with ties\"\n"
     ]
    },
    {
     "ename": "ERROR",
     "evalue": "Error in cor.test.default(x = movies_ff[[i]], y = movies_ff[[j]], method = \"spearman\"): 'y' must be a numeric vector\n",
     "output_type": "error",
     "traceback": [
      "Error in cor.test.default(x = movies_ff[[i]], y = movies_ff[[j]], method = \"spearman\"): 'y' must be a numeric vector\nTraceback:\n",
      "1. cbind(rw, cor.test(x = movies_ff[[i]], y = movies_ff[[j]], method = \"spearman\")$estimate)",
      "2. cor.test(x = movies_ff[[i]], y = movies_ff[[j]], method = \"spearman\")",
      "3. cor.test.default(x = movies_ff[[i]], y = movies_ff[[j]], method = \"spearman\")",
      "4. stop(\"'y' must be a numeric vector\")"
     ]
    }
   ],
   "source": [
    "###tomas in class#####??????????????????????????###########################33\n",
    "\n",
    "nm <- names(movies_ff[,2:84])\n",
    "for(i in nm) {\n",
    "    rw <- NULL\n",
    "    for(j in nm) {\n",
    "        rw <- cbind(rw,cor.test(x=movies_ff[[i]],y=movies_ff[[j]],method=\"spearman\")$estimate)\n",
    "    }\n",
    "    res <- rbind(res,rw)\n",
    "}\n",
    "row.names(res) <- nm\n",
    "colnames(res) <- nm\n",
    "res"
   ]
  },
  {
   "cell_type": "markdown",
   "metadata": {},
   "source": [
    "# 2.4 revenue analysis"
   ]
  },
  {
   "cell_type": "code",
   "execution_count": 25,
   "metadata": {},
   "outputs": [
    {
     "name": "stdout",
     "output_type": "stream",
     "text": [
      "  |                                                                      |   0%"
     ]
    },
    {
     "name": "stderr",
     "output_type": "stream",
     "text": [
      "Warning message:\n",
      "\"Removed 4382 rows containing non-finite values (stat_smooth).\"\n"
     ]
    },
    {
     "name": "stdout",
     "output_type": "stream",
     "text": [
      "\r",
      "  |                                                                            \r",
      "  |                                                                      |   0%"
     ]
    },
    {
     "name": "stderr",
     "output_type": "stream",
     "text": [
      "Warning message:\n",
      "\"Removed 4382 rows containing non-finite values (stat_smooth).\"\n"
     ]
    },
    {
     "name": "stdout",
     "output_type": "stream",
     "text": [
      "  |                                                                      |   0%"
     ]
    },
    {
     "name": "stderr",
     "output_type": "stream",
     "text": [
      "Warning message:\n",
      "\"Removed 4382 rows containing non-finite values (stat_smooth).\"\n"
     ]
    },
    {
     "name": "stdout",
     "output_type": "stream",
     "text": [
      "  |                                                                      |   0%"
     ]
    },
    {
     "name": "stderr",
     "output_type": "stream",
     "text": [
      "Warning message:\n",
      "\"Removed 4382 rows containing non-finite values (stat_smooth).\"\n"
     ]
    },
    {
     "name": "stdout",
     "output_type": "stream",
     "text": [
      "  |                                                                      |   0%"
     ]
    },
    {
     "name": "stderr",
     "output_type": "stream",
     "text": [
      "Warning message:\n",
      "\"Removed 4382 rows containing non-finite values (stat_smooth).\"\n"
     ]
    },
    {
     "name": "stdout",
     "output_type": "stream",
     "text": [
      "  |                                                                      |   0%"
     ]
    },
    {
     "name": "stderr",
     "output_type": "stream",
     "text": [
      "Warning message:\n",
      "\"Removed 4384 rows containing non-finite values (stat_smooth).\"\n"
     ]
    },
    {
     "name": "stdout",
     "output_type": "stream",
     "text": [
      "  |                                                                      |   0%"
     ]
    },
    {
     "name": "stderr",
     "output_type": "stream",
     "text": [
      "Warning message:\n",
      "\"Removed 4382 rows containing non-finite values (stat_smooth).\"\n"
     ]
    },
    {
     "name": "stdout",
     "output_type": "stream",
     "text": [
      "  |                                                                      |   0%"
     ]
    },
    {
     "name": "stderr",
     "output_type": "stream",
     "text": [
      "Warning message in x[floor(d)] + x[ceiling(d)]:\n",
      "\"NAs produced by integer overflow\"\n",
      "Warning message in x[floor(d)] + x[ceiling(d)]:\n",
      "\"NAs produced by integer overflow\"\n",
      "Warning message:\n",
      "\"Removed 4382 rows containing non-finite values (stat_smooth).\"\n"
     ]
    },
    {
     "name": "stdout",
     "output_type": "stream",
     "text": [
      "  |                                                                      |   0%"
     ]
    },
    {
     "name": "stderr",
     "output_type": "stream",
     "text": [
      "Warning message:\n",
      "\"Removed 4382 rows containing non-finite values (stat_smooth).\"\n"
     ]
    },
    {
     "name": "stdout",
     "output_type": "stream",
     "text": [
      "  |                                                                      |   0%"
     ]
    },
    {
     "name": "stderr",
     "output_type": "stream",
     "text": [
      "Warning message:\n",
      "\"Removed 4382 rows containing non-finite values (stat_smooth).\"\n"
     ]
    },
    {
     "name": "stdout",
     "output_type": "stream",
     "text": [
      "  |                                                                      |   0%"
     ]
    },
    {
     "name": "stderr",
     "output_type": "stream",
     "text": [
      "Warning message:\n",
      "\"Removed 4382 rows containing non-finite values (stat_smooth).\"\n"
     ]
    },
    {
     "name": "stdout",
     "output_type": "stream",
     "text": [
      "  |                                                                      |   0%"
     ]
    },
    {
     "name": "stderr",
     "output_type": "stream",
     "text": [
      "Warning message:\n",
      "\"Removed 4382 rows containing non-finite values (stat_smooth).\"\n"
     ]
    },
    {
     "name": "stdout",
     "output_type": "stream",
     "text": [
      "  |                                                                      |   0%"
     ]
    },
    {
     "name": "stderr",
     "output_type": "stream",
     "text": [
      "Warning message:\n",
      "\"Removed 4382 rows containing non-finite values (stat_smooth).\"\n"
     ]
    },
    {
     "name": "stdout",
     "output_type": "stream",
     "text": [
      "  |                                                                      |   0%"
     ]
    },
    {
     "name": "stderr",
     "output_type": "stream",
     "text": [
      "Warning message:\n",
      "\"Removed 4382 rows containing non-finite values (stat_smooth).\"\n"
     ]
    },
    {
     "name": "stdout",
     "output_type": "stream",
     "text": [
      "  |                                                                      |   0%"
     ]
    },
    {
     "name": "stderr",
     "output_type": "stream",
     "text": [
      "Warning message:\n",
      "\"Removed 4382 rows containing non-finite values (stat_smooth).\"\n"
     ]
    },
    {
     "name": "stdout",
     "output_type": "stream",
     "text": [
      "  |                                                                      |   0%"
     ]
    },
    {
     "name": "stderr",
     "output_type": "stream",
     "text": [
      "Warning message:\n",
      "\"Removed 4382 rows containing non-finite values (stat_smooth).\"\n"
     ]
    },
    {
     "name": "stdout",
     "output_type": "stream",
     "text": [
      "  |                                                                      |   0%"
     ]
    },
    {
     "name": "stderr",
     "output_type": "stream",
     "text": [
      "Warning message:\n",
      "\"Removed 4382 rows containing non-finite values (stat_smooth).\"\n"
     ]
    },
    {
     "name": "stdout",
     "output_type": "stream",
     "text": [
      "  |                                                                      |   0%"
     ]
    },
    {
     "name": "stderr",
     "output_type": "stream",
     "text": [
      "Warning message:\n",
      "\"Removed 4382 rows containing non-finite values (stat_smooth).\"\n"
     ]
    },
    {
     "name": "stdout",
     "output_type": "stream",
     "text": [
      "  |                                                                      |   0%"
     ]
    },
    {
     "name": "stderr",
     "output_type": "stream",
     "text": [
      "Warning message:\n",
      "\"Removed 4382 rows containing non-finite values (stat_smooth).\"\n"
     ]
    },
    {
     "name": "stdout",
     "output_type": "stream",
     "text": [
      "  |                                                                      |   0%"
     ]
    },
    {
     "name": "stderr",
     "output_type": "stream",
     "text": [
      "Warning message:\n",
      "\"Removed 4531 rows containing non-finite values (stat_smooth).\"\n"
     ]
    },
    {
     "name": "stdout",
     "output_type": "stream",
     "text": [
      "  |                                                                      |   0%"
     ]
    },
    {
     "name": "stderr",
     "output_type": "stream",
     "text": [
      "Warning message:\n",
      "\"Removed 4382 rows containing non-finite values (stat_smooth).\"\n",
      "Warning message in simpleLoess(y, x, w, span, degree = degree, parametric = parametric, :\n",
      "\"pseudoinverse used at -0.04\"\n",
      "Warning message in simpleLoess(y, x, w, span, degree = degree, parametric = parametric, :\n",
      "\"neighborhood radius 1.04\"\n",
      "Warning message in simpleLoess(y, x, w, span, degree = degree, parametric = parametric, :\n",
      "\"reciprocal condition number  0\"\n",
      "Warning message in simpleLoess(y, x, w, span, degree = degree, parametric = parametric, :\n",
      "\"There are other near singularities as well. 1\"\n",
      "Warning message in predLoess(object$y, object$x, newx = if (is.null(newdata)) object$x else if (is.data.frame(newdata)) as.matrix(model.frame(delete.response(terms(object)), :\n",
      "\"pseudoinverse used at -0.04\"\n",
      "Warning message in predLoess(object$y, object$x, newx = if (is.null(newdata)) object$x else if (is.data.frame(newdata)) as.matrix(model.frame(delete.response(terms(object)), :\n",
      "\"neighborhood radius 1.04\"\n",
      "Warning message in predLoess(object$y, object$x, newx = if (is.null(newdata)) object$x else if (is.data.frame(newdata)) as.matrix(model.frame(delete.response(terms(object)), :\n",
      "\"reciprocal condition number  0\"\n",
      "Warning message in predLoess(object$y, object$x, newx = if (is.null(newdata)) object$x else if (is.data.frame(newdata)) as.matrix(model.frame(delete.response(terms(object)), :\n",
      "\"There are other near singularities as well. 1\"\n"
     ]
    },
    {
     "name": "stdout",
     "output_type": "stream",
     "text": [
      "  |                                                                      |   0%"
     ]
    },
    {
     "name": "stderr",
     "output_type": "stream",
     "text": [
      "Warning message:\n",
      "\"Removed 4382 rows containing non-finite values (stat_smooth).\"\n"
     ]
    },
    {
     "name": "stdout",
     "output_type": "stream",
     "text": [
      "  |                                                                      |   0%"
     ]
    },
    {
     "name": "stderr",
     "output_type": "stream",
     "text": [
      "Warning message:\n",
      "\"Removed 4382 rows containing non-finite values (stat_smooth).\"\n"
     ]
    },
    {
     "name": "stdout",
     "output_type": "stream",
     "text": [
      "  |                                                                      |   0%"
     ]
    },
    {
     "name": "stderr",
     "output_type": "stream",
     "text": [
      "Warning message:\n",
      "\"Removed 4382 rows containing non-finite values (stat_smooth).\"\n"
     ]
    },
    {
     "name": "stdout",
     "output_type": "stream",
     "text": [
      "  |                                                                      |   0%"
     ]
    },
    {
     "name": "stderr",
     "output_type": "stream",
     "text": [
      "Warning message:\n",
      "\"Removed 4382 rows containing non-finite values (stat_smooth).\"\n"
     ]
    },
    {
     "name": "stdout",
     "output_type": "stream",
     "text": [
      "  |                                                                      |   0%"
     ]
    },
    {
     "name": "stderr",
     "output_type": "stream",
     "text": [
      "Warning message:\n",
      "\"Removed 4382 rows containing non-finite values (stat_smooth).\"\n"
     ]
    },
    {
     "name": "stdout",
     "output_type": "stream",
     "text": [
      "  |                                                                      |   0%"
     ]
    },
    {
     "name": "stderr",
     "output_type": "stream",
     "text": [
      "Warning message:\n",
      "\"Removed 4382 rows containing non-finite values (stat_smooth).\"\n"
     ]
    },
    {
     "name": "stdout",
     "output_type": "stream",
     "text": [
      "  |                                                                      |   0%"
     ]
    },
    {
     "name": "stderr",
     "output_type": "stream",
     "text": [
      "Warning message:\n",
      "\"Removed 4382 rows containing non-finite values (stat_smooth).\"\n"
     ]
    },
    {
     "name": "stdout",
     "output_type": "stream",
     "text": [
      "  |                                                                      |   0%"
     ]
    },
    {
     "name": "stderr",
     "output_type": "stream",
     "text": [
      "Warning message:\n",
      "\"Removed 4382 rows containing non-finite values (stat_smooth).\"\n"
     ]
    },
    {
     "name": "stdout",
     "output_type": "stream",
     "text": [
      "  |                                                                      |   0%"
     ]
    },
    {
     "name": "stderr",
     "output_type": "stream",
     "text": [
      "Warning message:\n",
      "\"Removed 4382 rows containing non-finite values (stat_smooth).\"\n"
     ]
    },
    {
     "name": "stdout",
     "output_type": "stream",
     "text": [
      "  |                                                                      |   0%"
     ]
    },
    {
     "name": "stderr",
     "output_type": "stream",
     "text": [
      "Warning message:\n",
      "\"Removed 4382 rows containing non-finite values (stat_smooth).\"\n"
     ]
    },
    {
     "name": "stdout",
     "output_type": "stream",
     "text": [
      "  |                                                                      |   0%"
     ]
    },
    {
     "name": "stderr",
     "output_type": "stream",
     "text": [
      "Warning message:\n",
      "\"Removed 4382 rows containing non-finite values (stat_smooth).\"\n"
     ]
    },
    {
     "name": "stdout",
     "output_type": "stream",
     "text": [
      "  |                                                                      |   0%"
     ]
    },
    {
     "name": "stderr",
     "output_type": "stream",
     "text": [
      "Warning message:\n",
      "\"Removed 4382 rows containing non-finite values (stat_smooth).\"\n"
     ]
    },
    {
     "name": "stdout",
     "output_type": "stream",
     "text": [
      "  |                                                                      |   0%"
     ]
    },
    {
     "name": "stderr",
     "output_type": "stream",
     "text": [
      "Warning message:\n",
      "\"Removed 4382 rows containing non-finite values (stat_smooth).\"\n"
     ]
    },
    {
     "name": "stdout",
     "output_type": "stream",
     "text": [
      "  |                                                                      |   0%"
     ]
    },
    {
     "name": "stderr",
     "output_type": "stream",
     "text": [
      "Warning message:\n",
      "\"Removed 4382 rows containing non-finite values (stat_smooth).\"\n"
     ]
    },
    {
     "name": "stdout",
     "output_type": "stream",
     "text": [
      "  |                                                                      |   0%"
     ]
    },
    {
     "name": "stderr",
     "output_type": "stream",
     "text": [
      "Warning message:\n",
      "\"Removed 4382 rows containing non-finite values (stat_smooth).\"\n"
     ]
    },
    {
     "name": "stdout",
     "output_type": "stream",
     "text": [
      "  |                                                                      |   0%"
     ]
    },
    {
     "name": "stderr",
     "output_type": "stream",
     "text": [
      "Warning message:\n",
      "\"Removed 4382 rows containing non-finite values (stat_smooth).\"\n"
     ]
    },
    {
     "name": "stdout",
     "output_type": "stream",
     "text": [
      "  |                                                                      |   0%"
     ]
    },
    {
     "name": "stderr",
     "output_type": "stream",
     "text": [
      "Warning message:\n",
      "\"Removed 4382 rows containing non-finite values (stat_smooth).\"\n"
     ]
    },
    {
     "name": "stdout",
     "output_type": "stream",
     "text": [
      "  |                                                                      |   0%"
     ]
    },
    {
     "name": "stderr",
     "output_type": "stream",
     "text": [
      "Warning message:\n",
      "\"Removed 4382 rows containing non-finite values (stat_smooth).\"\n"
     ]
    },
    {
     "name": "stdout",
     "output_type": "stream",
     "text": [
      "  |                                                                      |   0%"
     ]
    },
    {
     "name": "stderr",
     "output_type": "stream",
     "text": [
      "Warning message in x[floor(d)] + x[ceiling(d)]:\n",
      "\"NAs produced by integer overflow\"\n",
      "Warning message in x[floor(d)] + x[ceiling(d)]:\n",
      "\"NAs produced by integer overflow\"\n",
      "Warning message:\n",
      "\"Removed 5310 rows containing non-finite values (stat_smooth).\"\n"
     ]
    },
    {
     "name": "stdout",
     "output_type": "stream",
     "text": [
      "  |                                                                      |   0%"
     ]
    },
    {
     "name": "stderr",
     "output_type": "stream",
     "text": [
      "Warning message in x[floor(d)] + x[ceiling(d)]:\n",
      "\"NAs produced by integer overflow\"\n",
      "Warning message in x[floor(d)] + x[ceiling(d)]:\n",
      "\"NAs produced by integer overflow\"\n",
      "Warning message:\n",
      "\"Removed 5534 rows containing non-finite values (stat_smooth).\"\n"
     ]
    },
    {
     "name": "stdout",
     "output_type": "stream",
     "text": [
      "  |                                                                      |   0%"
     ]
    },
    {
     "name": "stderr",
     "output_type": "stream",
     "text": [
      "Warning message in x[floor(d)] + x[ceiling(d)]:\n",
      "\"NAs produced by integer overflow\"\n",
      "Warning message in x[floor(d)] + x[ceiling(d)]:\n",
      "\"NAs produced by integer overflow\"\n",
      "Warning message:\n",
      "\"Removed 5621 rows containing non-finite values (stat_smooth).\"\n"
     ]
    },
    {
     "name": "stdout",
     "output_type": "stream",
     "text": [
      "  |                                                                      |   0%"
     ]
    },
    {
     "name": "stderr",
     "output_type": "stream",
     "text": [
      "Warning message:\n",
      "\"Removed 4382 rows containing non-finite values (stat_smooth).\"\n"
     ]
    },
    {
     "name": "stdout",
     "output_type": "stream",
     "text": [
      "  |                                                                      |   0%"
     ]
    },
    {
     "name": "stderr",
     "output_type": "stream",
     "text": [
      "Warning message:\n",
      "\"Removed 4382 rows containing non-finite values (stat_smooth).\"\n"
     ]
    },
    {
     "name": "stdout",
     "output_type": "stream",
     "text": [
      "  |                                                                      |   0%"
     ]
    },
    {
     "name": "stderr",
     "output_type": "stream",
     "text": [
      "Warning message:\n",
      "\"Removed 4382 rows containing non-finite values (stat_smooth).\"\n"
     ]
    },
    {
     "name": "stdout",
     "output_type": "stream",
     "text": [
      "  |                                                                      |   0%"
     ]
    },
    {
     "name": "stderr",
     "output_type": "stream",
     "text": [
      "Warning message:\n",
      "\"Removed 4382 rows containing non-finite values (stat_smooth).\"\n"
     ]
    },
    {
     "name": "stdout",
     "output_type": "stream",
     "text": [
      "  |                                                                      |   0%"
     ]
    },
    {
     "name": "stderr",
     "output_type": "stream",
     "text": [
      "Warning message:\n",
      "\"Removed 4382 rows containing non-finite values (stat_smooth).\"\n"
     ]
    },
    {
     "name": "stdout",
     "output_type": "stream",
     "text": [
      "  |                                                                      |   0%"
     ]
    },
    {
     "name": "stderr",
     "output_type": "stream",
     "text": [
      "Warning message:\n",
      "\"Removed 4382 rows containing non-finite values (stat_smooth).\"\n"
     ]
    },
    {
     "name": "stdout",
     "output_type": "stream",
     "text": [
      "  |                                                                      |   0%"
     ]
    },
    {
     "name": "stderr",
     "output_type": "stream",
     "text": [
      "Warning message:\n",
      "\"Removed 4382 rows containing non-finite values (stat_smooth).\"\n"
     ]
    },
    {
     "name": "stdout",
     "output_type": "stream",
     "text": [
      "  |                                                                      |   0%"
     ]
    },
    {
     "name": "stderr",
     "output_type": "stream",
     "text": [
      "Warning message:\n",
      "\"Removed 4382 rows containing non-finite values (stat_smooth).\"\n"
     ]
    },
    {
     "name": "stdout",
     "output_type": "stream",
     "text": [
      "  |                                                                      |   0%"
     ]
    },
    {
     "name": "stderr",
     "output_type": "stream",
     "text": [
      "Warning message:\n",
      "\"Removed 4382 rows containing non-finite values (stat_smooth).\"\n"
     ]
    },
    {
     "name": "stdout",
     "output_type": "stream",
     "text": [
      "  |                                                                      |   0%"
     ]
    },
    {
     "name": "stderr",
     "output_type": "stream",
     "text": [
      "Warning message:\n",
      "\"Removed 4382 rows containing non-finite values (stat_smooth).\"\n"
     ]
    },
    {
     "name": "stdout",
     "output_type": "stream",
     "text": [
      "  |                                                                      |   0%"
     ]
    },
    {
     "name": "stderr",
     "output_type": "stream",
     "text": [
      "Warning message:\n",
      "\"Removed 4382 rows containing non-finite values (stat_smooth).\"\n"
     ]
    },
    {
     "name": "stdout",
     "output_type": "stream",
     "text": [
      "  |                                                                      |   0%"
     ]
    },
    {
     "name": "stderr",
     "output_type": "stream",
     "text": [
      "Warning message:\n",
      "\"Removed 4382 rows containing non-finite values (stat_smooth).\"\n"
     ]
    },
    {
     "name": "stdout",
     "output_type": "stream",
     "text": [
      "  |                                                                      |   0%"
     ]
    },
    {
     "name": "stderr",
     "output_type": "stream",
     "text": [
      "Warning message:\n",
      "\"Removed 4382 rows containing non-finite values (stat_smooth).\"\n"
     ]
    },
    {
     "name": "stdout",
     "output_type": "stream",
     "text": [
      "  |                                                                      |   0%"
     ]
    },
    {
     "name": "stderr",
     "output_type": "stream",
     "text": [
      "Warning message:\n",
      "\"Removed 4382 rows containing non-finite values (stat_smooth).\"\n"
     ]
    },
    {
     "name": "stdout",
     "output_type": "stream",
     "text": [
      "  |                                                                      |   0%"
     ]
    },
    {
     "name": "stderr",
     "output_type": "stream",
     "text": [
      "Warning message:\n",
      "\"Removed 4382 rows containing non-finite values (stat_smooth).\"\n"
     ]
    },
    {
     "name": "stdout",
     "output_type": "stream",
     "text": [
      "  |                                                                      |   0%"
     ]
    },
    {
     "name": "stderr",
     "output_type": "stream",
     "text": [
      "Warning message:\n",
      "\"Removed 4382 rows containing non-finite values (stat_smooth).\"\n"
     ]
    },
    {
     "name": "stdout",
     "output_type": "stream",
     "text": [
      "  |                                                                      |   0%"
     ]
    },
    {
     "name": "stderr",
     "output_type": "stream",
     "text": [
      "Warning message:\n",
      "\"Removed 4382 rows containing non-finite values (stat_smooth).\"\n"
     ]
    },
    {
     "name": "stdout",
     "output_type": "stream",
     "text": [
      "  |                                                                      |   0%"
     ]
    },
    {
     "name": "stderr",
     "output_type": "stream",
     "text": [
      "Warning message:\n",
      "\"Removed 4382 rows containing non-finite values (stat_smooth).\"\n"
     ]
    },
    {
     "name": "stdout",
     "output_type": "stream",
     "text": [
      "  |                                                                      |   0%"
     ]
    },
    {
     "name": "stderr",
     "output_type": "stream",
     "text": [
      "Warning message:\n",
      "\"Removed 4382 rows containing non-finite values (stat_smooth).\"\n"
     ]
    },
    {
     "name": "stdout",
     "output_type": "stream",
     "text": [
      "  |                                                                      |   0%"
     ]
    },
    {
     "name": "stderr",
     "output_type": "stream",
     "text": [
      "Warning message:\n",
      "\"Removed 4382 rows containing non-finite values (stat_smooth).\"\n"
     ]
    },
    {
     "name": "stdout",
     "output_type": "stream",
     "text": [
      "  |                                                                      |   0%"
     ]
    },
    {
     "name": "stderr",
     "output_type": "stream",
     "text": [
      "Warning message:\n",
      "\"Removed 4382 rows containing non-finite values (stat_smooth).\"\n"
     ]
    },
    {
     "name": "stdout",
     "output_type": "stream",
     "text": [
      "  |                                                                      |   0%"
     ]
    },
    {
     "name": "stderr",
     "output_type": "stream",
     "text": [
      "Warning message:\n",
      "\"Removed 4397 rows containing non-finite values (stat_smooth).\"\n"
     ]
    },
    {
     "name": "stdout",
     "output_type": "stream",
     "text": [
      "  |                                                                      |   0%"
     ]
    },
    {
     "name": "stderr",
     "output_type": "stream",
     "text": [
      "Warning message:\n",
      "\"Removed 4397 rows containing non-finite values (stat_smooth).\"\n",
      "Warning message in simpleLoess(y, x, w, span, degree = degree, parametric = parametric, :\n",
      "\"pseudoinverse used at -0.115\"\n",
      "Warning message in simpleLoess(y, x, w, span, degree = degree, parametric = parametric, :\n",
      "\"neighborhood radius 2.115\"\n",
      "Warning message in simpleLoess(y, x, w, span, degree = degree, parametric = parametric, :\n",
      "\"reciprocal condition number  2.1936e-016\"\n",
      "Warning message in simpleLoess(y, x, w, span, degree = degree, parametric = parametric, :\n",
      "\"There are other near singularities as well. 1\"\n",
      "Warning message in predLoess(object$y, object$x, newx = if (is.null(newdata)) object$x else if (is.data.frame(newdata)) as.matrix(model.frame(delete.response(terms(object)), :\n",
      "\"pseudoinverse used at -0.115\"\n",
      "Warning message in predLoess(object$y, object$x, newx = if (is.null(newdata)) object$x else if (is.data.frame(newdata)) as.matrix(model.frame(delete.response(terms(object)), :\n",
      "\"neighborhood radius 2.115\"\n",
      "Warning message in predLoess(object$y, object$x, newx = if (is.null(newdata)) object$x else if (is.data.frame(newdata)) as.matrix(model.frame(delete.response(terms(object)), :\n",
      "\"reciprocal condition number  2.1936e-016\"\n",
      "Warning message in predLoess(object$y, object$x, newx = if (is.null(newdata)) object$x else if (is.data.frame(newdata)) as.matrix(model.frame(delete.response(terms(object)), :\n",
      "\"There are other near singularities as well. 1\"\n"
     ]
    },
    {
     "name": "stdout",
     "output_type": "stream",
     "text": [
      "  |                                                                      |   0%"
     ]
    },
    {
     "name": "stderr",
     "output_type": "stream",
     "text": [
      "Warning message:\n",
      "\"Removed 4397 rows containing non-finite values (stat_smooth).\"\n",
      "Warning message in simpleLoess(y, x, w, span, degree = degree, parametric = parametric, :\n",
      "\"pseudoinverse used at -0.595\"\n",
      "Warning message in simpleLoess(y, x, w, span, degree = degree, parametric = parametric, :\n",
      "\"neighborhood radius 2.595\"\n",
      "Warning message in simpleLoess(y, x, w, span, degree = degree, parametric = parametric, :\n",
      "\"reciprocal condition number  3.6396e-016\"\n",
      "Warning message in simpleLoess(y, x, w, span, degree = degree, parametric = parametric, :\n",
      "\"There are other near singularities as well. 4\"\n",
      "Warning message in predLoess(object$y, object$x, newx = if (is.null(newdata)) object$x else if (is.data.frame(newdata)) as.matrix(model.frame(delete.response(terms(object)), :\n",
      "\"pseudoinverse used at -0.595\"\n",
      "Warning message in predLoess(object$y, object$x, newx = if (is.null(newdata)) object$x else if (is.data.frame(newdata)) as.matrix(model.frame(delete.response(terms(object)), :\n",
      "\"neighborhood radius 2.595\"\n",
      "Warning message in predLoess(object$y, object$x, newx = if (is.null(newdata)) object$x else if (is.data.frame(newdata)) as.matrix(model.frame(delete.response(terms(object)), :\n",
      "\"reciprocal condition number  3.6396e-016\"\n",
      "Warning message in predLoess(object$y, object$x, newx = if (is.null(newdata)) object$x else if (is.data.frame(newdata)) as.matrix(model.frame(delete.response(terms(object)), :\n",
      "\"There are other near singularities as well. 4\"\n"
     ]
    },
    {
     "name": "stdout",
     "output_type": "stream",
     "text": [
      "  |                                                                      |   0%"
     ]
    },
    {
     "name": "stderr",
     "output_type": "stream",
     "text": [
      "Warning message:\n",
      "\"Removed 4397 rows containing non-finite values (stat_smooth).\"\n",
      "Warning message in simpleLoess(y, x, w, span, degree = degree, parametric = parametric, :\n",
      "\"pseudoinverse used at -0.165\"\n",
      "Warning message in simpleLoess(y, x, w, span, degree = degree, parametric = parametric, :\n",
      "\"neighborhood radius 2.165\"\n",
      "Warning message in simpleLoess(y, x, w, span, degree = degree, parametric = parametric, :\n",
      "\"reciprocal condition number  1.5645e-016\"\n",
      "Warning message in simpleLoess(y, x, w, span, degree = degree, parametric = parametric, :\n",
      "\"There are other near singularities as well. 4\"\n",
      "Warning message in predLoess(object$y, object$x, newx = if (is.null(newdata)) object$x else if (is.data.frame(newdata)) as.matrix(model.frame(delete.response(terms(object)), :\n",
      "\"pseudoinverse used at -0.165\"\n",
      "Warning message in predLoess(object$y, object$x, newx = if (is.null(newdata)) object$x else if (is.data.frame(newdata)) as.matrix(model.frame(delete.response(terms(object)), :\n",
      "\"neighborhood radius 2.165\"\n",
      "Warning message in predLoess(object$y, object$x, newx = if (is.null(newdata)) object$x else if (is.data.frame(newdata)) as.matrix(model.frame(delete.response(terms(object)), :\n",
      "\"reciprocal condition number  1.5645e-016\"\n",
      "Warning message in predLoess(object$y, object$x, newx = if (is.null(newdata)) object$x else if (is.data.frame(newdata)) as.matrix(model.frame(delete.response(terms(object)), :\n",
      "\"There are other near singularities as well. 4\"\n"
     ]
    },
    {
     "name": "stdout",
     "output_type": "stream",
     "text": [
      "  |                                                                      |   0%"
     ]
    },
    {
     "name": "stderr",
     "output_type": "stream",
     "text": [
      "Warning message:\n",
      "\"Removed 4397 rows containing non-finite values (stat_smooth).\"\n",
      "Warning message in simpleLoess(y, x, w, span, degree = degree, parametric = parametric, :\n",
      "\"pseudoinverse used at 0.855\"\n",
      "Warning message in simpleLoess(y, x, w, span, degree = degree, parametric = parametric, :\n",
      "\"neighborhood radius 1.145\"\n",
      "Warning message in simpleLoess(y, x, w, span, degree = degree, parametric = parametric, :\n",
      "\"reciprocal condition number  0\"\n",
      "Warning message in simpleLoess(y, x, w, span, degree = degree, parametric = parametric, :\n",
      "\"There are other near singularities as well. 1\"\n",
      "Warning message in predLoess(object$y, object$x, newx = if (is.null(newdata)) object$x else if (is.data.frame(newdata)) as.matrix(model.frame(delete.response(terms(object)), :\n",
      "\"pseudoinverse used at 0.855\"\n",
      "Warning message in predLoess(object$y, object$x, newx = if (is.null(newdata)) object$x else if (is.data.frame(newdata)) as.matrix(model.frame(delete.response(terms(object)), :\n",
      "\"neighborhood radius 1.145\"\n",
      "Warning message in predLoess(object$y, object$x, newx = if (is.null(newdata)) object$x else if (is.data.frame(newdata)) as.matrix(model.frame(delete.response(terms(object)), :\n",
      "\"reciprocal condition number  0\"\n",
      "Warning message in predLoess(object$y, object$x, newx = if (is.null(newdata)) object$x else if (is.data.frame(newdata)) as.matrix(model.frame(delete.response(terms(object)), :\n",
      "\"There are other near singularities as well. 1\"\n"
     ]
    },
    {
     "name": "stdout",
     "output_type": "stream",
     "text": [
      "  |                                                                      |   0%"
     ]
    },
    {
     "name": "stderr",
     "output_type": "stream",
     "text": [
      "Warning message:\n",
      "\"Removed 4397 rows containing non-finite values (stat_smooth).\"\n",
      "Warning message in simpleLoess(y, x, w, span, degree = degree, parametric = parametric, :\n",
      "\"pseudoinverse used at -0.07\"\n",
      "Warning message in simpleLoess(y, x, w, span, degree = degree, parametric = parametric, :\n",
      "\"neighborhood radius 2.07\"\n",
      "Warning message in simpleLoess(y, x, w, span, degree = degree, parametric = parametric, :\n",
      "\"reciprocal condition number  1.4018e-016\"\n",
      "Warning message in simpleLoess(y, x, w, span, degree = degree, parametric = parametric, :\n",
      "\"There are other near singularities as well. 1\"\n",
      "Warning message in predLoess(object$y, object$x, newx = if (is.null(newdata)) object$x else if (is.data.frame(newdata)) as.matrix(model.frame(delete.response(terms(object)), :\n",
      "\"pseudoinverse used at -0.07\"\n",
      "Warning message in predLoess(object$y, object$x, newx = if (is.null(newdata)) object$x else if (is.data.frame(newdata)) as.matrix(model.frame(delete.response(terms(object)), :\n",
      "\"neighborhood radius 2.07\"\n",
      "Warning message in predLoess(object$y, object$x, newx = if (is.null(newdata)) object$x else if (is.data.frame(newdata)) as.matrix(model.frame(delete.response(terms(object)), :\n",
      "\"reciprocal condition number  1.4018e-016\"\n",
      "Warning message in predLoess(object$y, object$x, newx = if (is.null(newdata)) object$x else if (is.data.frame(newdata)) as.matrix(model.frame(delete.response(terms(object)), :\n",
      "\"There are other near singularities as well. 1\"\n"
     ]
    },
    {
     "name": "stdout",
     "output_type": "stream",
     "text": [
      "  |                                                                      |   0%"
     ]
    },
    {
     "name": "stderr",
     "output_type": "stream",
     "text": [
      "Warning message:\n",
      "\"Removed 4397 rows containing non-finite values (stat_smooth).\"\n",
      "Warning message in simpleLoess(y, x, w, span, degree = degree, parametric = parametric, :\n",
      "\"at  -0.06\"\n",
      "Warning message in simpleLoess(y, x, w, span, degree = degree, parametric = parametric, :\n",
      "\"radius  0.0036\"\n",
      "Warning message in simpleLoess(y, x, w, span, degree = degree, parametric = parametric, :\n",
      "\"all data on boundary of neighborhood. make span bigger\"\n",
      "Warning message in simpleLoess(y, x, w, span, degree = degree, parametric = parametric, :\n",
      "\"pseudoinverse used at -0.06\"\n",
      "Warning message in simpleLoess(y, x, w, span, degree = degree, parametric = parametric, :\n",
      "\"neighborhood radius 0.06\"\n",
      "Warning message in simpleLoess(y, x, w, span, degree = degree, parametric = parametric, :\n",
      "\"reciprocal condition number  1\"\n",
      "Warning message in simpleLoess(y, x, w, span, degree = degree, parametric = parametric, :\n",
      "\"zero-width neighborhood. make span bigger\"\n",
      "Warning message:\n",
      "\"Computation failed in `stat_smooth()`:\n",
      "NA/NaN/Inf in foreign function call (arg 5)\"\n"
     ]
    },
    {
     "name": "stdout",
     "output_type": "stream",
     "text": [
      "  |                                                                      |   0%"
     ]
    },
    {
     "name": "stderr",
     "output_type": "stream",
     "text": [
      "Warning message:\n",
      "\"Removed 4397 rows containing non-finite values (stat_smooth).\"\n"
     ]
    },
    {
     "name": "stdout",
     "output_type": "stream",
     "text": [
      "  |                                                                      |   0%"
     ]
    },
    {
     "name": "stderr",
     "output_type": "stream",
     "text": [
      "Warning message:\n",
      "\"Removed 4397 rows containing non-finite values (stat_smooth).\"\n"
     ]
    },
    {
     "name": "stdout",
     "output_type": "stream",
     "text": [
      "  |                                                                      |   0%"
     ]
    },
    {
     "name": "stderr",
     "output_type": "stream",
     "text": [
      "Warning message:\n",
      "\"Removed 4397 rows containing non-finite values (stat_smooth).\"\n",
      "Warning message in simpleLoess(y, x, w, span, degree = degree, parametric = parametric, :\n",
      "\"at  -0.26\"\n",
      "Warning message in simpleLoess(y, x, w, span, degree = degree, parametric = parametric, :\n",
      "\"radius  0.0676\"\n",
      "Warning message in simpleLoess(y, x, w, span, degree = degree, parametric = parametric, :\n",
      "\"all data on boundary of neighborhood. make span bigger\"\n",
      "Warning message in simpleLoess(y, x, w, span, degree = degree, parametric = parametric, :\n",
      "\"pseudoinverse used at -0.26\"\n",
      "Warning message in simpleLoess(y, x, w, span, degree = degree, parametric = parametric, :\n",
      "\"neighborhood radius 0.26\"\n",
      "Warning message in simpleLoess(y, x, w, span, degree = degree, parametric = parametric, :\n",
      "\"reciprocal condition number  1\"\n",
      "Warning message in simpleLoess(y, x, w, span, degree = degree, parametric = parametric, :\n",
      "\"zero-width neighborhood. make span bigger\"\n",
      "Warning message:\n",
      "\"Computation failed in `stat_smooth()`:\n",
      "NA/NaN/Inf in foreign function call (arg 5)\"\n"
     ]
    },
    {
     "name": "stdout",
     "output_type": "stream",
     "text": [
      "  |                                                                      |   0%"
     ]
    },
    {
     "name": "stderr",
     "output_type": "stream",
     "text": [
      "Warning message:\n",
      "\"Removed 4397 rows containing non-finite values (stat_smooth).\"\n",
      "Warning message in simpleLoess(y, x, w, span, degree = degree, parametric = parametric, :\n",
      "\"pseudoinverse used at 2\"\n",
      "Warning message in simpleLoess(y, x, w, span, degree = degree, parametric = parametric, :\n",
      "\"neighborhood radius 1\"\n",
      "Warning message in simpleLoess(y, x, w, span, degree = degree, parametric = parametric, :\n",
      "\"reciprocal condition number  0\"\n",
      "Warning message in predLoess(object$y, object$x, newx = if (is.null(newdata)) object$x else if (is.data.frame(newdata)) as.matrix(model.frame(delete.response(terms(object)), :\n",
      "\"pseudoinverse used at 2\"\n",
      "Warning message in predLoess(object$y, object$x, newx = if (is.null(newdata)) object$x else if (is.data.frame(newdata)) as.matrix(model.frame(delete.response(terms(object)), :\n",
      "\"neighborhood radius 1\"\n",
      "Warning message in predLoess(object$y, object$x, newx = if (is.null(newdata)) object$x else if (is.data.frame(newdata)) as.matrix(model.frame(delete.response(terms(object)), :\n",
      "\"reciprocal condition number  0\"\n"
     ]
    },
    {
     "name": "stdout",
     "output_type": "stream",
     "text": [
      "  |                                                                      |   0%"
     ]
    },
    {
     "name": "stderr",
     "output_type": "stream",
     "text": [
      "Warning message:\n",
      "\"Removed 4382 rows containing non-finite values (stat_smooth).\"\n"
     ]
    },
    {
     "name": "stdout",
     "output_type": "stream",
     "text": [
      "  |                                                                      |   0%"
     ]
    },
    {
     "name": "stderr",
     "output_type": "stream",
     "text": [
      "Warning message:\n",
      "\"Removed 4382 rows containing non-finite values (stat_smooth).\"\n"
     ]
    },
    {
     "name": "stdout",
     "output_type": "stream",
     "text": [
      "  |                                                                      |   0%"
     ]
    },
    {
     "name": "stderr",
     "output_type": "stream",
     "text": [
      "Warning message:\n",
      "\"Removed 4382 rows containing non-finite values (stat_smooth).\"\n"
     ]
    },
    {
     "name": "stdout",
     "output_type": "stream",
     "text": [
      "  |                                                                      |   0%"
     ]
    },
    {
     "name": "stderr",
     "output_type": "stream",
     "text": [
      "Warning message:\n",
      "\"Removed 4382 rows containing non-finite values (stat_smooth).\"\n"
     ]
    },
    {
     "name": "stdout",
     "output_type": "stream",
     "text": [
      "  |                                                                      |   0%"
     ]
    },
    {
     "name": "stderr",
     "output_type": "stream",
     "text": [
      "Warning message:\n",
      "\"Removed 4382 rows containing non-finite values (stat_smooth).\"\n"
     ]
    },
    {
     "name": "stdout",
     "output_type": "stream",
     "text": [
      "  |                                                                      |   0%"
     ]
    },
    {
     "name": "stderr",
     "output_type": "stream",
     "text": [
      "Warning message:\n",
      "\"Removed 4382 rows containing non-finite values (stat_smooth).\"\n"
     ]
    },
    {
     "name": "stdout",
     "output_type": "stream",
     "text": [
      "  |                                                                      |   0%"
     ]
    },
    {
     "name": "stderr",
     "output_type": "stream",
     "text": [
      "Warning message:\n",
      "\"Removed 4382 rows containing non-finite values (stat_smooth).\"\n"
     ]
    },
    {
     "name": "stdout",
     "output_type": "stream",
     "text": [
      "  |                                                                      |   0%"
     ]
    },
    {
     "name": "stderr",
     "output_type": "stream",
     "text": [
      "Warning message:\n",
      "\"Removed 4397 rows containing non-finite values (stat_smooth).\"\n",
      "Warning message in simpleLoess(y, x, w, span, degree = degree, parametric = parametric, :\n",
      "\"pseudoinverse used at -0.06\"\n",
      "Warning message in simpleLoess(y, x, w, span, degree = degree, parametric = parametric, :\n",
      "\"neighborhood radius 2.06\"\n",
      "Warning message in simpleLoess(y, x, w, span, degree = degree, parametric = parametric, :\n",
      "\"reciprocal condition number  1.4247e-016\"\n",
      "Warning message in simpleLoess(y, x, w, span, degree = degree, parametric = parametric, :\n",
      "\"There are other near singularities as well. 4\"\n",
      "Warning message in predLoess(object$y, object$x, newx = if (is.null(newdata)) object$x else if (is.data.frame(newdata)) as.matrix(model.frame(delete.response(terms(object)), :\n",
      "\"pseudoinverse used at -0.06\"\n",
      "Warning message in predLoess(object$y, object$x, newx = if (is.null(newdata)) object$x else if (is.data.frame(newdata)) as.matrix(model.frame(delete.response(terms(object)), :\n",
      "\"neighborhood radius 2.06\"\n",
      "Warning message in predLoess(object$y, object$x, newx = if (is.null(newdata)) object$x else if (is.data.frame(newdata)) as.matrix(model.frame(delete.response(terms(object)), :\n",
      "\"reciprocal condition number  1.4247e-016\"\n",
      "Warning message in predLoess(object$y, object$x, newx = if (is.null(newdata)) object$x else if (is.data.frame(newdata)) as.matrix(model.frame(delete.response(terms(object)), :\n",
      "\"There are other near singularities as well. 4\"\n"
     ]
    },
    {
     "name": "stdout",
     "output_type": "stream",
     "text": [
      "  |                                                                      |   0%"
     ]
    },
    {
     "name": "stderr",
     "output_type": "stream",
     "text": [
      "Warning message:\n",
      "\"Removed 4382 rows containing non-finite values (stat_smooth).\"\n"
     ]
    },
    {
     "name": "stdout",
     "output_type": "stream",
     "text": [
      "  |                                                                      |   0%"
     ]
    },
    {
     "name": "stderr",
     "output_type": "stream",
     "text": [
      "Warning message:\n",
      "\"Removed 4382 rows containing non-finite values (stat_smooth).\"\n"
     ]
    },
    {
     "name": "stdout",
     "output_type": "stream",
     "text": [
      "  |                                                                      |   0%"
     ]
    },
    {
     "name": "stderr",
     "output_type": "stream",
     "text": [
      "Warning message:\n",
      "\"Removed 4382 rows containing non-finite values (stat_smooth).\"\n"
     ]
    },
    {
     "name": "stdout",
     "output_type": "stream",
     "text": [
      "\r",
      "  |                                                                            \r",
      "  |===================================================================== |  99%"
     ]
    },
    {
     "name": "stderr",
     "output_type": "stream",
     "text": [
      "Warning message in system(cmd, intern = intern, wait = wait | intern, show.output.on.console = wait, :\n",
      "\"running command 'C:\\WINDOWS\\system32\\cmd.exe /c explorer  report\\report.html' had status 1\"\n"
     ]
    },
    {
     "data": {
      "text/html": [],
      "text/latex": [],
      "text/markdown": [],
      "text/plain": [
       "character(0)\n",
       "attr(,\"status\")\n",
       "[1] 1"
      ]
     },
     "metadata": {},
     "output_type": "display_data"
    }
   ],
   "source": [
    "##### explore all depandent variables in revenue ########\n",
    "exploreData(data=data.frame(movies_ff),y=\"revenue\",dir=\"all_args_vs_revenue\")"
   ]
  },
  {
   "cell_type": "code",
   "execution_count": 49,
   "metadata": {},
   "outputs": [
    {
     "data": {
      "image/png": "[encoded data removed]",
      "text/plain": [
       "plot without title"
      ]
     },
     "metadata": {
      "image/png": {
       "height": 420,
       "width": 420
      }
     },
     "output_type": "display_data"
    }
   ],
   "source": [
    "\n",
    "plot(movies_ff$revenue ~ movies_ff$budget)"
   ]
  },
  {
   "cell_type": "code",
   "execution_count": 58,
   "metadata": {},
   "outputs": [],
   "source": [
    "movies_ff <- movies_ff %>% \n",
    "    mutate(orig_lang2=ifelse(original_language %in% c(\"en\",\"fr\",\"in\",\"ru\",\"es\",\"ja\"),original_language,'other'))"
   ]
  },
  {
   "cell_type": "code",
   "execution_count": 59,
   "metadata": {},
   "outputs": [
    {
     "name": "stderr",
     "output_type": "stream",
     "text": [
      "Warning message:\n",
      "\"Removed 4382 rows containing non-finite values (stat_density).\"\n"
     ]
    },
    {
     "data": {
      "image/png": "[encoded data removed]",
      "text/plain": [
       "plot without title"
      ]
     },
     "metadata": {
      "image/png": {
       "height": 420,
       "width": 420
      }
     },
     "output_type": "display_data"
    }
   ],
   "source": [
    "ggplot(data=movies_ff) +\n",
    "    geom_density(aes(log(revenue), group=orig_lang2, color=orig_lang2))"
   ]
  },
  {
   "cell_type": "code",
   "execution_count": 60,
   "metadata": {},
   "outputs": [
    {
     "name": "stderr",
     "output_type": "stream",
     "text": [
      "Warning message:\n",
      "\"Removed 4382 rows containing non-finite values (stat_density).\"\n",
      "Warning message:\n",
      "\"Groups with fewer than two data points have been dropped.\"\n",
      "Warning message:\n",
      "\"Groups with fewer than two data points have been dropped.\"\n",
      "Warning message:\n",
      "\"Groups with fewer than two data points have been dropped.\"\n",
      "Warning message:\n",
      "\"Groups with fewer than two data points have been dropped.\"\n",
      "Warning message:\n",
      "\"Groups with fewer than two data points have been dropped.\"\n",
      "Warning message:\n",
      "\"Groups with fewer than two data points have been dropped.\"\n",
      "Warning message:\n",
      "\"Groups with fewer than two data points have been dropped.\"\n",
      "Warning message:\n",
      "\"Groups with fewer than two data points have been dropped.\"\n",
      "Warning message:\n",
      "\"Groups with fewer than two data points have been dropped.\"\n",
      "Warning message:\n",
      "\"Groups with fewer than two data points have been dropped.\"\n",
      "Warning message:\n",
      "\"Groups with fewer than two data points have been dropped.\"\n"
     ]
    },
    {
     "data": {
      "image/png": "[encoded data removed]",
      "text/plain": [
       "plot without title"
      ]
     },
     "metadata": {
      "image/png": {
       "height": 420,
       "width": 420
      }
     },
     "output_type": "display_data"
    }
   ],
   "source": [
    "ggplot(data=movies_ff) +\n",
    "    geom_density(aes(log(revenue), group=original_language, color=original_language ))"
   ]
  },
  {
   "cell_type": "code",
   "execution_count": 62,
   "metadata": {},
   "outputs": [
    {
     "data": {
      "image/png": "[encoded data removed]",
      "text/plain": [
       "plot without title"
      ]
     },
     "metadata": {
      "image/png": {
       "height": 420,
       "width": 420
      }
     },
     "output_type": "display_data"
    }
   ],
   "source": [
    "plot(movies_ff$revenue ~ movies_ff$popularity)"
   ]
  },
  {
   "cell_type": "code",
   "execution_count": 68,
   "metadata": {},
   "outputs": [
    {
     "name": "stdout",
     "output_type": "stream",
     "text": [
      "NULL\n"
     ]
    },
    {
     "data": {
      "image/png": "[encoded data removed]",
      "text/plain": [
       "plot without title"
      ]
     },
     "metadata": {
      "image/png": {
       "height": 420,
       "width": 420
      }
     },
     "output_type": "display_data"
    }
   ],
   "source": [
    "plot(movies_ff$revenue ~ movies_ff$release_year)"
   ]
  },
  {
   "cell_type": "code",
   "execution_count": 70,
   "metadata": {},
   "outputs": [
    {
     "data": {
      "image/png": "[encoded data removed]",
      "text/plain": [
       "plot without title"
      ]
     },
     "metadata": {
      "image/png": {
       "height": 420,
       "width": 420
      }
     },
     "output_type": "display_data"
    }
   ],
   "source": [
    "plot(movies_ff$revenue ~ movies_ff$keywords_cnt, xlim=c(0,50))"
   ]
  },
  {
   "cell_type": "markdown",
   "metadata": {},
   "source": [
    "# 2.5 - outliers"
   ]
  },
  {
   "cell_type": "code",
   "execution_count": 21,
   "metadata": {},
   "outputs": [],
   "source": [
    "outliers <- outlierMatrix(movies_ff)"
   ]
  },
  {
   "cell_type": "code",
   "execution_count": 22,
   "metadata": {},
   "outputs": [
    {
     "data": {
      "text/html": [
       "<table>\n",
       "<thead><tr><th scope=col>movie_id</th><th scope=col>budget</th><th scope=col>popularity</th><th scope=col>runtime</th><th scope=col>revenue</th><th scope=col>sw_lang_en</th><th scope=col>sw_web_presence</th><th scope=col>sw_has_poster</th><th scope=col>sw_tagline</th><th scope=col>keyword_cnt</th><th scope=col>...</th><th scope=col>depart_Camera_female</th><th scope=col>depart_Crew_female</th><th scope=col>depart_Custom_Mkup_female</th><th scope=col>depart_Directing_female</th><th scope=col>depart_Editing_female</th><th scope=col>depart_Lighting_female</th><th scope=col>depart_Production_female</th><th scope=col>depart_Sound_female</th><th scope=col>depart_Visual_Effects_female</th><th scope=col>depart_Writing_female</th></tr></thead>\n",
       "<tbody>\n",
       "\t<tr><td>0  </td><td>0  </td><td>0  </td><td>0  </td><td>0  </td><td>0  </td><td>0  </td><td>0  </td><td>0  </td><td>0  </td><td>...</td><td>0  </td><td>0  </td><td>0  </td><td>0  </td><td>0  </td><td>0  </td><td>0  </td><td>0  </td><td>0  </td><td>0  </td></tr>\n",
       "\t<tr><td>0  </td><td>0  </td><td>0  </td><td>0  </td><td>0  </td><td>0  </td><td>0  </td><td>0  </td><td>0  </td><td>0  </td><td>...</td><td>0  </td><td>0  </td><td>0  </td><td>0  </td><td>0  </td><td>0  </td><td>0  </td><td>0  </td><td>0  </td><td>1  </td></tr>\n",
       "\t<tr><td>0  </td><td>0  </td><td>1  </td><td>0  </td><td>0  </td><td>0  </td><td>0  </td><td>0  </td><td>0  </td><td>0  </td><td>...</td><td>0  </td><td>1  </td><td>0  </td><td>0  </td><td>0  </td><td>0  </td><td>0  </td><td>0  </td><td>0  </td><td>0  </td></tr>\n",
       "\t<tr><td>0  </td><td>0  </td><td>0  </td><td>0  </td><td>0  </td><td>1  </td><td>0  </td><td>0  </td><td>1  </td><td>0  </td><td>...</td><td>0  </td><td>0  </td><td>0  </td><td>0  </td><td>0  </td><td>0  </td><td>0  </td><td>0  </td><td>0  </td><td>0  </td></tr>\n",
       "\t<tr><td>0  </td><td>0  </td><td>0  </td><td>0  </td><td>0  </td><td>1  </td><td>0  </td><td>0  </td><td>1  </td><td>0  </td><td>...</td><td>0  </td><td>0  </td><td>0  </td><td>0  </td><td>0  </td><td>0  </td><td>0  </td><td>0  </td><td>0  </td><td>0  </td></tr>\n",
       "\t<tr><td>0  </td><td>0  </td><td>0  </td><td>0  </td><td>0  </td><td>0  </td><td>0  </td><td>0  </td><td>1  </td><td>0  </td><td>...</td><td>0  </td><td>0  </td><td>0  </td><td>0  </td><td>0  </td><td>0  </td><td>0  </td><td>0  </td><td>0  </td><td>0  </td></tr>\n",
       "</tbody>\n",
       "</table>\n"
      ],
      "text/latex": [
       "\\begin{tabular}{r|llllllllllllllllllllllllllllllllllllllllllllllllllllllllllllllllllllllllllllllllll}\n",
       " movie\\_id & budget & popularity & runtime & revenue & sw\\_lang\\_en & sw\\_web\\_presence & sw\\_has\\_poster & sw\\_tagline & keyword\\_cnt & ... & depart\\_Camera\\_female & depart\\_Crew\\_female & depart\\_Custom\\_Mkup\\_female & depart\\_Directing\\_female & depart\\_Editing\\_female & depart\\_Lighting\\_female & depart\\_Production\\_female & depart\\_Sound\\_female & depart\\_Visual\\_Effects\\_female & depart\\_Writing\\_female\\\\\n",
       "\\hline\n",
       "\t 0   & 0   & 0   & 0   & 0   & 0   & 0   & 0   & 0   & 0   & ... & 0   & 0   & 0   & 0   & 0   & 0   & 0   & 0   & 0   & 0  \\\\\n",
       "\t 0   & 0   & 0   & 0   & 0   & 0   & 0   & 0   & 0   & 0   & ... & 0   & 0   & 0   & 0   & 0   & 0   & 0   & 0   & 0   & 1  \\\\\n",
       "\t 0   & 0   & 1   & 0   & 0   & 0   & 0   & 0   & 0   & 0   & ... & 0   & 1   & 0   & 0   & 0   & 0   & 0   & 0   & 0   & 0  \\\\\n",
       "\t 0   & 0   & 0   & 0   & 0   & 1   & 0   & 0   & 1   & 0   & ... & 0   & 0   & 0   & 0   & 0   & 0   & 0   & 0   & 0   & 0  \\\\\n",
       "\t 0   & 0   & 0   & 0   & 0   & 1   & 0   & 0   & 1   & 0   & ... & 0   & 0   & 0   & 0   & 0   & 0   & 0   & 0   & 0   & 0  \\\\\n",
       "\t 0   & 0   & 0   & 0   & 0   & 0   & 0   & 0   & 1   & 0   & ... & 0   & 0   & 0   & 0   & 0   & 0   & 0   & 0   & 0   & 0  \\\\\n",
       "\\end{tabular}\n"
      ],
      "text/markdown": [
       "\n",
       "| movie_id | budget | popularity | runtime | revenue | sw_lang_en | sw_web_presence | sw_has_poster | sw_tagline | keyword_cnt | ... | depart_Camera_female | depart_Crew_female | depart_Custom_Mkup_female | depart_Directing_female | depart_Editing_female | depart_Lighting_female | depart_Production_female | depart_Sound_female | depart_Visual_Effects_female | depart_Writing_female |\n",
       "|---|---|---|---|---|---|---|---|---|---|---|---|---|---|---|---|---|---|---|---|---|\n",
       "| 0   | 0   | 0   | 0   | 0   | 0   | 0   | 0   | 0   | 0   | ... | 0   | 0   | 0   | 0   | 0   | 0   | 0   | 0   | 0   | 0   |\n",
       "| 0   | 0   | 0   | 0   | 0   | 0   | 0   | 0   | 0   | 0   | ... | 0   | 0   | 0   | 0   | 0   | 0   | 0   | 0   | 0   | 1   |\n",
       "| 0   | 0   | 1   | 0   | 0   | 0   | 0   | 0   | 0   | 0   | ... | 0   | 1   | 0   | 0   | 0   | 0   | 0   | 0   | 0   | 0   |\n",
       "| 0   | 0   | 0   | 0   | 0   | 1   | 0   | 0   | 1   | 0   | ... | 0   | 0   | 0   | 0   | 0   | 0   | 0   | 0   | 0   | 0   |\n",
       "| 0   | 0   | 0   | 0   | 0   | 1   | 0   | 0   | 1   | 0   | ... | 0   | 0   | 0   | 0   | 0   | 0   | 0   | 0   | 0   | 0   |\n",
       "| 0   | 0   | 0   | 0   | 0   | 0   | 0   | 0   | 1   | 0   | ... | 0   | 0   | 0   | 0   | 0   | 0   | 0   | 0   | 0   | 0   |\n",
       "\n"
      ],
      "text/plain": [
       "  movie_id budget popularity runtime revenue sw_lang_en sw_web_presence\n",
       "1 0        0      0          0       0       0          0              \n",
       "2 0        0      0          0       0       0          0              \n",
       "3 0        0      1          0       0       0          0              \n",
       "4 0        0      0          0       0       1          0              \n",
       "5 0        0      0          0       0       1          0              \n",
       "6 0        0      0          0       0       0          0              \n",
       "  sw_has_poster sw_tagline keyword_cnt ... depart_Camera_female\n",
       "1 0             0          0           ... 0                   \n",
       "2 0             0          0           ... 0                   \n",
       "3 0             0          0           ... 0                   \n",
       "4 0             1          0           ... 0                   \n",
       "5 0             1          0           ... 0                   \n",
       "6 0             1          0           ... 0                   \n",
       "  depart_Crew_female depart_Custom_Mkup_female depart_Directing_female\n",
       "1 0                  0                         0                      \n",
       "2 0                  0                         0                      \n",
       "3 1                  0                         0                      \n",
       "4 0                  0                         0                      \n",
       "5 0                  0                         0                      \n",
       "6 0                  0                         0                      \n",
       "  depart_Editing_female depart_Lighting_female depart_Production_female\n",
       "1 0                     0                      0                       \n",
       "2 0                     0                      0                       \n",
       "3 0                     0                      0                       \n",
       "4 0                     0                      0                       \n",
       "5 0                     0                      0                       \n",
       "6 0                     0                      0                       \n",
       "  depart_Sound_female depart_Visual_Effects_female depart_Writing_female\n",
       "1 0                   0                            0                    \n",
       "2 0                   0                            1                    \n",
       "3 0                   0                            0                    \n",
       "4 0                   0                            0                    \n",
       "5 0                   0                            0                    \n",
       "6 0                   0                            0                    "
      ]
     },
     "metadata": {},
     "output_type": "display_data"
    }
   ],
   "source": [
    "head(outliers)"
   ]
  },
  {
   "cell_type": "code",
   "execution_count": 34,
   "metadata": {},
   "outputs": [
    {
     "data": {
      "text/html": [
       "<table>\n",
       "<thead><tr><th scope=col>movie_id</th><th scope=col>budget</th><th scope=col>popularity</th><th scope=col>runtime</th><th scope=col>revenue</th><th scope=col>sw_lang_en</th><th scope=col>sw_web_presence</th><th scope=col>sw_has_poster</th><th scope=col>sw_tagline</th><th scope=col>keyword_cnt</th><th scope=col>...</th><th scope=col>depart_Camera_female</th><th scope=col>depart_Crew_female</th><th scope=col>depart_Custom_Mkup_female</th><th scope=col>depart_Directing_female</th><th scope=col>depart_Editing_female</th><th scope=col>depart_Lighting_female</th><th scope=col>depart_Production_female</th><th scope=col>depart_Sound_female</th><th scope=col>depart_Visual_Effects_female</th><th scope=col>depart_Writing_female</th></tr></thead>\n",
       "<tbody>\n",
       "\t<tr><td>0  </td><td>0  </td><td>0  </td><td>0  </td><td>0  </td><td>0  </td><td>0  </td><td>0  </td><td>0  </td><td>0  </td><td>...</td><td>0  </td><td>0  </td><td>0  </td><td>0  </td><td>0  </td><td>0  </td><td>0  </td><td>0  </td><td>0  </td><td>0  </td></tr>\n",
       "\t<tr><td>0  </td><td>0  </td><td>0  </td><td>0  </td><td>0  </td><td>0  </td><td>0  </td><td>0  </td><td>0  </td><td>0  </td><td>...</td><td>0  </td><td>0  </td><td>0  </td><td>0  </td><td>0  </td><td>0  </td><td>0  </td><td>0  </td><td>0  </td><td>1  </td></tr>\n",
       "\t<tr><td>0  </td><td>0  </td><td>1  </td><td>0  </td><td>0  </td><td>0  </td><td>0  </td><td>0  </td><td>0  </td><td>0  </td><td>...</td><td>0  </td><td>1  </td><td>0  </td><td>0  </td><td>0  </td><td>0  </td><td>0  </td><td>0  </td><td>0  </td><td>0  </td></tr>\n",
       "\t<tr><td>0  </td><td>0  </td><td>0  </td><td>0  </td><td>0  </td><td>1  </td><td>0  </td><td>0  </td><td>1  </td><td>0  </td><td>...</td><td>0  </td><td>0  </td><td>0  </td><td>0  </td><td>0  </td><td>0  </td><td>0  </td><td>0  </td><td>0  </td><td>0  </td></tr>\n",
       "\t<tr><td>0  </td><td>0  </td><td>0  </td><td>0  </td><td>0  </td><td>1  </td><td>0  </td><td>0  </td><td>1  </td><td>0  </td><td>...</td><td>0  </td><td>0  </td><td>0  </td><td>0  </td><td>0  </td><td>0  </td><td>0  </td><td>0  </td><td>0  </td><td>0  </td></tr>\n",
       "\t<tr><td>0  </td><td>0  </td><td>0  </td><td>0  </td><td>0  </td><td>0  </td><td>0  </td><td>0  </td><td>1  </td><td>0  </td><td>...</td><td>0  </td><td>0  </td><td>0  </td><td>0  </td><td>0  </td><td>0  </td><td>0  </td><td>0  </td><td>0  </td><td>0  </td></tr>\n",
       "</tbody>\n",
       "</table>\n"
      ],
      "text/latex": [
       "\\begin{tabular}{r|llllllllllllllllllllllllllllllllllllllllllllllllllllllllllllllllllllllllllllllllll}\n",
       " movie\\_id & budget & popularity & runtime & revenue & sw\\_lang\\_en & sw\\_web\\_presence & sw\\_has\\_poster & sw\\_tagline & keyword\\_cnt & ... & depart\\_Camera\\_female & depart\\_Crew\\_female & depart\\_Custom\\_Mkup\\_female & depart\\_Directing\\_female & depart\\_Editing\\_female & depart\\_Lighting\\_female & depart\\_Production\\_female & depart\\_Sound\\_female & depart\\_Visual\\_Effects\\_female & depart\\_Writing\\_female\\\\\n",
       "\\hline\n",
       "\t 0   & 0   & 0   & 0   & 0   & 0   & 0   & 0   & 0   & 0   & ... & 0   & 0   & 0   & 0   & 0   & 0   & 0   & 0   & 0   & 0  \\\\\n",
       "\t 0   & 0   & 0   & 0   & 0   & 0   & 0   & 0   & 0   & 0   & ... & 0   & 0   & 0   & 0   & 0   & 0   & 0   & 0   & 0   & 1  \\\\\n",
       "\t 0   & 0   & 1   & 0   & 0   & 0   & 0   & 0   & 0   & 0   & ... & 0   & 1   & 0   & 0   & 0   & 0   & 0   & 0   & 0   & 0  \\\\\n",
       "\t 0   & 0   & 0   & 0   & 0   & 1   & 0   & 0   & 1   & 0   & ... & 0   & 0   & 0   & 0   & 0   & 0   & 0   & 0   & 0   & 0  \\\\\n",
       "\t 0   & 0   & 0   & 0   & 0   & 1   & 0   & 0   & 1   & 0   & ... & 0   & 0   & 0   & 0   & 0   & 0   & 0   & 0   & 0   & 0  \\\\\n",
       "\t 0   & 0   & 0   & 0   & 0   & 0   & 0   & 0   & 1   & 0   & ... & 0   & 0   & 0   & 0   & 0   & 0   & 0   & 0   & 0   & 0  \\\\\n",
       "\\end{tabular}\n"
      ],
      "text/markdown": [
       "\n",
       "| movie_id | budget | popularity | runtime | revenue | sw_lang_en | sw_web_presence | sw_has_poster | sw_tagline | keyword_cnt | ... | depart_Camera_female | depart_Crew_female | depart_Custom_Mkup_female | depart_Directing_female | depart_Editing_female | depart_Lighting_female | depart_Production_female | depart_Sound_female | depart_Visual_Effects_female | depart_Writing_female |\n",
       "|---|---|---|---|---|---|---|---|---|---|---|---|---|---|---|---|---|---|---|---|---|\n",
       "| 0   | 0   | 0   | 0   | 0   | 0   | 0   | 0   | 0   | 0   | ... | 0   | 0   | 0   | 0   | 0   | 0   | 0   | 0   | 0   | 0   |\n",
       "| 0   | 0   | 0   | 0   | 0   | 0   | 0   | 0   | 0   | 0   | ... | 0   | 0   | 0   | 0   | 0   | 0   | 0   | 0   | 0   | 1   |\n",
       "| 0   | 0   | 1   | 0   | 0   | 0   | 0   | 0   | 0   | 0   | ... | 0   | 1   | 0   | 0   | 0   | 0   | 0   | 0   | 0   | 0   |\n",
       "| 0   | 0   | 0   | 0   | 0   | 1   | 0   | 0   | 1   | 0   | ... | 0   | 0   | 0   | 0   | 0   | 0   | 0   | 0   | 0   | 0   |\n",
       "| 0   | 0   | 0   | 0   | 0   | 1   | 0   | 0   | 1   | 0   | ... | 0   | 0   | 0   | 0   | 0   | 0   | 0   | 0   | 0   | 0   |\n",
       "| 0   | 0   | 0   | 0   | 0   | 0   | 0   | 0   | 1   | 0   | ... | 0   | 0   | 0   | 0   | 0   | 0   | 0   | 0   | 0   | 0   |\n",
       "\n"
      ],
      "text/plain": [
       "  movie_id budget popularity runtime revenue sw_lang_en sw_web_presence\n",
       "1 0        0      0          0       0       0          0              \n",
       "2 0        0      0          0       0       0          0              \n",
       "3 0        0      1          0       0       0          0              \n",
       "4 0        0      0          0       0       1          0              \n",
       "5 0        0      0          0       0       1          0              \n",
       "6 0        0      0          0       0       0          0              \n",
       "  sw_has_poster sw_tagline keyword_cnt ... depart_Camera_female\n",
       "1 0             0          0           ... 0                   \n",
       "2 0             0          0           ... 0                   \n",
       "3 0             0          0           ... 0                   \n",
       "4 0             1          0           ... 0                   \n",
       "5 0             1          0           ... 0                   \n",
       "6 0             1          0           ... 0                   \n",
       "  depart_Crew_female depart_Custom_Mkup_female depart_Directing_female\n",
       "1 0                  0                         0                      \n",
       "2 0                  0                         0                      \n",
       "3 1                  0                         0                      \n",
       "4 0                  0                         0                      \n",
       "5 0                  0                         0                      \n",
       "6 0                  0                         0                      \n",
       "  depart_Editing_female depart_Lighting_female depart_Production_female\n",
       "1 0                     0                      0                       \n",
       "2 0                     0                      0                       \n",
       "3 0                     0                      0                       \n",
       "4 0                     0                      0                       \n",
       "5 0                     0                      0                       \n",
       "6 0                     0                      0                       \n",
       "  depart_Sound_female depart_Visual_Effects_female depart_Writing_female\n",
       "1 0                   0                            0                    \n",
       "2 0                   0                            1                    \n",
       "3 0                   0                            0                    \n",
       "4 0                   0                            0                    \n",
       "5 0                   0                            0                    \n",
       "6 0                   0                            0                    "
      ]
     },
     "metadata": {},
     "output_type": "display_data"
    }
   ],
   "source": [
    "## Using IRQ for catching univariate outliers (1.5 x IRQ)\n",
    "head(outlierMatrix(movies_ff,threshold=1.5))"
   ]
  },
  {
   "cell_type": "code",
   "execution_count": 26,
   "metadata": {},
   "outputs": [
    {
     "name": "stderr",
     "output_type": "stream",
     "text": [
      "Warning message in x[floor(d)] + x[ceiling(d)]:\n",
      "\"NAs produced by integer overflow\"\n",
      "Warning message in x[floor(d)] + x[ceiling(d)]:\n",
      "\"NAs produced by integer overflow\"\n"
     ]
    },
    {
     "data": {
      "image/png": "[encoded data removed]",
      "text/plain": [
       "Plot with title \"release_month\""
      ]
     },
     "metadata": {
      "image/png": {
       "height": 480,
       "width": 480
      },
      "text/plain": {
       "height": 480,
       "width": 480
      }
     },
     "output_type": "display_data"
    },
    {
     "name": "stderr",
     "output_type": "stream",
     "text": [
      "Warning message in x[floor(d)] + x[ceiling(d)]:\n",
      "\"NAs produced by integer overflow\"\n",
      "Warning message in x[floor(d)] + x[ceiling(d)]:\n",
      "\"NAs produced by integer overflow\"\n"
     ]
    },
    {
     "data": {
      "image/png": "[encoded data removed]",
      "text/plain": [
       "Plot with title \"keywords_cnt\""
      ]
     },
     "metadata": {
      "image/png": {
       "height": 480,
       "width": 480
      },
      "text/plain": {
       "height": 480,
       "width": 480
      }
     },
     "output_type": "display_data"
    },
    {
     "name": "stderr",
     "output_type": "stream",
     "text": [
      "Warning message in x[floor(d)] + x[ceiling(d)]:\n",
      "\"NAs produced by integer overflow\"\n",
      "Warning message in x[floor(d)] + x[ceiling(d)]:\n",
      "\"NAs produced by integer overflow\"\n",
      "Warning message in x[floor(d)] + x[ceiling(d)]:\n",
      "\"NAs produced by integer overflow\"\n",
      "Warning message in x[floor(d)] + x[ceiling(d)]:\n",
      "\"NAs produced by integer overflow\"\n"
     ]
    },
    {
     "data": {
      "image/png": "[encoded data removed]",
      "text/plain": [
       "Plot with title \"sw_male_actor2\""
      ]
     },
     "metadata": {
      "image/png": {
       "height": 480,
       "width": 480
      },
      "text/plain": {
       "height": 480,
       "width": 480
      }
     },
     "output_type": "display_data"
    },
    {
     "data": {
      "image/png": "[encoded data removed]",
      "text/plain": [
       "Plot with title \"genre_comedy\""
      ]
     },
     "metadata": {
      "image/png": {
       "height": 480,
       "width": 480
      },
      "text/plain": {
       "height": 480,
       "width": 480
      }
     },
     "output_type": "display_data"
    },
    {
     "data": {
      "image/png": "[encoded data removed]",
      "text/plain": [
       "Plot with title \"genre_foreign\""
      ]
     },
     "metadata": {
      "image/png": {
       "height": 480,
       "width": 480
      },
      "text/plain": {
       "height": 480,
       "width": 480
      }
     },
     "output_type": "display_data"
    },
    {
     "data": {
      "image/png": "[encoded data removed]",
      "text/plain": [
       "Plot with title \"depart_Art_female\""
      ]
     },
     "metadata": {
      "image/png": {
       "height": 480,
       "width": 480
      },
      "text/plain": {
       "height": 480,
       "width": 480
      }
     },
     "output_type": "display_data"
    },
    {
     "data": {
      "image/png": "[encoded data removed]",
      "text/plain": [
       "Plot with title \"depart_Writing_female\""
      ]
     },
     "metadata": {
      "image/png": {
       "height": 480,
       "width": 480
      },
      "text/plain": {
       "height": 480,
       "width": 480
      }
     },
     "output_type": "display_data"
    }
   ],
   "source": [
    "options(repr.plot.width = 8, repr.plot.height = 8)\n",
    "par(mfrow=c(4,3))\n",
    "for(v in names(num_movies[,1:82])) {\n",
    "    outlier_values <- boxplot.stats(num_movies[,v])$out\n",
    "    boxplot(movies_ff[[v]],main=v)\n",
    "    mtext(paste(\"Outliers: \", paste(length(outlier_values), collapse=\", \")), cex=1)\n",
    "}\n",
    "par(mfrow=c(1,1))"
   ]
  },
  {
   "cell_type": "code",
   "execution_count": 58,
   "metadata": {},
   "outputs": [
    {
     "data": {
      "text/html": [
       "<ol class=list-inline>\n",
       "\t<li>7375</li>\n",
       "\t<li>85</li>\n",
       "</ol>\n"
      ],
      "text/latex": [
       "\\begin{enumerate*}\n",
       "\\item 7375\n",
       "\\item 85\n",
       "\\end{enumerate*}\n"
      ],
      "text/markdown": [
       "1. 7375\n",
       "2. 85\n",
       "\n",
       "\n"
      ],
      "text/plain": [
       "[1] 7375   85"
      ]
     },
     "metadata": {},
     "output_type": "display_data"
    }
   ],
   "source": [
    "dim(movies_ff)"
   ]
  },
  {
   "cell_type": "markdown",
   "metadata": {},
   "source": [
    "# 2.6 - Missings"
   ]
  },
  {
   "cell_type": "code",
   "execution_count": 27,
   "metadata": {},
   "outputs": [
    {
     "name": "stdout",
     "output_type": "stream",
     "text": [
      "[[1]]\n",
      "                   var na.count rate\n",
      "1              revenue     4382 59.4\n",
      "2  actor2_prev_revenue     3423 46.4\n",
      "3  actor1_prev_revenue     3201 43.4\n",
      "4  actor0_prev_revenue     2752 37.3\n",
      "5     sw_female_actor0      934 12.7\n",
      "6       sw_male_actor0      934 12.7\n",
      "7     sw_female_actor2      788 10.7\n",
      "8       sw_male_actor2      788 10.7\n",
      "9     sw_female_actor1      782 10.6\n",
      "10      sw_male_actor1      782 10.6\n",
      "\n",
      "[[2]]\n",
      "[1] \"This dataset has 1154 (15.6%) complete rows. Original data has 7375 rows.\"\n",
      "\n"
     ]
    },
    {
     "data": {
      "text/html": [
       "<dl>\n",
       "\t<dt>$missingness</dt>\n",
       "\t\t<dd><table>\n",
       "<thead><tr><th scope=col>var</th><th scope=col>na.count</th><th scope=col>rate</th></tr></thead>\n",
       "<tbody>\n",
       "\t<tr><td>revenue                     </td><td>4382                        </td><td>59.4                        </td></tr>\n",
       "\t<tr><td>actor2_prev_revenue         </td><td>3423                        </td><td>46.4                        </td></tr>\n",
       "\t<tr><td>actor1_prev_revenue         </td><td>3201                        </td><td>43.4                        </td></tr>\n",
       "\t<tr><td>actor0_prev_revenue         </td><td>2752                        </td><td>37.3                        </td></tr>\n",
       "\t<tr><td>sw_female_actor0            </td><td> 934                        </td><td>12.7                        </td></tr>\n",
       "\t<tr><td>sw_male_actor0              </td><td> 934                        </td><td>12.7                        </td></tr>\n",
       "\t<tr><td>sw_female_actor2            </td><td> 788                        </td><td>10.7                        </td></tr>\n",
       "\t<tr><td>sw_male_actor2              </td><td> 788                        </td><td>10.7                        </td></tr>\n",
       "\t<tr><td>sw_female_actor1            </td><td> 782                        </td><td>10.6                        </td></tr>\n",
       "\t<tr><td>sw_male_actor1              </td><td> 782                        </td><td>10.6                        </td></tr>\n",
       "\t<tr><td>producers_cnt               </td><td> 395                        </td><td> 5.4                        </td></tr>\n",
       "\t<tr><td>depart_Art                  </td><td>  34                        </td><td> 0.5                        </td></tr>\n",
       "\t<tr><td>depart_Camera               </td><td>  34                        </td><td> 0.5                        </td></tr>\n",
       "\t<tr><td>depart_Crew                 </td><td>  34                        </td><td> 0.5                        </td></tr>\n",
       "\t<tr><td>depart_Custom_Mkup          </td><td>  34                        </td><td> 0.5                        </td></tr>\n",
       "\t<tr><td>depart_Directing            </td><td>  34                        </td><td> 0.5                        </td></tr>\n",
       "\t<tr><td>depart_Editing              </td><td>  34                        </td><td> 0.5                        </td></tr>\n",
       "\t<tr><td>depart_Lighting             </td><td>  34                        </td><td> 0.5                        </td></tr>\n",
       "\t<tr><td>depart_Production           </td><td>  34                        </td><td> 0.5                        </td></tr>\n",
       "\t<tr><td>depart_Sound                </td><td>  34                        </td><td> 0.5                        </td></tr>\n",
       "\t<tr><td>depart_Visual_Effects       </td><td>  34                        </td><td> 0.5                        </td></tr>\n",
       "\t<tr><td>depart_Writing              </td><td>  34                        </td><td> 0.5                        </td></tr>\n",
       "\t<tr><td>depart_Art_female           </td><td>  34                        </td><td> 0.5                        </td></tr>\n",
       "\t<tr><td>depart_Camera_female        </td><td>  34                        </td><td> 0.5                        </td></tr>\n",
       "\t<tr><td>depart_Crew_female          </td><td>  34                        </td><td> 0.5                        </td></tr>\n",
       "\t<tr><td>depart_Custom_Mkup_female   </td><td>  34                        </td><td> 0.5                        </td></tr>\n",
       "\t<tr><td>depart_Directing_female     </td><td>  34                        </td><td> 0.5                        </td></tr>\n",
       "\t<tr><td>depart_Editing_female       </td><td>  34                        </td><td> 0.5                        </td></tr>\n",
       "\t<tr><td>depart_Lighting_female      </td><td>  34                        </td><td> 0.5                        </td></tr>\n",
       "\t<tr><td>depart_Production_female    </td><td>  34                        </td><td> 0.5                        </td></tr>\n",
       "\t<tr><td>depart_Sound_female         </td><td>  34                        </td><td> 0.5                        </td></tr>\n",
       "\t<tr><td>depart_Visual_Effects_female</td><td>  34                        </td><td> 0.5                        </td></tr>\n",
       "\t<tr><td>depart_Writing_female       </td><td>  34                        </td><td> 0.5                        </td></tr>\n",
       "\t<tr><td>runtime                     </td><td>   5                        </td><td> 0.1                        </td></tr>\n",
       "\t<tr><td>release_date                </td><td>   1                        </td><td> 0.0                        </td></tr>\n",
       "\t<tr><td>release_year                </td><td>   1                        </td><td> 0.0                        </td></tr>\n",
       "\t<tr><td>release_month               </td><td>   1                        </td><td> 0.0                        </td></tr>\n",
       "\t<tr><td>release_day                 </td><td>   1                        </td><td> 0.0                        </td></tr>\n",
       "\t<tr><td>seasonality                 </td><td>   1                        </td><td> 0.0                        </td></tr>\n",
       "</tbody>\n",
       "</table>\n",
       "</dd>\n",
       "\t<dt>$message</dt>\n",
       "\t\t<dd>'This dataset has 1154 (15.6%) complete rows. Original data has 7375 rows.'</dd>\n",
       "\t<dt>$rows</dt>\n",
       "\t\t<dd>NULL</dd>\n",
       "</dl>\n"
      ],
      "text/latex": [
       "\\begin{description}\n",
       "\\item[\\$missingness] \\begin{tabular}{r|lll}\n",
       " var & na.count & rate\\\\\n",
       "\\hline\n",
       "\t revenue                      & 4382                         & 59.4                        \\\\\n",
       "\t actor2\\_prev\\_revenue          & 3423                             & 46.4                            \\\\\n",
       "\t actor1\\_prev\\_revenue          & 3201                             & 43.4                            \\\\\n",
       "\t actor0\\_prev\\_revenue          & 2752                             & 37.3                            \\\\\n",
       "\t sw\\_female\\_actor0             &  934                             & 12.7                            \\\\\n",
       "\t sw\\_male\\_actor0               &  934                             & 12.7                            \\\\\n",
       "\t sw\\_female\\_actor2             &  788                             & 10.7                            \\\\\n",
       "\t sw\\_male\\_actor2               &  788                             & 10.7                            \\\\\n",
       "\t sw\\_female\\_actor1             &  782                             & 10.6                            \\\\\n",
       "\t sw\\_male\\_actor1               &  782                             & 10.6                            \\\\\n",
       "\t producers\\_cnt                &  395                           &  5.4                          \\\\\n",
       "\t depart\\_Art                   &   34                           &  0.5                          \\\\\n",
       "\t depart\\_Camera                &   34                           &  0.5                          \\\\\n",
       "\t depart\\_Crew                  &   34                           &  0.5                          \\\\\n",
       "\t depart\\_Custom\\_Mkup           &   34                             &  0.5                            \\\\\n",
       "\t depart\\_Directing             &   34                           &  0.5                          \\\\\n",
       "\t depart\\_Editing               &   34                           &  0.5                          \\\\\n",
       "\t depart\\_Lighting              &   34                           &  0.5                          \\\\\n",
       "\t depart\\_Production            &   34                           &  0.5                          \\\\\n",
       "\t depart\\_Sound                 &   34                           &  0.5                          \\\\\n",
       "\t depart\\_Visual\\_Effects        &   34                             &  0.5                            \\\\\n",
       "\t depart\\_Writing               &   34                           &  0.5                          \\\\\n",
       "\t depart\\_Art\\_female            &   34                             &  0.5                            \\\\\n",
       "\t depart\\_Camera\\_female         &   34                             &  0.5                            \\\\\n",
       "\t depart\\_Crew\\_female           &   34                             &  0.5                            \\\\\n",
       "\t depart\\_Custom\\_Mkup\\_female    &   34                               &  0.5                              \\\\\n",
       "\t depart\\_Directing\\_female      &   34                             &  0.5                            \\\\\n",
       "\t depart\\_Editing\\_female        &   34                             &  0.5                            \\\\\n",
       "\t depart\\_Lighting\\_female       &   34                             &  0.5                            \\\\\n",
       "\t depart\\_Production\\_female     &   34                             &  0.5                            \\\\\n",
       "\t depart\\_Sound\\_female          &   34                             &  0.5                            \\\\\n",
       "\t depart\\_Visual\\_Effects\\_female &   34                               &  0.5                              \\\\\n",
       "\t depart\\_Writing\\_female        &   34                             &  0.5                            \\\\\n",
       "\t runtime                      &    5                         &  0.1                        \\\\\n",
       "\t release\\_date                 &    1                           &  0.0                          \\\\\n",
       "\t release\\_year                 &    1                           &  0.0                          \\\\\n",
       "\t release\\_month                &    1                           &  0.0                          \\\\\n",
       "\t release\\_day                  &    1                           &  0.0                          \\\\\n",
       "\t seasonality                  &    1                         &  0.0                        \\\\\n",
       "\\end{tabular}\n",
       "\n",
       "\\item[\\$message] 'This dataset has 1154 (15.6\\%) complete rows. Original data has 7375 rows.'\n",
       "\\item[\\$rows] NULL\n",
       "\\end{description}\n"
      ],
      "text/markdown": [
       "$missingness\n",
       ":   \n",
       "| var | na.count | rate |\n",
       "|---|---|---|\n",
       "| revenue                      | 4382                         | 59.4                         |\n",
       "| actor2_prev_revenue          | 3423                         | 46.4                         |\n",
       "| actor1_prev_revenue          | 3201                         | 43.4                         |\n",
       "| actor0_prev_revenue          | 2752                         | 37.3                         |\n",
       "| sw_female_actor0             |  934                         | 12.7                         |\n",
       "| sw_male_actor0               |  934                         | 12.7                         |\n",
       "| sw_female_actor2             |  788                         | 10.7                         |\n",
       "| sw_male_actor2               |  788                         | 10.7                         |\n",
       "| sw_female_actor1             |  782                         | 10.6                         |\n",
       "| sw_male_actor1               |  782                         | 10.6                         |\n",
       "| producers_cnt                |  395                         |  5.4                         |\n",
       "| depart_Art                   |   34                         |  0.5                         |\n",
       "| depart_Camera                |   34                         |  0.5                         |\n",
       "| depart_Crew                  |   34                         |  0.5                         |\n",
       "| depart_Custom_Mkup           |   34                         |  0.5                         |\n",
       "| depart_Directing             |   34                         |  0.5                         |\n",
       "| depart_Editing               |   34                         |  0.5                         |\n",
       "| depart_Lighting              |   34                         |  0.5                         |\n",
       "| depart_Production            |   34                         |  0.5                         |\n",
       "| depart_Sound                 |   34                         |  0.5                         |\n",
       "| depart_Visual_Effects        |   34                         |  0.5                         |\n",
       "| depart_Writing               |   34                         |  0.5                         |\n",
       "| depart_Art_female            |   34                         |  0.5                         |\n",
       "| depart_Camera_female         |   34                         |  0.5                         |\n",
       "| depart_Crew_female           |   34                         |  0.5                         |\n",
       "| depart_Custom_Mkup_female    |   34                         |  0.5                         |\n",
       "| depart_Directing_female      |   34                         |  0.5                         |\n",
       "| depart_Editing_female        |   34                         |  0.5                         |\n",
       "| depart_Lighting_female       |   34                         |  0.5                         |\n",
       "| depart_Production_female     |   34                         |  0.5                         |\n",
       "| depart_Sound_female          |   34                         |  0.5                         |\n",
       "| depart_Visual_Effects_female |   34                         |  0.5                         |\n",
       "| depart_Writing_female        |   34                         |  0.5                         |\n",
       "| runtime                      |    5                         |  0.1                         |\n",
       "| release_date                 |    1                         |  0.0                         |\n",
       "| release_year                 |    1                         |  0.0                         |\n",
       "| release_month                |    1                         |  0.0                         |\n",
       "| release_day                  |    1                         |  0.0                         |\n",
       "| seasonality                  |    1                         |  0.0                         |\n",
       "\n",
       "\n",
       "$message\n",
       ":   'This dataset has 1154 (15.6%) complete rows. Original data has 7375 rows.'\n",
       "$rows\n",
       ":   NULL\n",
       "\n",
       "\n"
      ],
      "text/plain": [
       "$missingness\n",
       "                            var na.count rate\n",
       "1                       revenue     4382 59.4\n",
       "2           actor2_prev_revenue     3423 46.4\n",
       "3           actor1_prev_revenue     3201 43.4\n",
       "4           actor0_prev_revenue     2752 37.3\n",
       "5              sw_female_actor0      934 12.7\n",
       "6                sw_male_actor0      934 12.7\n",
       "7              sw_female_actor2      788 10.7\n",
       "8                sw_male_actor2      788 10.7\n",
       "9              sw_female_actor1      782 10.6\n",
       "10               sw_male_actor1      782 10.6\n",
       "11                producers_cnt      395  5.4\n",
       "12                   depart_Art       34  0.5\n",
       "13                depart_Camera       34  0.5\n",
       "14                  depart_Crew       34  0.5\n",
       "15           depart_Custom_Mkup       34  0.5\n",
       "16             depart_Directing       34  0.5\n",
       "17               depart_Editing       34  0.5\n",
       "18              depart_Lighting       34  0.5\n",
       "19            depart_Production       34  0.5\n",
       "20                 depart_Sound       34  0.5\n",
       "21        depart_Visual_Effects       34  0.5\n",
       "22               depart_Writing       34  0.5\n",
       "23            depart_Art_female       34  0.5\n",
       "24         depart_Camera_female       34  0.5\n",
       "25           depart_Crew_female       34  0.5\n",
       "26    depart_Custom_Mkup_female       34  0.5\n",
       "27      depart_Directing_female       34  0.5\n",
       "28        depart_Editing_female       34  0.5\n",
       "29       depart_Lighting_female       34  0.5\n",
       "30     depart_Production_female       34  0.5\n",
       "31          depart_Sound_female       34  0.5\n",
       "32 depart_Visual_Effects_female       34  0.5\n",
       "33        depart_Writing_female       34  0.5\n",
       "34                      runtime        5  0.1\n",
       "35                 release_date        1  0.0\n",
       "36                 release_year        1  0.0\n",
       "37                release_month        1  0.0\n",
       "38                  release_day        1  0.0\n",
       "39                  seasonality        1  0.0\n",
       "\n",
       "$message\n",
       "[1] \"This dataset has 1154 (15.6%) complete rows. Original data has 7375 rows.\"\n",
       "\n",
       "$rows\n",
       "NULL\n"
      ]
     },
     "metadata": {},
     "output_type": "display_data"
    }
   ],
   "source": [
    "getMissingness(movies_ff)"
   ]
  },
  {
   "cell_type": "code",
   "execution_count": 28,
   "metadata": {},
   "outputs": [],
   "source": [
    "movies_missings <- movies_ff\n",
    "for(i in names(movies_ff)) {\n",
    "    movies_missings[,i] <- ifelse(is.na(movies_missings[,i])==T,1,0)\n",
    "}"
   ]
  },
  {
   "cell_type": "code",
   "execution_count": 29,
   "metadata": {},
   "outputs": [
    {
     "data": {
      "text/html": [
       "<table>\n",
       "<thead><tr><th scope=col>movie_id</th><th scope=col>budget</th><th scope=col>original_language</th><th scope=col>popularity</th><th scope=col>release_date</th><th scope=col>runtime</th><th scope=col>runtime_cat</th><th scope=col>revenue</th><th scope=col>sw_lang_en</th><th scope=col>sw_web_presence</th><th scope=col>...</th><th scope=col>depart_Camera_female</th><th scope=col>depart_Crew_female</th><th scope=col>depart_Custom_Mkup_female</th><th scope=col>depart_Directing_female</th><th scope=col>depart_Editing_female</th><th scope=col>depart_Lighting_female</th><th scope=col>depart_Production_female</th><th scope=col>depart_Sound_female</th><th scope=col>depart_Visual_Effects_female</th><th scope=col>depart_Writing_female</th></tr></thead>\n",
       "<tbody>\n",
       "\t<tr><td>0  </td><td>0  </td><td>0  </td><td>0  </td><td>0  </td><td>0  </td><td>0  </td><td>0  </td><td>0  </td><td>0  </td><td>...</td><td>0  </td><td>0  </td><td>0  </td><td>0  </td><td>0  </td><td>0  </td><td>0  </td><td>0  </td><td>0  </td><td>0  </td></tr>\n",
       "\t<tr><td>0  </td><td>0  </td><td>0  </td><td>0  </td><td>0  </td><td>0  </td><td>0  </td><td>0  </td><td>0  </td><td>0  </td><td>...</td><td>0  </td><td>0  </td><td>0  </td><td>0  </td><td>0  </td><td>0  </td><td>0  </td><td>0  </td><td>0  </td><td>0  </td></tr>\n",
       "\t<tr><td>0  </td><td>0  </td><td>0  </td><td>0  </td><td>0  </td><td>0  </td><td>0  </td><td>0  </td><td>0  </td><td>0  </td><td>...</td><td>0  </td><td>0  </td><td>0  </td><td>0  </td><td>0  </td><td>0  </td><td>0  </td><td>0  </td><td>0  </td><td>0  </td></tr>\n",
       "\t<tr><td>0  </td><td>0  </td><td>0  </td><td>0  </td><td>0  </td><td>0  </td><td>0  </td><td>0  </td><td>0  </td><td>0  </td><td>...</td><td>0  </td><td>0  </td><td>0  </td><td>0  </td><td>0  </td><td>0  </td><td>0  </td><td>0  </td><td>0  </td><td>0  </td></tr>\n",
       "\t<tr><td>0  </td><td>0  </td><td>0  </td><td>0  </td><td>0  </td><td>0  </td><td>0  </td><td>0  </td><td>0  </td><td>0  </td><td>...</td><td>0  </td><td>0  </td><td>0  </td><td>0  </td><td>0  </td><td>0  </td><td>0  </td><td>0  </td><td>0  </td><td>0  </td></tr>\n",
       "\t<tr><td>0  </td><td>0  </td><td>0  </td><td>0  </td><td>0  </td><td>0  </td><td>0  </td><td>0  </td><td>0  </td><td>0  </td><td>...</td><td>0  </td><td>0  </td><td>0  </td><td>0  </td><td>0  </td><td>0  </td><td>0  </td><td>0  </td><td>0  </td><td>0  </td></tr>\n",
       "\t<tr><td>0  </td><td>0  </td><td>0  </td><td>0  </td><td>0  </td><td>0  </td><td>0  </td><td>0  </td><td>0  </td><td>0  </td><td>...</td><td>0  </td><td>0  </td><td>0  </td><td>0  </td><td>0  </td><td>0  </td><td>0  </td><td>0  </td><td>0  </td><td>0  </td></tr>\n",
       "\t<tr><td>0  </td><td>0  </td><td>0  </td><td>0  </td><td>0  </td><td>0  </td><td>0  </td><td>0  </td><td>0  </td><td>0  </td><td>...</td><td>0  </td><td>0  </td><td>0  </td><td>0  </td><td>0  </td><td>0  </td><td>0  </td><td>0  </td><td>0  </td><td>0  </td></tr>\n",
       "\t<tr><td>0  </td><td>0  </td><td>0  </td><td>0  </td><td>0  </td><td>0  </td><td>0  </td><td>0  </td><td>0  </td><td>0  </td><td>...</td><td>0  </td><td>0  </td><td>0  </td><td>0  </td><td>0  </td><td>0  </td><td>0  </td><td>0  </td><td>0  </td><td>0  </td></tr>\n",
       "\t<tr><td>0  </td><td>0  </td><td>0  </td><td>0  </td><td>0  </td><td>0  </td><td>0  </td><td>0  </td><td>0  </td><td>0  </td><td>...</td><td>0  </td><td>0  </td><td>0  </td><td>0  </td><td>0  </td><td>0  </td><td>0  </td><td>0  </td><td>0  </td><td>0  </td></tr>\n",
       "\t<tr><td>0  </td><td>0  </td><td>0  </td><td>0  </td><td>0  </td><td>0  </td><td>0  </td><td>0  </td><td>0  </td><td>0  </td><td>...</td><td>0  </td><td>0  </td><td>0  </td><td>0  </td><td>0  </td><td>0  </td><td>0  </td><td>0  </td><td>0  </td><td>0  </td></tr>\n",
       "\t<tr><td>0  </td><td>0  </td><td>0  </td><td>0  </td><td>0  </td><td>0  </td><td>0  </td><td>0  </td><td>0  </td><td>0  </td><td>...</td><td>0  </td><td>0  </td><td>0  </td><td>0  </td><td>0  </td><td>0  </td><td>0  </td><td>0  </td><td>0  </td><td>0  </td></tr>\n",
       "\t<tr><td>0  </td><td>0  </td><td>0  </td><td>0  </td><td>0  </td><td>0  </td><td>0  </td><td>0  </td><td>0  </td><td>0  </td><td>...</td><td>0  </td><td>0  </td><td>0  </td><td>0  </td><td>0  </td><td>0  </td><td>0  </td><td>0  </td><td>0  </td><td>0  </td></tr>\n",
       "\t<tr><td>0  </td><td>0  </td><td>0  </td><td>0  </td><td>0  </td><td>0  </td><td>0  </td><td>0  </td><td>0  </td><td>0  </td><td>...</td><td>0  </td><td>0  </td><td>0  </td><td>0  </td><td>0  </td><td>0  </td><td>0  </td><td>0  </td><td>0  </td><td>0  </td></tr>\n",
       "\t<tr><td>0  </td><td>0  </td><td>0  </td><td>0  </td><td>0  </td><td>0  </td><td>0  </td><td>0  </td><td>0  </td><td>0  </td><td>...</td><td>0  </td><td>0  </td><td>0  </td><td>0  </td><td>0  </td><td>0  </td><td>0  </td><td>0  </td><td>0  </td><td>0  </td></tr>\n",
       "\t<tr><td>0  </td><td>0  </td><td>0  </td><td>0  </td><td>0  </td><td>0  </td><td>0  </td><td>0  </td><td>0  </td><td>0  </td><td>...</td><td>0  </td><td>0  </td><td>0  </td><td>0  </td><td>0  </td><td>0  </td><td>0  </td><td>0  </td><td>0  </td><td>0  </td></tr>\n",
       "\t<tr><td>0  </td><td>0  </td><td>0  </td><td>0  </td><td>0  </td><td>0  </td><td>0  </td><td>0  </td><td>0  </td><td>0  </td><td>...</td><td>0  </td><td>0  </td><td>0  </td><td>0  </td><td>0  </td><td>0  </td><td>0  </td><td>0  </td><td>0  </td><td>0  </td></tr>\n",
       "\t<tr><td>0  </td><td>0  </td><td>0  </td><td>0  </td><td>0  </td><td>0  </td><td>0  </td><td>0  </td><td>0  </td><td>0  </td><td>...</td><td>0  </td><td>0  </td><td>0  </td><td>0  </td><td>0  </td><td>0  </td><td>0  </td><td>0  </td><td>0  </td><td>0  </td></tr>\n",
       "\t<tr><td>0  </td><td>0  </td><td>0  </td><td>0  </td><td>0  </td><td>0  </td><td>0  </td><td>0  </td><td>0  </td><td>0  </td><td>...</td><td>0  </td><td>0  </td><td>0  </td><td>0  </td><td>0  </td><td>0  </td><td>0  </td><td>0  </td><td>0  </td><td>0  </td></tr>\n",
       "\t<tr><td>0  </td><td>0  </td><td>0  </td><td>0  </td><td>0  </td><td>0  </td><td>0  </td><td>0  </td><td>0  </td><td>0  </td><td>...</td><td>0  </td><td>0  </td><td>0  </td><td>0  </td><td>0  </td><td>0  </td><td>0  </td><td>0  </td><td>0  </td><td>0  </td></tr>\n",
       "\t<tr><td>0  </td><td>0  </td><td>0  </td><td>0  </td><td>0  </td><td>0  </td><td>0  </td><td>0  </td><td>0  </td><td>0  </td><td>...</td><td>0  </td><td>0  </td><td>0  </td><td>0  </td><td>0  </td><td>0  </td><td>0  </td><td>0  </td><td>0  </td><td>0  </td></tr>\n",
       "\t<tr><td>0  </td><td>0  </td><td>0  </td><td>0  </td><td>0  </td><td>0  </td><td>0  </td><td>0  </td><td>0  </td><td>0  </td><td>...</td><td>0  </td><td>0  </td><td>0  </td><td>0  </td><td>0  </td><td>0  </td><td>0  </td><td>0  </td><td>0  </td><td>0  </td></tr>\n",
       "\t<tr><td>0  </td><td>0  </td><td>0  </td><td>0  </td><td>0  </td><td>0  </td><td>0  </td><td>0  </td><td>0  </td><td>0  </td><td>...</td><td>0  </td><td>0  </td><td>0  </td><td>0  </td><td>0  </td><td>0  </td><td>0  </td><td>0  </td><td>0  </td><td>0  </td></tr>\n",
       "\t<tr><td>0  </td><td>0  </td><td>0  </td><td>0  </td><td>0  </td><td>0  </td><td>0  </td><td>0  </td><td>0  </td><td>0  </td><td>...</td><td>0  </td><td>0  </td><td>0  </td><td>0  </td><td>0  </td><td>0  </td><td>0  </td><td>0  </td><td>0  </td><td>0  </td></tr>\n",
       "\t<tr><td>0  </td><td>0  </td><td>0  </td><td>0  </td><td>0  </td><td>0  </td><td>0  </td><td>0  </td><td>0  </td><td>0  </td><td>...</td><td>0  </td><td>0  </td><td>0  </td><td>0  </td><td>0  </td><td>0  </td><td>0  </td><td>0  </td><td>0  </td><td>0  </td></tr>\n",
       "\t<tr><td>0  </td><td>0  </td><td>0  </td><td>0  </td><td>0  </td><td>0  </td><td>0  </td><td>0  </td><td>0  </td><td>0  </td><td>...</td><td>0  </td><td>0  </td><td>0  </td><td>0  </td><td>0  </td><td>0  </td><td>0  </td><td>0  </td><td>0  </td><td>0  </td></tr>\n",
       "\t<tr><td>0  </td><td>0  </td><td>0  </td><td>0  </td><td>0  </td><td>0  </td><td>0  </td><td>0  </td><td>0  </td><td>0  </td><td>...</td><td>0  </td><td>0  </td><td>0  </td><td>0  </td><td>0  </td><td>0  </td><td>0  </td><td>0  </td><td>0  </td><td>0  </td></tr>\n",
       "\t<tr><td>0  </td><td>0  </td><td>0  </td><td>0  </td><td>0  </td><td>0  </td><td>0  </td><td>0  </td><td>0  </td><td>0  </td><td>...</td><td>0  </td><td>0  </td><td>0  </td><td>0  </td><td>0  </td><td>0  </td><td>0  </td><td>0  </td><td>0  </td><td>0  </td></tr>\n",
       "\t<tr><td>0  </td><td>0  </td><td>0  </td><td>0  </td><td>0  </td><td>0  </td><td>0  </td><td>0  </td><td>0  </td><td>0  </td><td>...</td><td>0  </td><td>0  </td><td>0  </td><td>0  </td><td>0  </td><td>0  </td><td>0  </td><td>0  </td><td>0  </td><td>0  </td></tr>\n",
       "\t<tr><td>0  </td><td>0  </td><td>0  </td><td>0  </td><td>0  </td><td>0  </td><td>0  </td><td>0  </td><td>0  </td><td>0  </td><td>...</td><td>0  </td><td>0  </td><td>0  </td><td>0  </td><td>0  </td><td>0  </td><td>0  </td><td>0  </td><td>0  </td><td>0  </td></tr>\n",
       "\t<tr><td>...</td><td>...</td><td>...</td><td>...</td><td>...</td><td>...</td><td>...</td><td>...</td><td>...</td><td>...</td><td>   </td><td>...</td><td>...</td><td>...</td><td>...</td><td>...</td><td>...</td><td>...</td><td>...</td><td>...</td><td>...</td></tr>\n",
       "\t<tr><td>0  </td><td>0  </td><td>0  </td><td>0  </td><td>0  </td><td>0  </td><td>0  </td><td>1  </td><td>0  </td><td>0  </td><td>...</td><td>0  </td><td>0  </td><td>0  </td><td>0  </td><td>0  </td><td>0  </td><td>0  </td><td>0  </td><td>0  </td><td>0  </td></tr>\n",
       "\t<tr><td>0  </td><td>0  </td><td>0  </td><td>0  </td><td>0  </td><td>0  </td><td>0  </td><td>1  </td><td>0  </td><td>0  </td><td>...</td><td>0  </td><td>0  </td><td>0  </td><td>0  </td><td>0  </td><td>0  </td><td>0  </td><td>0  </td><td>0  </td><td>0  </td></tr>\n",
       "\t<tr><td>0  </td><td>0  </td><td>0  </td><td>0  </td><td>0  </td><td>0  </td><td>0  </td><td>1  </td><td>0  </td><td>0  </td><td>...</td><td>0  </td><td>0  </td><td>0  </td><td>0  </td><td>0  </td><td>0  </td><td>0  </td><td>0  </td><td>0  </td><td>0  </td></tr>\n",
       "\t<tr><td>0  </td><td>0  </td><td>0  </td><td>0  </td><td>0  </td><td>0  </td><td>0  </td><td>1  </td><td>0  </td><td>0  </td><td>...</td><td>0  </td><td>0  </td><td>0  </td><td>0  </td><td>0  </td><td>0  </td><td>0  </td><td>0  </td><td>0  </td><td>0  </td></tr>\n",
       "\t<tr><td>0  </td><td>0  </td><td>0  </td><td>0  </td><td>0  </td><td>0  </td><td>0  </td><td>1  </td><td>0  </td><td>0  </td><td>...</td><td>0  </td><td>0  </td><td>0  </td><td>0  </td><td>0  </td><td>0  </td><td>0  </td><td>0  </td><td>0  </td><td>0  </td></tr>\n",
       "\t<tr><td>0  </td><td>0  </td><td>0  </td><td>0  </td><td>0  </td><td>0  </td><td>0  </td><td>1  </td><td>0  </td><td>0  </td><td>...</td><td>0  </td><td>0  </td><td>0  </td><td>0  </td><td>0  </td><td>0  </td><td>0  </td><td>0  </td><td>0  </td><td>0  </td></tr>\n",
       "\t<tr><td>0  </td><td>0  </td><td>0  </td><td>0  </td><td>0  </td><td>0  </td><td>0  </td><td>1  </td><td>0  </td><td>0  </td><td>...</td><td>0  </td><td>0  </td><td>0  </td><td>0  </td><td>0  </td><td>0  </td><td>0  </td><td>0  </td><td>0  </td><td>0  </td></tr>\n",
       "\t<tr><td>0  </td><td>0  </td><td>0  </td><td>0  </td><td>0  </td><td>0  </td><td>0  </td><td>1  </td><td>0  </td><td>0  </td><td>...</td><td>0  </td><td>0  </td><td>0  </td><td>0  </td><td>0  </td><td>0  </td><td>0  </td><td>0  </td><td>0  </td><td>0  </td></tr>\n",
       "\t<tr><td>0  </td><td>0  </td><td>0  </td><td>0  </td><td>0  </td><td>0  </td><td>0  </td><td>1  </td><td>0  </td><td>0  </td><td>...</td><td>0  </td><td>0  </td><td>0  </td><td>0  </td><td>0  </td><td>0  </td><td>0  </td><td>0  </td><td>0  </td><td>0  </td></tr>\n",
       "\t<tr><td>0  </td><td>0  </td><td>0  </td><td>0  </td><td>0  </td><td>0  </td><td>0  </td><td>1  </td><td>0  </td><td>0  </td><td>...</td><td>0  </td><td>0  </td><td>0  </td><td>0  </td><td>0  </td><td>0  </td><td>0  </td><td>0  </td><td>0  </td><td>0  </td></tr>\n",
       "\t<tr><td>0  </td><td>0  </td><td>0  </td><td>0  </td><td>0  </td><td>0  </td><td>0  </td><td>1  </td><td>0  </td><td>0  </td><td>...</td><td>0  </td><td>0  </td><td>0  </td><td>0  </td><td>0  </td><td>0  </td><td>0  </td><td>0  </td><td>0  </td><td>0  </td></tr>\n",
       "\t<tr><td>0  </td><td>0  </td><td>0  </td><td>0  </td><td>0  </td><td>0  </td><td>0  </td><td>1  </td><td>0  </td><td>0  </td><td>...</td><td>0  </td><td>0  </td><td>0  </td><td>0  </td><td>0  </td><td>0  </td><td>0  </td><td>0  </td><td>0  </td><td>0  </td></tr>\n",
       "\t<tr><td>0  </td><td>0  </td><td>0  </td><td>0  </td><td>0  </td><td>0  </td><td>0  </td><td>1  </td><td>0  </td><td>0  </td><td>...</td><td>0  </td><td>0  </td><td>0  </td><td>0  </td><td>0  </td><td>0  </td><td>0  </td><td>0  </td><td>0  </td><td>0  </td></tr>\n",
       "\t<tr><td>0  </td><td>0  </td><td>0  </td><td>0  </td><td>0  </td><td>0  </td><td>0  </td><td>1  </td><td>0  </td><td>0  </td><td>...</td><td>0  </td><td>0  </td><td>0  </td><td>0  </td><td>0  </td><td>0  </td><td>0  </td><td>0  </td><td>0  </td><td>0  </td></tr>\n",
       "\t<tr><td>0  </td><td>0  </td><td>0  </td><td>0  </td><td>0  </td><td>0  </td><td>0  </td><td>1  </td><td>0  </td><td>0  </td><td>...</td><td>0  </td><td>0  </td><td>0  </td><td>0  </td><td>0  </td><td>0  </td><td>0  </td><td>0  </td><td>0  </td><td>0  </td></tr>\n",
       "\t<tr><td>0  </td><td>0  </td><td>0  </td><td>0  </td><td>0  </td><td>0  </td><td>0  </td><td>1  </td><td>0  </td><td>0  </td><td>...</td><td>0  </td><td>0  </td><td>0  </td><td>0  </td><td>0  </td><td>0  </td><td>0  </td><td>0  </td><td>0  </td><td>0  </td></tr>\n",
       "\t<tr><td>0  </td><td>0  </td><td>0  </td><td>0  </td><td>0  </td><td>0  </td><td>0  </td><td>1  </td><td>0  </td><td>0  </td><td>...</td><td>0  </td><td>0  </td><td>0  </td><td>0  </td><td>0  </td><td>0  </td><td>0  </td><td>0  </td><td>0  </td><td>0  </td></tr>\n",
       "\t<tr><td>0  </td><td>0  </td><td>0  </td><td>0  </td><td>0  </td><td>0  </td><td>0  </td><td>1  </td><td>0  </td><td>0  </td><td>...</td><td>0  </td><td>0  </td><td>0  </td><td>0  </td><td>0  </td><td>0  </td><td>0  </td><td>0  </td><td>0  </td><td>0  </td></tr>\n",
       "\t<tr><td>0  </td><td>0  </td><td>0  </td><td>0  </td><td>0  </td><td>0  </td><td>0  </td><td>1  </td><td>0  </td><td>0  </td><td>...</td><td>0  </td><td>0  </td><td>0  </td><td>0  </td><td>0  </td><td>0  </td><td>0  </td><td>0  </td><td>0  </td><td>0  </td></tr>\n",
       "\t<tr><td>0  </td><td>0  </td><td>0  </td><td>0  </td><td>0  </td><td>0  </td><td>0  </td><td>1  </td><td>0  </td><td>0  </td><td>...</td><td>0  </td><td>0  </td><td>0  </td><td>0  </td><td>0  </td><td>0  </td><td>0  </td><td>0  </td><td>0  </td><td>0  </td></tr>\n",
       "\t<tr><td>0  </td><td>0  </td><td>0  </td><td>0  </td><td>0  </td><td>0  </td><td>0  </td><td>1  </td><td>0  </td><td>0  </td><td>...</td><td>0  </td><td>0  </td><td>0  </td><td>0  </td><td>0  </td><td>0  </td><td>0  </td><td>0  </td><td>0  </td><td>0  </td></tr>\n",
       "\t<tr><td>0  </td><td>0  </td><td>0  </td><td>0  </td><td>0  </td><td>0  </td><td>0  </td><td>1  </td><td>0  </td><td>0  </td><td>...</td><td>0  </td><td>0  </td><td>0  </td><td>0  </td><td>0  </td><td>0  </td><td>0  </td><td>0  </td><td>0  </td><td>0  </td></tr>\n",
       "\t<tr><td>0  </td><td>0  </td><td>0  </td><td>0  </td><td>0  </td><td>0  </td><td>0  </td><td>1  </td><td>0  </td><td>0  </td><td>...</td><td>0  </td><td>0  </td><td>0  </td><td>0  </td><td>0  </td><td>0  </td><td>0  </td><td>0  </td><td>0  </td><td>0  </td></tr>\n",
       "\t<tr><td>0  </td><td>0  </td><td>0  </td><td>0  </td><td>0  </td><td>0  </td><td>0  </td><td>1  </td><td>0  </td><td>0  </td><td>...</td><td>0  </td><td>0  </td><td>0  </td><td>0  </td><td>0  </td><td>0  </td><td>0  </td><td>0  </td><td>0  </td><td>0  </td></tr>\n",
       "\t<tr><td>0  </td><td>0  </td><td>0  </td><td>0  </td><td>0  </td><td>0  </td><td>0  </td><td>1  </td><td>0  </td><td>0  </td><td>...</td><td>0  </td><td>0  </td><td>0  </td><td>0  </td><td>0  </td><td>0  </td><td>0  </td><td>0  </td><td>0  </td><td>0  </td></tr>\n",
       "\t<tr><td>0  </td><td>0  </td><td>0  </td><td>0  </td><td>0  </td><td>0  </td><td>0  </td><td>1  </td><td>0  </td><td>0  </td><td>...</td><td>0  </td><td>0  </td><td>0  </td><td>0  </td><td>0  </td><td>0  </td><td>0  </td><td>0  </td><td>0  </td><td>0  </td></tr>\n",
       "\t<tr><td>0  </td><td>0  </td><td>0  </td><td>0  </td><td>0  </td><td>0  </td><td>0  </td><td>1  </td><td>0  </td><td>0  </td><td>...</td><td>0  </td><td>0  </td><td>0  </td><td>0  </td><td>0  </td><td>0  </td><td>0  </td><td>0  </td><td>0  </td><td>0  </td></tr>\n",
       "\t<tr><td>0  </td><td>0  </td><td>0  </td><td>0  </td><td>0  </td><td>0  </td><td>0  </td><td>1  </td><td>0  </td><td>0  </td><td>...</td><td>0  </td><td>0  </td><td>0  </td><td>0  </td><td>0  </td><td>0  </td><td>0  </td><td>0  </td><td>0  </td><td>0  </td></tr>\n",
       "\t<tr><td>0  </td><td>0  </td><td>0  </td><td>0  </td><td>0  </td><td>0  </td><td>0  </td><td>1  </td><td>0  </td><td>0  </td><td>...</td><td>0  </td><td>0  </td><td>0  </td><td>0  </td><td>0  </td><td>0  </td><td>0  </td><td>0  </td><td>0  </td><td>0  </td></tr>\n",
       "\t<tr><td>0  </td><td>0  </td><td>0  </td><td>0  </td><td>0  </td><td>0  </td><td>0  </td><td>1  </td><td>0  </td><td>0  </td><td>...</td><td>0  </td><td>0  </td><td>0  </td><td>0  </td><td>0  </td><td>0  </td><td>0  </td><td>0  </td><td>0  </td><td>0  </td></tr>\n",
       "</tbody>\n",
       "</table>\n"
      ],
      "text/latex": [
       "\\begin{tabular}{r|lllllllllllllllllllllllllllllllllllllllllllllllllllllllllllllllllllllllllllllllllllll}\n",
       " movie\\_id & budget & original\\_language & popularity & release\\_date & runtime & runtime\\_cat & revenue & sw\\_lang\\_en & sw\\_web\\_presence & ... & depart\\_Camera\\_female & depart\\_Crew\\_female & depart\\_Custom\\_Mkup\\_female & depart\\_Directing\\_female & depart\\_Editing\\_female & depart\\_Lighting\\_female & depart\\_Production\\_female & depart\\_Sound\\_female & depart\\_Visual\\_Effects\\_female & depart\\_Writing\\_female\\\\\n",
       "\\hline\n",
       "\t 0   & 0   & 0   & 0   & 0   & 0   & 0   & 0   & 0   & 0   & ... & 0   & 0   & 0   & 0   & 0   & 0   & 0   & 0   & 0   & 0  \\\\\n",
       "\t 0   & 0   & 0   & 0   & 0   & 0   & 0   & 0   & 0   & 0   & ... & 0   & 0   & 0   & 0   & 0   & 0   & 0   & 0   & 0   & 0  \\\\\n",
       "\t 0   & 0   & 0   & 0   & 0   & 0   & 0   & 0   & 0   & 0   & ... & 0   & 0   & 0   & 0   & 0   & 0   & 0   & 0   & 0   & 0  \\\\\n",
       "\t 0   & 0   & 0   & 0   & 0   & 0   & 0   & 0   & 0   & 0   & ... & 0   & 0   & 0   & 0   & 0   & 0   & 0   & 0   & 0   & 0  \\\\\n",
       "\t 0   & 0   & 0   & 0   & 0   & 0   & 0   & 0   & 0   & 0   & ... & 0   & 0   & 0   & 0   & 0   & 0   & 0   & 0   & 0   & 0  \\\\\n",
       "\t 0   & 0   & 0   & 0   & 0   & 0   & 0   & 0   & 0   & 0   & ... & 0   & 0   & 0   & 0   & 0   & 0   & 0   & 0   & 0   & 0  \\\\\n",
       "\t 0   & 0   & 0   & 0   & 0   & 0   & 0   & 0   & 0   & 0   & ... & 0   & 0   & 0   & 0   & 0   & 0   & 0   & 0   & 0   & 0  \\\\\n",
       "\t 0   & 0   & 0   & 0   & 0   & 0   & 0   & 0   & 0   & 0   & ... & 0   & 0   & 0   & 0   & 0   & 0   & 0   & 0   & 0   & 0  \\\\\n",
       "\t 0   & 0   & 0   & 0   & 0   & 0   & 0   & 0   & 0   & 0   & ... & 0   & 0   & 0   & 0   & 0   & 0   & 0   & 0   & 0   & 0  \\\\\n",
       "\t 0   & 0   & 0   & 0   & 0   & 0   & 0   & 0   & 0   & 0   & ... & 0   & 0   & 0   & 0   & 0   & 0   & 0   & 0   & 0   & 0  \\\\\n",
       "\t 0   & 0   & 0   & 0   & 0   & 0   & 0   & 0   & 0   & 0   & ... & 0   & 0   & 0   & 0   & 0   & 0   & 0   & 0   & 0   & 0  \\\\\n",
       "\t 0   & 0   & 0   & 0   & 0   & 0   & 0   & 0   & 0   & 0   & ... & 0   & 0   & 0   & 0   & 0   & 0   & 0   & 0   & 0   & 0  \\\\\n",
       "\t 0   & 0   & 0   & 0   & 0   & 0   & 0   & 0   & 0   & 0   & ... & 0   & 0   & 0   & 0   & 0   & 0   & 0   & 0   & 0   & 0  \\\\\n",
       "\t 0   & 0   & 0   & 0   & 0   & 0   & 0   & 0   & 0   & 0   & ... & 0   & 0   & 0   & 0   & 0   & 0   & 0   & 0   & 0   & 0  \\\\\n",
       "\t 0   & 0   & 0   & 0   & 0   & 0   & 0   & 0   & 0   & 0   & ... & 0   & 0   & 0   & 0   & 0   & 0   & 0   & 0   & 0   & 0  \\\\\n",
       "\t 0   & 0   & 0   & 0   & 0   & 0   & 0   & 0   & 0   & 0   & ... & 0   & 0   & 0   & 0   & 0   & 0   & 0   & 0   & 0   & 0  \\\\\n",
       "\t 0   & 0   & 0   & 0   & 0   & 0   & 0   & 0   & 0   & 0   & ... & 0   & 0   & 0   & 0   & 0   & 0   & 0   & 0   & 0   & 0  \\\\\n",
       "\t 0   & 0   & 0   & 0   & 0   & 0   & 0   & 0   & 0   & 0   & ... & 0   & 0   & 0   & 0   & 0   & 0   & 0   & 0   & 0   & 0  \\\\\n",
       "\t 0   & 0   & 0   & 0   & 0   & 0   & 0   & 0   & 0   & 0   & ... & 0   & 0   & 0   & 0   & 0   & 0   & 0   & 0   & 0   & 0  \\\\\n",
       "\t 0   & 0   & 0   & 0   & 0   & 0   & 0   & 0   & 0   & 0   & ... & 0   & 0   & 0   & 0   & 0   & 0   & 0   & 0   & 0   & 0  \\\\\n",
       "\t 0   & 0   & 0   & 0   & 0   & 0   & 0   & 0   & 0   & 0   & ... & 0   & 0   & 0   & 0   & 0   & 0   & 0   & 0   & 0   & 0  \\\\\n",
       "\t 0   & 0   & 0   & 0   & 0   & 0   & 0   & 0   & 0   & 0   & ... & 0   & 0   & 0   & 0   & 0   & 0   & 0   & 0   & 0   & 0  \\\\\n",
       "\t 0   & 0   & 0   & 0   & 0   & 0   & 0   & 0   & 0   & 0   & ... & 0   & 0   & 0   & 0   & 0   & 0   & 0   & 0   & 0   & 0  \\\\\n",
       "\t 0   & 0   & 0   & 0   & 0   & 0   & 0   & 0   & 0   & 0   & ... & 0   & 0   & 0   & 0   & 0   & 0   & 0   & 0   & 0   & 0  \\\\\n",
       "\t 0   & 0   & 0   & 0   & 0   & 0   & 0   & 0   & 0   & 0   & ... & 0   & 0   & 0   & 0   & 0   & 0   & 0   & 0   & 0   & 0  \\\\\n",
       "\t 0   & 0   & 0   & 0   & 0   & 0   & 0   & 0   & 0   & 0   & ... & 0   & 0   & 0   & 0   & 0   & 0   & 0   & 0   & 0   & 0  \\\\\n",
       "\t 0   & 0   & 0   & 0   & 0   & 0   & 0   & 0   & 0   & 0   & ... & 0   & 0   & 0   & 0   & 0   & 0   & 0   & 0   & 0   & 0  \\\\\n",
       "\t 0   & 0   & 0   & 0   & 0   & 0   & 0   & 0   & 0   & 0   & ... & 0   & 0   & 0   & 0   & 0   & 0   & 0   & 0   & 0   & 0  \\\\\n",
       "\t 0   & 0   & 0   & 0   & 0   & 0   & 0   & 0   & 0   & 0   & ... & 0   & 0   & 0   & 0   & 0   & 0   & 0   & 0   & 0   & 0  \\\\\n",
       "\t 0   & 0   & 0   & 0   & 0   & 0   & 0   & 0   & 0   & 0   & ... & 0   & 0   & 0   & 0   & 0   & 0   & 0   & 0   & 0   & 0  \\\\\n",
       "\t ... & ... & ... & ... & ... & ... & ... & ... & ... & ... &     & ... & ... & ... & ... & ... & ... & ... & ... & ... & ...\\\\\n",
       "\t 0   & 0   & 0   & 0   & 0   & 0   & 0   & 1   & 0   & 0   & ... & 0   & 0   & 0   & 0   & 0   & 0   & 0   & 0   & 0   & 0  \\\\\n",
       "\t 0   & 0   & 0   & 0   & 0   & 0   & 0   & 1   & 0   & 0   & ... & 0   & 0   & 0   & 0   & 0   & 0   & 0   & 0   & 0   & 0  \\\\\n",
       "\t 0   & 0   & 0   & 0   & 0   & 0   & 0   & 1   & 0   & 0   & ... & 0   & 0   & 0   & 0   & 0   & 0   & 0   & 0   & 0   & 0  \\\\\n",
       "\t 0   & 0   & 0   & 0   & 0   & 0   & 0   & 1   & 0   & 0   & ... & 0   & 0   & 0   & 0   & 0   & 0   & 0   & 0   & 0   & 0  \\\\\n",
       "\t 0   & 0   & 0   & 0   & 0   & 0   & 0   & 1   & 0   & 0   & ... & 0   & 0   & 0   & 0   & 0   & 0   & 0   & 0   & 0   & 0  \\\\\n",
       "\t 0   & 0   & 0   & 0   & 0   & 0   & 0   & 1   & 0   & 0   & ... & 0   & 0   & 0   & 0   & 0   & 0   & 0   & 0   & 0   & 0  \\\\\n",
       "\t 0   & 0   & 0   & 0   & 0   & 0   & 0   & 1   & 0   & 0   & ... & 0   & 0   & 0   & 0   & 0   & 0   & 0   & 0   & 0   & 0  \\\\\n",
       "\t 0   & 0   & 0   & 0   & 0   & 0   & 0   & 1   & 0   & 0   & ... & 0   & 0   & 0   & 0   & 0   & 0   & 0   & 0   & 0   & 0  \\\\\n",
       "\t 0   & 0   & 0   & 0   & 0   & 0   & 0   & 1   & 0   & 0   & ... & 0   & 0   & 0   & 0   & 0   & 0   & 0   & 0   & 0   & 0  \\\\\n",
       "\t 0   & 0   & 0   & 0   & 0   & 0   & 0   & 1   & 0   & 0   & ... & 0   & 0   & 0   & 0   & 0   & 0   & 0   & 0   & 0   & 0  \\\\\n",
       "\t 0   & 0   & 0   & 0   & 0   & 0   & 0   & 1   & 0   & 0   & ... & 0   & 0   & 0   & 0   & 0   & 0   & 0   & 0   & 0   & 0  \\\\\n",
       "\t 0   & 0   & 0   & 0   & 0   & 0   & 0   & 1   & 0   & 0   & ... & 0   & 0   & 0   & 0   & 0   & 0   & 0   & 0   & 0   & 0  \\\\\n",
       "\t 0   & 0   & 0   & 0   & 0   & 0   & 0   & 1   & 0   & 0   & ... & 0   & 0   & 0   & 0   & 0   & 0   & 0   & 0   & 0   & 0  \\\\\n",
       "\t 0   & 0   & 0   & 0   & 0   & 0   & 0   & 1   & 0   & 0   & ... & 0   & 0   & 0   & 0   & 0   & 0   & 0   & 0   & 0   & 0  \\\\\n",
       "\t 0   & 0   & 0   & 0   & 0   & 0   & 0   & 1   & 0   & 0   & ... & 0   & 0   & 0   & 0   & 0   & 0   & 0   & 0   & 0   & 0  \\\\\n",
       "\t 0   & 0   & 0   & 0   & 0   & 0   & 0   & 1   & 0   & 0   & ... & 0   & 0   & 0   & 0   & 0   & 0   & 0   & 0   & 0   & 0  \\\\\n",
       "\t 0   & 0   & 0   & 0   & 0   & 0   & 0   & 1   & 0   & 0   & ... & 0   & 0   & 0   & 0   & 0   & 0   & 0   & 0   & 0   & 0  \\\\\n",
       "\t 0   & 0   & 0   & 0   & 0   & 0   & 0   & 1   & 0   & 0   & ... & 0   & 0   & 0   & 0   & 0   & 0   & 0   & 0   & 0   & 0  \\\\\n",
       "\t 0   & 0   & 0   & 0   & 0   & 0   & 0   & 1   & 0   & 0   & ... & 0   & 0   & 0   & 0   & 0   & 0   & 0   & 0   & 0   & 0  \\\\\n",
       "\t 0   & 0   & 0   & 0   & 0   & 0   & 0   & 1   & 0   & 0   & ... & 0   & 0   & 0   & 0   & 0   & 0   & 0   & 0   & 0   & 0  \\\\\n",
       "\t 0   & 0   & 0   & 0   & 0   & 0   & 0   & 1   & 0   & 0   & ... & 0   & 0   & 0   & 0   & 0   & 0   & 0   & 0   & 0   & 0  \\\\\n",
       "\t 0   & 0   & 0   & 0   & 0   & 0   & 0   & 1   & 0   & 0   & ... & 0   & 0   & 0   & 0   & 0   & 0   & 0   & 0   & 0   & 0  \\\\\n",
       "\t 0   & 0   & 0   & 0   & 0   & 0   & 0   & 1   & 0   & 0   & ... & 0   & 0   & 0   & 0   & 0   & 0   & 0   & 0   & 0   & 0  \\\\\n",
       "\t 0   & 0   & 0   & 0   & 0   & 0   & 0   & 1   & 0   & 0   & ... & 0   & 0   & 0   & 0   & 0   & 0   & 0   & 0   & 0   & 0  \\\\\n",
       "\t 0   & 0   & 0   & 0   & 0   & 0   & 0   & 1   & 0   & 0   & ... & 0   & 0   & 0   & 0   & 0   & 0   & 0   & 0   & 0   & 0  \\\\\n",
       "\t 0   & 0   & 0   & 0   & 0   & 0   & 0   & 1   & 0   & 0   & ... & 0   & 0   & 0   & 0   & 0   & 0   & 0   & 0   & 0   & 0  \\\\\n",
       "\t 0   & 0   & 0   & 0   & 0   & 0   & 0   & 1   & 0   & 0   & ... & 0   & 0   & 0   & 0   & 0   & 0   & 0   & 0   & 0   & 0  \\\\\n",
       "\t 0   & 0   & 0   & 0   & 0   & 0   & 0   & 1   & 0   & 0   & ... & 0   & 0   & 0   & 0   & 0   & 0   & 0   & 0   & 0   & 0  \\\\\n",
       "\t 0   & 0   & 0   & 0   & 0   & 0   & 0   & 1   & 0   & 0   & ... & 0   & 0   & 0   & 0   & 0   & 0   & 0   & 0   & 0   & 0  \\\\\n",
       "\t 0   & 0   & 0   & 0   & 0   & 0   & 0   & 1   & 0   & 0   & ... & 0   & 0   & 0   & 0   & 0   & 0   & 0   & 0   & 0   & 0  \\\\\n",
       "\\end{tabular}\n"
      ],
      "text/markdown": [
       "\n",
       "| movie_id | budget | original_language | popularity | release_date | runtime | runtime_cat | revenue | sw_lang_en | sw_web_presence | ... | depart_Camera_female | depart_Crew_female | depart_Custom_Mkup_female | depart_Directing_female | depart_Editing_female | depart_Lighting_female | depart_Production_female | depart_Sound_female | depart_Visual_Effects_female | depart_Writing_female |\n",
       "|---|---|---|---|---|---|---|---|---|---|---|---|---|---|---|---|---|---|---|---|---|\n",
       "| 0   | 0   | 0   | 0   | 0   | 0   | 0   | 0   | 0   | 0   | ... | 0   | 0   | 0   | 0   | 0   | 0   | 0   | 0   | 0   | 0   |\n",
       "| 0   | 0   | 0   | 0   | 0   | 0   | 0   | 0   | 0   | 0   | ... | 0   | 0   | 0   | 0   | 0   | 0   | 0   | 0   | 0   | 0   |\n",
       "| 0   | 0   | 0   | 0   | 0   | 0   | 0   | 0   | 0   | 0   | ... | 0   | 0   | 0   | 0   | 0   | 0   | 0   | 0   | 0   | 0   |\n",
       "| 0   | 0   | 0   | 0   | 0   | 0   | 0   | 0   | 0   | 0   | ... | 0   | 0   | 0   | 0   | 0   | 0   | 0   | 0   | 0   | 0   |\n",
       "| 0   | 0   | 0   | 0   | 0   | 0   | 0   | 0   | 0   | 0   | ... | 0   | 0   | 0   | 0   | 0   | 0   | 0   | 0   | 0   | 0   |\n",
       "| 0   | 0   | 0   | 0   | 0   | 0   | 0   | 0   | 0   | 0   | ... | 0   | 0   | 0   | 0   | 0   | 0   | 0   | 0   | 0   | 0   |\n",
       "| 0   | 0   | 0   | 0   | 0   | 0   | 0   | 0   | 0   | 0   | ... | 0   | 0   | 0   | 0   | 0   | 0   | 0   | 0   | 0   | 0   |\n",
       "| 0   | 0   | 0   | 0   | 0   | 0   | 0   | 0   | 0   | 0   | ... | 0   | 0   | 0   | 0   | 0   | 0   | 0   | 0   | 0   | 0   |\n",
       "| 0   | 0   | 0   | 0   | 0   | 0   | 0   | 0   | 0   | 0   | ... | 0   | 0   | 0   | 0   | 0   | 0   | 0   | 0   | 0   | 0   |\n",
       "| 0   | 0   | 0   | 0   | 0   | 0   | 0   | 0   | 0   | 0   | ... | 0   | 0   | 0   | 0   | 0   | 0   | 0   | 0   | 0   | 0   |\n",
       "| 0   | 0   | 0   | 0   | 0   | 0   | 0   | 0   | 0   | 0   | ... | 0   | 0   | 0   | 0   | 0   | 0   | 0   | 0   | 0   | 0   |\n",
       "| 0   | 0   | 0   | 0   | 0   | 0   | 0   | 0   | 0   | 0   | ... | 0   | 0   | 0   | 0   | 0   | 0   | 0   | 0   | 0   | 0   |\n",
       "| 0   | 0   | 0   | 0   | 0   | 0   | 0   | 0   | 0   | 0   | ... | 0   | 0   | 0   | 0   | 0   | 0   | 0   | 0   | 0   | 0   |\n",
       "| 0   | 0   | 0   | 0   | 0   | 0   | 0   | 0   | 0   | 0   | ... | 0   | 0   | 0   | 0   | 0   | 0   | 0   | 0   | 0   | 0   |\n",
       "| 0   | 0   | 0   | 0   | 0   | 0   | 0   | 0   | 0   | 0   | ... | 0   | 0   | 0   | 0   | 0   | 0   | 0   | 0   | 0   | 0   |\n",
       "| 0   | 0   | 0   | 0   | 0   | 0   | 0   | 0   | 0   | 0   | ... | 0   | 0   | 0   | 0   | 0   | 0   | 0   | 0   | 0   | 0   |\n",
       "| 0   | 0   | 0   | 0   | 0   | 0   | 0   | 0   | 0   | 0   | ... | 0   | 0   | 0   | 0   | 0   | 0   | 0   | 0   | 0   | 0   |\n",
       "| 0   | 0   | 0   | 0   | 0   | 0   | 0   | 0   | 0   | 0   | ... | 0   | 0   | 0   | 0   | 0   | 0   | 0   | 0   | 0   | 0   |\n",
       "| 0   | 0   | 0   | 0   | 0   | 0   | 0   | 0   | 0   | 0   | ... | 0   | 0   | 0   | 0   | 0   | 0   | 0   | 0   | 0   | 0   |\n",
       "| 0   | 0   | 0   | 0   | 0   | 0   | 0   | 0   | 0   | 0   | ... | 0   | 0   | 0   | 0   | 0   | 0   | 0   | 0   | 0   | 0   |\n",
       "| 0   | 0   | 0   | 0   | 0   | 0   | 0   | 0   | 0   | 0   | ... | 0   | 0   | 0   | 0   | 0   | 0   | 0   | 0   | 0   | 0   |\n",
       "| 0   | 0   | 0   | 0   | 0   | 0   | 0   | 0   | 0   | 0   | ... | 0   | 0   | 0   | 0   | 0   | 0   | 0   | 0   | 0   | 0   |\n",
       "| 0   | 0   | 0   | 0   | 0   | 0   | 0   | 0   | 0   | 0   | ... | 0   | 0   | 0   | 0   | 0   | 0   | 0   | 0   | 0   | 0   |\n",
       "| 0   | 0   | 0   | 0   | 0   | 0   | 0   | 0   | 0   | 0   | ... | 0   | 0   | 0   | 0   | 0   | 0   | 0   | 0   | 0   | 0   |\n",
       "| 0   | 0   | 0   | 0   | 0   | 0   | 0   | 0   | 0   | 0   | ... | 0   | 0   | 0   | 0   | 0   | 0   | 0   | 0   | 0   | 0   |\n",
       "| 0   | 0   | 0   | 0   | 0   | 0   | 0   | 0   | 0   | 0   | ... | 0   | 0   | 0   | 0   | 0   | 0   | 0   | 0   | 0   | 0   |\n",
       "| 0   | 0   | 0   | 0   | 0   | 0   | 0   | 0   | 0   | 0   | ... | 0   | 0   | 0   | 0   | 0   | 0   | 0   | 0   | 0   | 0   |\n",
       "| 0   | 0   | 0   | 0   | 0   | 0   | 0   | 0   | 0   | 0   | ... | 0   | 0   | 0   | 0   | 0   | 0   | 0   | 0   | 0   | 0   |\n",
       "| 0   | 0   | 0   | 0   | 0   | 0   | 0   | 0   | 0   | 0   | ... | 0   | 0   | 0   | 0   | 0   | 0   | 0   | 0   | 0   | 0   |\n",
       "| 0   | 0   | 0   | 0   | 0   | 0   | 0   | 0   | 0   | 0   | ... | 0   | 0   | 0   | 0   | 0   | 0   | 0   | 0   | 0   | 0   |\n",
       "| ... | ... | ... | ... | ... | ... | ... | ... | ... | ... |     | ... | ... | ... | ... | ... | ... | ... | ... | ... | ... |\n",
       "| 0   | 0   | 0   | 0   | 0   | 0   | 0   | 1   | 0   | 0   | ... | 0   | 0   | 0   | 0   | 0   | 0   | 0   | 0   | 0   | 0   |\n",
       "| 0   | 0   | 0   | 0   | 0   | 0   | 0   | 1   | 0   | 0   | ... | 0   | 0   | 0   | 0   | 0   | 0   | 0   | 0   | 0   | 0   |\n",
       "| 0   | 0   | 0   | 0   | 0   | 0   | 0   | 1   | 0   | 0   | ... | 0   | 0   | 0   | 0   | 0   | 0   | 0   | 0   | 0   | 0   |\n",
       "| 0   | 0   | 0   | 0   | 0   | 0   | 0   | 1   | 0   | 0   | ... | 0   | 0   | 0   | 0   | 0   | 0   | 0   | 0   | 0   | 0   |\n",
       "| 0   | 0   | 0   | 0   | 0   | 0   | 0   | 1   | 0   | 0   | ... | 0   | 0   | 0   | 0   | 0   | 0   | 0   | 0   | 0   | 0   |\n",
       "| 0   | 0   | 0   | 0   | 0   | 0   | 0   | 1   | 0   | 0   | ... | 0   | 0   | 0   | 0   | 0   | 0   | 0   | 0   | 0   | 0   |\n",
       "| 0   | 0   | 0   | 0   | 0   | 0   | 0   | 1   | 0   | 0   | ... | 0   | 0   | 0   | 0   | 0   | 0   | 0   | 0   | 0   | 0   |\n",
       "| 0   | 0   | 0   | 0   | 0   | 0   | 0   | 1   | 0   | 0   | ... | 0   | 0   | 0   | 0   | 0   | 0   | 0   | 0   | 0   | 0   |\n",
       "| 0   | 0   | 0   | 0   | 0   | 0   | 0   | 1   | 0   | 0   | ... | 0   | 0   | 0   | 0   | 0   | 0   | 0   | 0   | 0   | 0   |\n",
       "| 0   | 0   | 0   | 0   | 0   | 0   | 0   | 1   | 0   | 0   | ... | 0   | 0   | 0   | 0   | 0   | 0   | 0   | 0   | 0   | 0   |\n",
       "| 0   | 0   | 0   | 0   | 0   | 0   | 0   | 1   | 0   | 0   | ... | 0   | 0   | 0   | 0   | 0   | 0   | 0   | 0   | 0   | 0   |\n",
       "| 0   | 0   | 0   | 0   | 0   | 0   | 0   | 1   | 0   | 0   | ... | 0   | 0   | 0   | 0   | 0   | 0   | 0   | 0   | 0   | 0   |\n",
       "| 0   | 0   | 0   | 0   | 0   | 0   | 0   | 1   | 0   | 0   | ... | 0   | 0   | 0   | 0   | 0   | 0   | 0   | 0   | 0   | 0   |\n",
       "| 0   | 0   | 0   | 0   | 0   | 0   | 0   | 1   | 0   | 0   | ... | 0   | 0   | 0   | 0   | 0   | 0   | 0   | 0   | 0   | 0   |\n",
       "| 0   | 0   | 0   | 0   | 0   | 0   | 0   | 1   | 0   | 0   | ... | 0   | 0   | 0   | 0   | 0   | 0   | 0   | 0   | 0   | 0   |\n",
       "| 0   | 0   | 0   | 0   | 0   | 0   | 0   | 1   | 0   | 0   | ... | 0   | 0   | 0   | 0   | 0   | 0   | 0   | 0   | 0   | 0   |\n",
       "| 0   | 0   | 0   | 0   | 0   | 0   | 0   | 1   | 0   | 0   | ... | 0   | 0   | 0   | 0   | 0   | 0   | 0   | 0   | 0   | 0   |\n",
       "| 0   | 0   | 0   | 0   | 0   | 0   | 0   | 1   | 0   | 0   | ... | 0   | 0   | 0   | 0   | 0   | 0   | 0   | 0   | 0   | 0   |\n",
       "| 0   | 0   | 0   | 0   | 0   | 0   | 0   | 1   | 0   | 0   | ... | 0   | 0   | 0   | 0   | 0   | 0   | 0   | 0   | 0   | 0   |\n",
       "| 0   | 0   | 0   | 0   | 0   | 0   | 0   | 1   | 0   | 0   | ... | 0   | 0   | 0   | 0   | 0   | 0   | 0   | 0   | 0   | 0   |\n",
       "| 0   | 0   | 0   | 0   | 0   | 0   | 0   | 1   | 0   | 0   | ... | 0   | 0   | 0   | 0   | 0   | 0   | 0   | 0   | 0   | 0   |\n",
       "| 0   | 0   | 0   | 0   | 0   | 0   | 0   | 1   | 0   | 0   | ... | 0   | 0   | 0   | 0   | 0   | 0   | 0   | 0   | 0   | 0   |\n",
       "| 0   | 0   | 0   | 0   | 0   | 0   | 0   | 1   | 0   | 0   | ... | 0   | 0   | 0   | 0   | 0   | 0   | 0   | 0   | 0   | 0   |\n",
       "| 0   | 0   | 0   | 0   | 0   | 0   | 0   | 1   | 0   | 0   | ... | 0   | 0   | 0   | 0   | 0   | 0   | 0   | 0   | 0   | 0   |\n",
       "| 0   | 0   | 0   | 0   | 0   | 0   | 0   | 1   | 0   | 0   | ... | 0   | 0   | 0   | 0   | 0   | 0   | 0   | 0   | 0   | 0   |\n",
       "| 0   | 0   | 0   | 0   | 0   | 0   | 0   | 1   | 0   | 0   | ... | 0   | 0   | 0   | 0   | 0   | 0   | 0   | 0   | 0   | 0   |\n",
       "| 0   | 0   | 0   | 0   | 0   | 0   | 0   | 1   | 0   | 0   | ... | 0   | 0   | 0   | 0   | 0   | 0   | 0   | 0   | 0   | 0   |\n",
       "| 0   | 0   | 0   | 0   | 0   | 0   | 0   | 1   | 0   | 0   | ... | 0   | 0   | 0   | 0   | 0   | 0   | 0   | 0   | 0   | 0   |\n",
       "| 0   | 0   | 0   | 0   | 0   | 0   | 0   | 1   | 0   | 0   | ... | 0   | 0   | 0   | 0   | 0   | 0   | 0   | 0   | 0   | 0   |\n",
       "| 0   | 0   | 0   | 0   | 0   | 0   | 0   | 1   | 0   | 0   | ... | 0   | 0   | 0   | 0   | 0   | 0   | 0   | 0   | 0   | 0   |\n",
       "\n"
      ],
      "text/plain": [
       "     movie_id budget original_language popularity release_date runtime\n",
       "1    0        0      0                 0          0            0      \n",
       "2    0        0      0                 0          0            0      \n",
       "3    0        0      0                 0          0            0      \n",
       "4    0        0      0                 0          0            0      \n",
       "5    0        0      0                 0          0            0      \n",
       "6    0        0      0                 0          0            0      \n",
       "7    0        0      0                 0          0            0      \n",
       "8    0        0      0                 0          0            0      \n",
       "9    0        0      0                 0          0            0      \n",
       "10   0        0      0                 0          0            0      \n",
       "11   0        0      0                 0          0            0      \n",
       "12   0        0      0                 0          0            0      \n",
       "13   0        0      0                 0          0            0      \n",
       "14   0        0      0                 0          0            0      \n",
       "15   0        0      0                 0          0            0      \n",
       "16   0        0      0                 0          0            0      \n",
       "17   0        0      0                 0          0            0      \n",
       "18   0        0      0                 0          0            0      \n",
       "19   0        0      0                 0          0            0      \n",
       "20   0        0      0                 0          0            0      \n",
       "21   0        0      0                 0          0            0      \n",
       "22   0        0      0                 0          0            0      \n",
       "23   0        0      0                 0          0            0      \n",
       "24   0        0      0                 0          0            0      \n",
       "25   0        0      0                 0          0            0      \n",
       "26   0        0      0                 0          0            0      \n",
       "27   0        0      0                 0          0            0      \n",
       "28   0        0      0                 0          0            0      \n",
       "29   0        0      0                 0          0            0      \n",
       "30   0        0      0                 0          0            0      \n",
       "...  ...      ...    ...               ...        ...          ...    \n",
       "7346 0        0      0                 0          0            0      \n",
       "7347 0        0      0                 0          0            0      \n",
       "7348 0        0      0                 0          0            0      \n",
       "7349 0        0      0                 0          0            0      \n",
       "7350 0        0      0                 0          0            0      \n",
       "7351 0        0      0                 0          0            0      \n",
       "7352 0        0      0                 0          0            0      \n",
       "7353 0        0      0                 0          0            0      \n",
       "7354 0        0      0                 0          0            0      \n",
       "7355 0        0      0                 0          0            0      \n",
       "7356 0        0      0                 0          0            0      \n",
       "7357 0        0      0                 0          0            0      \n",
       "7358 0        0      0                 0          0            0      \n",
       "7359 0        0      0                 0          0            0      \n",
       "7360 0        0      0                 0          0            0      \n",
       "7361 0        0      0                 0          0            0      \n",
       "7362 0        0      0                 0          0            0      \n",
       "7363 0        0      0                 0          0            0      \n",
       "7364 0        0      0                 0          0            0      \n",
       "7365 0        0      0                 0          0            0      \n",
       "7366 0        0      0                 0          0            0      \n",
       "7367 0        0      0                 0          0            0      \n",
       "7368 0        0      0                 0          0            0      \n",
       "7369 0        0      0                 0          0            0      \n",
       "7370 0        0      0                 0          0            0      \n",
       "7371 0        0      0                 0          0            0      \n",
       "7372 0        0      0                 0          0            0      \n",
       "7373 0        0      0                 0          0            0      \n",
       "7374 0        0      0                 0          0            0      \n",
       "7375 0        0      0                 0          0            0      \n",
       "     runtime_cat revenue sw_lang_en sw_web_presence ... depart_Camera_female\n",
       "1    0           0       0          0               ... 0                   \n",
       "2    0           0       0          0               ... 0                   \n",
       "3    0           0       0          0               ... 0                   \n",
       "4    0           0       0          0               ... 0                   \n",
       "5    0           0       0          0               ... 0                   \n",
       "6    0           0       0          0               ... 0                   \n",
       "7    0           0       0          0               ... 0                   \n",
       "8    0           0       0          0               ... 0                   \n",
       "9    0           0       0          0               ... 0                   \n",
       "10   0           0       0          0               ... 0                   \n",
       "11   0           0       0          0               ... 0                   \n",
       "12   0           0       0          0               ... 0                   \n",
       "13   0           0       0          0               ... 0                   \n",
       "14   0           0       0          0               ... 0                   \n",
       "15   0           0       0          0               ... 0                   \n",
       "16   0           0       0          0               ... 0                   \n",
       "17   0           0       0          0               ... 0                   \n",
       "18   0           0       0          0               ... 0                   \n",
       "19   0           0       0          0               ... 0                   \n",
       "20   0           0       0          0               ... 0                   \n",
       "21   0           0       0          0               ... 0                   \n",
       "22   0           0       0          0               ... 0                   \n",
       "23   0           0       0          0               ... 0                   \n",
       "24   0           0       0          0               ... 0                   \n",
       "25   0           0       0          0               ... 0                   \n",
       "26   0           0       0          0               ... 0                   \n",
       "27   0           0       0          0               ... 0                   \n",
       "28   0           0       0          0               ... 0                   \n",
       "29   0           0       0          0               ... 0                   \n",
       "30   0           0       0          0               ... 0                   \n",
       "...  ...         ...     ...        ...                 ...                 \n",
       "7346 0           1       0          0               ... 0                   \n",
       "7347 0           1       0          0               ... 0                   \n",
       "7348 0           1       0          0               ... 0                   \n",
       "7349 0           1       0          0               ... 0                   \n",
       "7350 0           1       0          0               ... 0                   \n",
       "7351 0           1       0          0               ... 0                   \n",
       "7352 0           1       0          0               ... 0                   \n",
       "7353 0           1       0          0               ... 0                   \n",
       "7354 0           1       0          0               ... 0                   \n",
       "7355 0           1       0          0               ... 0                   \n",
       "7356 0           1       0          0               ... 0                   \n",
       "7357 0           1       0          0               ... 0                   \n",
       "7358 0           1       0          0               ... 0                   \n",
       "7359 0           1       0          0               ... 0                   \n",
       "7360 0           1       0          0               ... 0                   \n",
       "7361 0           1       0          0               ... 0                   \n",
       "7362 0           1       0          0               ... 0                   \n",
       "7363 0           1       0          0               ... 0                   \n",
       "7364 0           1       0          0               ... 0                   \n",
       "7365 0           1       0          0               ... 0                   \n",
       "7366 0           1       0          0               ... 0                   \n",
       "7367 0           1       0          0               ... 0                   \n",
       "7368 0           1       0          0               ... 0                   \n",
       "7369 0           1       0          0               ... 0                   \n",
       "7370 0           1       0          0               ... 0                   \n",
       "7371 0           1       0          0               ... 0                   \n",
       "7372 0           1       0          0               ... 0                   \n",
       "7373 0           1       0          0               ... 0                   \n",
       "7374 0           1       0          0               ... 0                   \n",
       "7375 0           1       0          0               ... 0                   \n",
       "     depart_Crew_female depart_Custom_Mkup_female depart_Directing_female\n",
       "1    0                  0                         0                      \n",
       "2    0                  0                         0                      \n",
       "3    0                  0                         0                      \n",
       "4    0                  0                         0                      \n",
       "5    0                  0                         0                      \n",
       "6    0                  0                         0                      \n",
       "7    0                  0                         0                      \n",
       "8    0                  0                         0                      \n",
       "9    0                  0                         0                      \n",
       "10   0                  0                         0                      \n",
       "11   0                  0                         0                      \n",
       "12   0                  0                         0                      \n",
       "13   0                  0                         0                      \n",
       "14   0                  0                         0                      \n",
       "15   0                  0                         0                      \n",
       "16   0                  0                         0                      \n",
       "17   0                  0                         0                      \n",
       "18   0                  0                         0                      \n",
       "19   0                  0                         0                      \n",
       "20   0                  0                         0                      \n",
       "21   0                  0                         0                      \n",
       "22   0                  0                         0                      \n",
       "23   0                  0                         0                      \n",
       "24   0                  0                         0                      \n",
       "25   0                  0                         0                      \n",
       "26   0                  0                         0                      \n",
       "27   0                  0                         0                      \n",
       "28   0                  0                         0                      \n",
       "29   0                  0                         0                      \n",
       "30   0                  0                         0                      \n",
       "...  ...                ...                       ...                    \n",
       "7346 0                  0                         0                      \n",
       "7347 0                  0                         0                      \n",
       "7348 0                  0                         0                      \n",
       "7349 0                  0                         0                      \n",
       "7350 0                  0                         0                      \n",
       "7351 0                  0                         0                      \n",
       "7352 0                  0                         0                      \n",
       "7353 0                  0                         0                      \n",
       "7354 0                  0                         0                      \n",
       "7355 0                  0                         0                      \n",
       "7356 0                  0                         0                      \n",
       "7357 0                  0                         0                      \n",
       "7358 0                  0                         0                      \n",
       "7359 0                  0                         0                      \n",
       "7360 0                  0                         0                      \n",
       "7361 0                  0                         0                      \n",
       "7362 0                  0                         0                      \n",
       "7363 0                  0                         0                      \n",
       "7364 0                  0                         0                      \n",
       "7365 0                  0                         0                      \n",
       "7366 0                  0                         0                      \n",
       "7367 0                  0                         0                      \n",
       "7368 0                  0                         0                      \n",
       "7369 0                  0                         0                      \n",
       "7370 0                  0                         0                      \n",
       "7371 0                  0                         0                      \n",
       "7372 0                  0                         0                      \n",
       "7373 0                  0                         0                      \n",
       "7374 0                  0                         0                      \n",
       "7375 0                  0                         0                      \n",
       "     depart_Editing_female depart_Lighting_female depart_Production_female\n",
       "1    0                     0                      0                       \n",
       "2    0                     0                      0                       \n",
       "3    0                     0                      0                       \n",
       "4    0                     0                      0                       \n",
       "5    0                     0                      0                       \n",
       "6    0                     0                      0                       \n",
       "7    0                     0                      0                       \n",
       "8    0                     0                      0                       \n",
       "9    0                     0                      0                       \n",
       "10   0                     0                      0                       \n",
       "11   0                     0                      0                       \n",
       "12   0                     0                      0                       \n",
       "13   0                     0                      0                       \n",
       "14   0                     0                      0                       \n",
       "15   0                     0                      0                       \n",
       "16   0                     0                      0                       \n",
       "17   0                     0                      0                       \n",
       "18   0                     0                      0                       \n",
       "19   0                     0                      0                       \n",
       "20   0                     0                      0                       \n",
       "21   0                     0                      0                       \n",
       "22   0                     0                      0                       \n",
       "23   0                     0                      0                       \n",
       "24   0                     0                      0                       \n",
       "25   0                     0                      0                       \n",
       "26   0                     0                      0                       \n",
       "27   0                     0                      0                       \n",
       "28   0                     0                      0                       \n",
       "29   0                     0                      0                       \n",
       "30   0                     0                      0                       \n",
       "...  ...                   ...                    ...                     \n",
       "7346 0                     0                      0                       \n",
       "7347 0                     0                      0                       \n",
       "7348 0                     0                      0                       \n",
       "7349 0                     0                      0                       \n",
       "7350 0                     0                      0                       \n",
       "7351 0                     0                      0                       \n",
       "7352 0                     0                      0                       \n",
       "7353 0                     0                      0                       \n",
       "7354 0                     0                      0                       \n",
       "7355 0                     0                      0                       \n",
       "7356 0                     0                      0                       \n",
       "7357 0                     0                      0                       \n",
       "7358 0                     0                      0                       \n",
       "7359 0                     0                      0                       \n",
       "7360 0                     0                      0                       \n",
       "7361 0                     0                      0                       \n",
       "7362 0                     0                      0                       \n",
       "7363 0                     0                      0                       \n",
       "7364 0                     0                      0                       \n",
       "7365 0                     0                      0                       \n",
       "7366 0                     0                      0                       \n",
       "7367 0                     0                      0                       \n",
       "7368 0                     0                      0                       \n",
       "7369 0                     0                      0                       \n",
       "7370 0                     0                      0                       \n",
       "7371 0                     0                      0                       \n",
       "7372 0                     0                      0                       \n",
       "7373 0                     0                      0                       \n",
       "7374 0                     0                      0                       \n",
       "7375 0                     0                      0                       \n",
       "     depart_Sound_female depart_Visual_Effects_female depart_Writing_female\n",
       "1    0                   0                            0                    \n",
       "2    0                   0                            0                    \n",
       "3    0                   0                            0                    \n",
       "4    0                   0                            0                    \n",
       "5    0                   0                            0                    \n",
       "6    0                   0                            0                    \n",
       "7    0                   0                            0                    \n",
       "8    0                   0                            0                    \n",
       "9    0                   0                            0                    \n",
       "10   0                   0                            0                    \n",
       "11   0                   0                            0                    \n",
       "12   0                   0                            0                    \n",
       "13   0                   0                            0                    \n",
       "14   0                   0                            0                    \n",
       "15   0                   0                            0                    \n",
       "16   0                   0                            0                    \n",
       "17   0                   0                            0                    \n",
       "18   0                   0                            0                    \n",
       "19   0                   0                            0                    \n",
       "20   0                   0                            0                    \n",
       "21   0                   0                            0                    \n",
       "22   0                   0                            0                    \n",
       "23   0                   0                            0                    \n",
       "24   0                   0                            0                    \n",
       "25   0                   0                            0                    \n",
       "26   0                   0                            0                    \n",
       "27   0                   0                            0                    \n",
       "28   0                   0                            0                    \n",
       "29   0                   0                            0                    \n",
       "30   0                   0                            0                    \n",
       "...  ...                 ...                          ...                  \n",
       "7346 0                   0                            0                    \n",
       "7347 0                   0                            0                    \n",
       "7348 0                   0                            0                    \n",
       "7349 0                   0                            0                    \n",
       "7350 0                   0                            0                    \n",
       "7351 0                   0                            0                    \n",
       "7352 0                   0                            0                    \n",
       "7353 0                   0                            0                    \n",
       "7354 0                   0                            0                    \n",
       "7355 0                   0                            0                    \n",
       "7356 0                   0                            0                    \n",
       "7357 0                   0                            0                    \n",
       "7358 0                   0                            0                    \n",
       "7359 0                   0                            0                    \n",
       "7360 0                   0                            0                    \n",
       "7361 0                   0                            0                    \n",
       "7362 0                   0                            0                    \n",
       "7363 0                   0                            0                    \n",
       "7364 0                   0                            0                    \n",
       "7365 0                   0                            0                    \n",
       "7366 0                   0                            0                    \n",
       "7367 0                   0                            0                    \n",
       "7368 0                   0                            0                    \n",
       "7369 0                   0                            0                    \n",
       "7370 0                   0                            0                    \n",
       "7371 0                   0                            0                    \n",
       "7372 0                   0                            0                    \n",
       "7373 0                   0                            0                    \n",
       "7374 0                   0                            0                    \n",
       "7375 0                   0                            0                    "
      ]
     },
     "metadata": {},
     "output_type": "display_data"
    }
   ],
   "source": [
    "movies_missings"
   ]
  },
  {
   "cell_type": "code",
   "execution_count": 40,
   "metadata": {},
   "outputs": [
    {
     "name": "stderr",
     "output_type": "stream",
     "text": [
      "Warning message in brewer.pal(n = ncol(movies_ff), name = \"RdYlBu\"):\n",
      "\"n too large, allowed maximum for palette RdYlBu is 11\n",
      "Returning the palette you asked for with that many colors\n",
      "\"\n"
     ]
    },
    {
     "data": {
      "image/png": "[encoded data removed]",
      "text/plain": [
       "plot without title"
      ]
     },
     "metadata": {
      "image/png": {
       "height": 480,
       "width": 720
      },
      "text/plain": {
       "height": 480,
       "width": 720
      }
     },
     "output_type": "display_data"
    }
   ],
   "source": [
    "heatmap(as.matrix(movies_missings),cexCol = 0.7, cexRow = 0.7, col=brewer.pal(n=ncol(movies_ff), name=\"RdYlBu\"))"
   ]
  },
  {
   "cell_type": "code",
   "execution_count": 39,
   "metadata": {},
   "outputs": [
    {
     "data": {
      "image/png": "[encoded data removed]",
      "text/plain": [
       "plot without title"
      ]
     },
     "metadata": {
      "image/png": {
       "height": 480,
       "width": 720
      },
      "text/plain": {
       "height": 480,
       "width": 720
      }
     },
     "output_type": "display_data"
    }
   ],
   "source": [
    "matrixplot(as.matrix(movies_missings))"
   ]
  },
  {
   "cell_type": "code",
   "execution_count": null,
   "metadata": {},
   "outputs": [],
   "source": []
  }
 ],
 "metadata": {
  "kernelspec": {
   "display_name": "R",
   "language": "R",
   "name": "ir"
  },
  "language_info": {
   "codemirror_mode": "r",
   "file_extension": ".r",
   "mimetype": "text/x-r-source",
   "name": "R",
   "pygments_lexer": "r",
   "version": "3.6.2"
  }
 },
 "nbformat": 4,
 "nbformat_minor": 2
}
