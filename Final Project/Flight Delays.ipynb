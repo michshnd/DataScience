{
 "cells": [
  {
   "cell_type": "code",
   "execution_count": 10,
   "metadata": {},
   "outputs": [],
   "source": [
    "import pyodbc\n",
    "import pandas as pd\n",
    "import numpy as np\n",
    "import csv\n",
    "import os"
   ]
  },
  {
   "cell_type": "code",
   "execution_count": null,
   "metadata": {},
   "outputs": [],
   "source": [
    "install_github(\"karpatit/mechkar\")\n",
    "library(devtools)\n",
    "library(mechkar)"
   ]
  },
  {
   "cell_type": "code",
   "execution_count": 2,
   "metadata": {},
   "outputs": [],
   "source": [
    "conn = pyodbc.connect('DSN=FlightDelays;Trusted_Connection=yes;')"
   ]
  },
  {
   "cell_type": "code",
   "execution_count": 9,
   "metadata": {},
   "outputs": [],
   "source": [
    "########  import CSV to SQL  #######\n",
    "#\n",
    "#with open ('C:/Users/michs/Downloads/flight-delays/airports.csv', 'r') as f:\n",
    "#    reader = csv.reader(f)\n",
    "#    columns = next(reader) \n",
    "#    query = 'insert into airports({0}) values ({1})'\n",
    "#    query = query.format(','.join(columns), ','.join('?' * len(columns)))\n",
    "#    cursor = conn.cursor()\n",
    "#    for data in reader:\n",
    "#        cursor.execute(query, data)\n",
    "#    cursor.commit()\n",
    "#\n",
    "####################################"
   ]
  },
  {
   "cell_type": "code",
   "execution_count": 3,
   "metadata": {},
   "outputs": [],
   "source": [
    "### add tables ###\n",
    "\n",
    "#flights = pd.read_sql(\"SELECT * FROM flights;\", conn)\n",
    "#airports = pd.read_sql(\"SELECT * FROM airports;\", conn)\n",
    "#airlines = pd.read_sql(\"SELECT * FROM airlines;\", conn)\n",
    "All_flights = pd.read_sql(\"SELECT * FROM all_flights;\", conn)"
   ]
  },
  {
   "cell_type": "code",
   "execution_count": null,
   "metadata": {},
   "outputs": [],
   "source": [
    "######------df to HDF------############\n",
    "\n",
    "#All_flights.to_hdf('data.h5', key='main_df', mode='w',  complevel= 9)\n",
    "#All_flights=pd.read_hdf('data.h5', 'main_df')\n",
    "#os.remove('data.h5')\n",
    "\n",
    "######################################"
   ]
  },
  {
   "cell_type": "markdown",
   "metadata": {},
   "source": [
    "# Data Analisys"
   ]
  },
  {
   "cell_type": "code",
   "execution_count": null,
   "metadata": {},
   "outputs": [],
   "source": [
    "####-----Mechkar----#####\n",
    "\n",
    "library(devtools)\n",
    "#install_github(\"karpatit/mechkar\")\n",
    "library(mechkar)\n",
    "setwd(\"C:/Users/michs/Documents/DataScience/stats/\")\n"
   ]
  },
  {
   "cell_type": "code",
   "execution_count": 5,
   "metadata": {},
   "outputs": [
    {
     "data": {
      "text/plain": [
       "(5819079, 43)"
      ]
     },
     "execution_count": 5,
     "metadata": {},
     "output_type": "execute_result"
    }
   ],
   "source": [
    "All_flights.shape"
   ]
  },
  {
   "cell_type": "code",
   "execution_count": null,
   "metadata": {},
   "outputs": [],
   "source": []
  },
  {
   "cell_type": "code",
   "execution_count": 8,
   "metadata": {},
   "outputs": [
    {
     "data": {
      "text/plain": [
       "Index(['DESTINATION_AIRPORT_NAME', 'DESTINATION_CITY', 'DESTINATION_STATE',\n",
       "       'DESTINATION_LAT', 'DESTINATION_LONG', 'YEAR', 'MONTH', 'DAY',\n",
       "       'DAY_OF_WEEK', 'FLIGHT_NUMBER', 'TAIL_NUMBER', 'ORIGIN_AIRPORT',\n",
       "       'DESTINATION_AIRPORT', 'SCHEDULED_DEPARTURE', 'DEPARTURE_TIME',\n",
       "       'DEPARTURE_DELAY', 'TAXI_OUT', 'WHEELS_OFF', 'SCHEDULED_TIME',\n",
       "       'ELAPSED_TIME', 'AIR_TIME', 'DISTANCE', 'WHEELS_ON', 'TAXI_IN',\n",
       "       'SCHEDULED_ARRIVAL', 'ARRIVAL_TIME', 'ARRIVAL_DELAY', 'DIVERTED',\n",
       "       'CANCELLED', 'CANCELLATION_REASON', 'AIR_SYSTEM_DELAY',\n",
       "       'SECURITY_DELAY', 'AIRLINE_DELAY', 'LATE_AIRCRAFT_DELAY',\n",
       "       'WEATHER_DELAY', 'IATA_CODE', 'AIRLINE', 'ORIGIN_AIRPORT_NAME',\n",
       "       'ORIGIN_CITY', 'ORIGIN_STATE', 'COUNTRY', 'ORIGIN_LAT', 'ORIGIN_LONG'],\n",
       "      dtype='object')"
      ]
     },
     "execution_count": 8,
     "metadata": {},
     "output_type": "execute_result"
    }
   ],
   "source": [
    "All_flights.columns"
   ]
  },
  {
   "cell_type": "code",
   "execution_count": 13,
   "metadata": {},
   "outputs": [],
   "source": [
    "os.remove('data.h5')"
   ]
  },
  {
   "cell_type": "code",
   "execution_count": null,
   "metadata": {},
   "outputs": [],
   "source": []
  }
 ],
 "metadata": {
  "kernelspec": {
   "display_name": "Python 3",
   "language": "python",
   "name": "python3"
  },
  "language_info": {
   "codemirror_mode": {
    "name": "ipython",
    "version": 3
   },
   "file_extension": ".py",
   "mimetype": "text/x-python",
   "name": "python",
   "nbconvert_exporter": "python",
   "pygments_lexer": "ipython3",
   "version": "3.7.1"
  }
 },
 "nbformat": 4,
 "nbformat_minor": 2
}
