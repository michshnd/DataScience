{
 "cells": [
  {
   "cell_type": "markdown",
   "metadata": {},
   "source": [
    "# Python Intro - Final Exercise\n"
   ]
  },
  {
   "cell_type": "code",
   "execution_count": 1,
   "metadata": {},
   "outputs": [],
   "source": [
    "import pyodbc\n",
    "import pandas as pd\n",
    "import numpy as np"
   ]
  },
  {
   "cell_type": "code",
   "execution_count": 2,
   "metadata": {
    "scrolled": false
   },
   "outputs": [],
   "source": [
    "### In windows, Using a ODBC DNS (predefined connection name)\n",
    "conn = pyodbc.connect('DSN=COLLEGE;Trusted_Connection=yes;')\n"
   ]
  },
  {
   "cell_type": "code",
   "execution_count": 15,
   "metadata": {},
   "outputs": [],
   "source": [
    "students = pd.read_sql(\"SELECT * FROM Students;\", conn)\n",
    "courses = pd.read_sql(\"SELECT * FROM Courses;\", conn)\n",
    "classrooms = pd.read_sql(\"SELECT * FROM Classrooms;\", conn)\n",
    "teachers = pd.read_sql(\"SELECT * FROM Teachers;\", conn)\n",
    "departments = pd.read_sql(\"SELECT * FROM Departments;\", conn)"
   ]
  },
  {
   "cell_type": "code",
   "execution_count": 18,
   "metadata": {},
   "outputs": [],
   "source": [
    "classroom_courses = pd.merge(classrooms, courses, on='CourseID', how='inner')\n",
    "class_courses_dep = pd.merge(classroom_courses, departments, on='DepartmentID', how='inner')\n",
    "class_courses_dep_stud = pd.merge(class_courses_dep, students, on='StudentID', how='inner')\n",
    "class_courses_dep_stud_teach = pd.merge(class_courses_dep_stud, teachers, on='TeacherID', how='inner')\n",
    "class_courses_dep_teach = pd.merge(class_courses_dep, teachers, on='TeacherID', how='left')"
   ]
  },
  {
   "cell_type": "markdown",
   "metadata": {},
   "source": [
    "# Questions\n",
    " \n",
    " \n",
    "## Q1. Count the number of students on each department"
   ]
  },
  {
   "cell_type": "code",
   "execution_count": 5,
   "metadata": {},
   "outputs": [
    {
     "name": "stdout",
     "output_type": "stream",
     "text": [
      "                            Student Number\n",
      "                                   nunique\n",
      "DepartmentID DepartmentName               \n",
      "1            English                    84\n",
      "2            Science                   200\n",
      "3            Arts                      137\n",
      "4            Sport                      81\n"
     ]
    }
   ],
   "source": [
    "\n",
    "students_departments = class_courses_dep.groupby([\"DepartmentID\",\"DepartmentName\"]).agg({\"StudentID\": ['nunique']}).rename(columns = {\"StudentID\":\"Student Number\"})\n",
    "print(students_departments)"
   ]
  },
  {
   "cell_type": "markdown",
   "metadata": {},
   "source": [
    "## Q2. How many students have each course of the English department and the total number of students in the department?"
   ]
  },
  {
   "cell_type": "code",
   "execution_count": 6,
   "metadata": {},
   "outputs": [
    {
     "name": "stdout",
     "output_type": "stream",
     "text": [
      "                              Student Number\n",
      "                                       count\n",
      "CourseID CourseName                         \n",
      "1        English Begginers                32\n",
      "2        Advanced English                 24\n",
      "3        Proffesional English             38\n",
      "\n",
      "Total number of students in English department is 84\n"
     ]
    }
   ],
   "source": [
    "students_english_dep = class_courses_dep.query(\"DepartmentID==1\")\n",
    "students_Eng_Courses = students_english_dep.groupby([\"CourseID\",\"CourseName\"]).agg({\"StudentID\": ['count']}).rename(columns = {\"StudentID\":\"Student Number\"})\n",
    "print(students_Eng_Courses)\n",
    "\n",
    "total_stud_eng_dep = students_english_dep.drop_duplicates(subset='StudentID', keep='first')['StudentID'].count()\n",
    "print(\"\\nTotal number of students in English department is\", total_stud_eng_dep)"
   ]
  },
  {
   "cell_type": "markdown",
   "metadata": {},
   "source": [
    "## Q3. How many small (<22 students) and large (22+ students) classrooms are needed for the Science department?"
   ]
  },
  {
   "cell_type": "code",
   "execution_count": 7,
   "metadata": {},
   "outputs": [
    {
     "name": "stdout",
     "output_type": "stream",
     "text": [
      "       Type\n",
      "      count\n",
      "Type       \n",
      "Big       6\n",
      "Small    10\n"
     ]
    }
   ],
   "source": [
    "students_english_dep = class_courses_dep.query(\"DepartmentID==2\")\n",
    "students_num_Sci_Courses = students_english_dep.groupby([\"CourseID\",\"CourseName\"]).agg({\"StudentID\": ['count']})\n",
    "students_num_Sci_Courses.loc[:,'Type'] = \"Big\"\n",
    "students_num_Sci_Courses.loc[students_num_Sci_Courses.iloc[:,0]>21,'Type'] = \"Small\"\n",
    "big_small= students_num_Sci_Courses.groupby([\"Type\"]).agg({\"Type\": ['count']})\n",
    "print(big_small)"
   ]
  },
  {
   "cell_type": "markdown",
   "metadata": {},
   "source": [
    "## Q4. A feminist student claims that there are more male than female in the College. Justify if the argument is correct"
   ]
  },
  {
   "cell_type": "code",
   "execution_count": 8,
   "metadata": {},
   "outputs": [
    {
     "name": "stdout",
     "output_type": "stream",
     "text": [
      "       StudentID\n",
      "           count\n",
      "Gender          \n",
      "F            165\n",
      "M            115\n",
      "The feminist are WRONG, There are more women than man in the college\n"
     ]
    }
   ],
   "source": [
    "print(students.groupby([\"Gender\"]).agg({\"StudentID\": ['count']}))\n",
    "print(\"The feminist are WRONG, There are more women than man in the college\")"
   ]
  },
  {
   "cell_type": "markdown",
   "metadata": {},
   "source": [
    "## Q5. For which courses the percentage of male/female students is over 70%?"
   ]
  },
  {
   "cell_type": "code",
   "execution_count": 9,
   "metadata": {},
   "outputs": [
    {
     "name": "stdout",
     "output_type": "stream",
     "text": [
      "            males  females  Total\n",
      "CourseName                       \n",
      "Sculpture       7       17     24\n",
      "Tenis           5       13     18\n"
     ]
    }
   ],
   "source": [
    "female = class_courses_dep_stud[(class_courses_dep_stud.Gender == \"F\")]\n",
    "male = class_courses_dep_stud[(class_courses_dep_stud.Gender == \"M\")]\n",
    "Total = class_courses_dep_stud.groupby(['CourseName']).agg(Total=(\"StudentID\", \"count\"))\n",
    "\n",
    "male = male.groupby(['CourseName']).agg(males=(\"StudentID\", \"count\"))\n",
    "female = female.groupby(['CourseName']).agg(females=(\"StudentID\", \"count\"))\n",
    "male_female = pd.merge(male, female,  on=\"CourseName\" ,how = 'inner')\n",
    "male_female = pd.merge(male_female, Total,  on=\"CourseName\" ,how = 'inner')\n",
    "\n",
    "male_female['perc_m'] = male_female['males'] / male_female ['Total'] > 0.7\n",
    "male_female['perc_f'] = male_female['females'] / male_female ['Total'] > 0.7\n",
    "male_female = male_female[(male_female.perc_f == True) | (male_female.perc_m == True) ]\n",
    "print(male_female.iloc[:,0:3])"
   ]
  },
  {
   "cell_type": "markdown",
   "metadata": {},
   "source": [
    "## Q6. For each department, how many students passed with a grades over 80?"
   ]
  },
  {
   "cell_type": "code",
   "execution_count": 12,
   "metadata": {},
   "outputs": [
    {
     "name": "stdout",
     "output_type": "stream",
     "text": [
      "                Students_number\n",
      "DepartmentName                 \n",
      "Arts                         61\n",
      "English                      40\n",
      "Science                     122\n",
      "Sport                        39\n"
     ]
    }
   ],
   "source": [
    "depart_stud_80 = class_courses_dep_stud[(class_courses_dep_stud.degree >= 80)]\n",
    "depart_stud_80 = depart_stud_80.groupby(['DepartmentName']).agg(Students_number=(\"StudentID\", \"nunique\"))\n",
    "print(depart_stud_80)"
   ]
  },
  {
   "cell_type": "markdown",
   "metadata": {},
   "source": [
    "## Q7. For each department, how many students passed with a grades under 60?"
   ]
  },
  {
   "cell_type": "code",
   "execution_count": 13,
   "metadata": {},
   "outputs": [
    {
     "name": "stdout",
     "output_type": "stream",
     "text": [
      "                Students_number\n",
      "DepartmentName                 \n",
      "Arts                          3\n",
      "English                       2\n",
      "Science                       7\n",
      "Sport                         1\n"
     ]
    }
   ],
   "source": [
    "depart_stud_60 = class_courses_dep_stud[(class_courses_dep_stud.degree <= 60)]\n",
    "depart_stud_60 = depart_stud_60.groupby(['DepartmentName']).agg(Students_number=(\"StudentID\", \"nunique\"))\n",
    "print(depart_stud_60)"
   ]
  },
  {
   "cell_type": "markdown",
   "metadata": {},
   "source": [
    "## Q8. Rate the teachers by their average student's grades (in descending order)."
   ]
  },
  {
   "cell_type": "code",
   "execution_count": 17,
   "metadata": {},
   "outputs": [
    {
     "name": "stdout",
     "output_type": "stream",
     "text": [
      "    TeacherID  FirstName    LastName  Grade_Avg\n",
      "19         22     Darick        Hess  81.432703\n",
      "2           3     Jordyn       Baron  80.729494\n",
      "3           5    Heather     Metcalf  80.440242\n",
      "17         20    Zachary       Healy  79.365867\n",
      "0           1     Kaylea    Monzingo  79.365537\n",
      "15         18     Daniel       Bland  78.908281\n",
      "21         24     Keegan       Price  78.814631\n",
      "12         15      Conor  Mckittrick  78.699492\n",
      "20         23    Maxwell      Romkee  78.673509\n",
      "16         19     Terran       Beaty  78.495479\n",
      "14         17     Tanner  Fitzsimons  78.443395\n",
      "7          10  Mackenzie       Olsen  78.383348\n",
      "18         21     Ernest    Stoyanov  78.316150\n",
      "4           6    Madison       Batan  77.743575\n",
      "6           9   Katerina       Young  77.406852\n",
      "9          12    Mikayla     Russell  77.134323\n",
      "1           2     Amanda     Dworkin  76.899881\n",
      "8          11    Kaitlin      Delude  76.765296\n",
      "11         14    Jeffrey      Batzel  76.737973\n",
      "13         16     Robert    Aivazian  76.516464\n",
      "5           8   Caroline     Knuesel  75.955453\n",
      "10         13  Alexander       Watts  75.668139\n"
     ]
    }
   ],
   "source": [
    "Teachers_grades =class_courses_dep_stud.groupby(['TeacherID']).agg(Grade_Avg=(\"degree\", \"mean\" ))\n",
    "TeacherNames = pd.DataFrame({'TeacherID': [] ,'FirstName':[], 'LastName': []})\n",
    "TeacherNames['FirstName'] = teachers['FirstName']\n",
    "TeacherNames['LastName'] = teachers['LastName']\n",
    "TeacherNames['TeacherID'] = teachers['TeacherID']\n",
    "Teachers_grades = pd.merge(TeacherNames, Teachers_grades,  on=\"TeacherID\" ,how = 'inner')\n",
    "Teachers_grades = Teachers_grades.sort_values(by='Grade_Avg', ascending=False)\n",
    "print(Teachers_grades)"
   ]
  },
  {
   "cell_type": "markdown",
   "metadata": {},
   "source": [
    "## Q9. Create a dataframe showing the courses, departments they are associated with, the teacher in each course, and the number of students enrolled in the course (for each course, department and teacher show the names)."
   ]
  },
  {
   "cell_type": "code",
   "execution_count": 19,
   "metadata": {},
   "outputs": [
    {
     "name": "stdout",
     "output_type": "stream",
     "text": [
      "                                                          Total_Students\n",
      "CourseName           DepartmentName FirstName LastName                  \n",
      "Advanced English     English        Conor     Mckittrick              24\n",
      "Algebra              Science        Alexander Watts                   12\n",
      "Biology              Science        Jordyn    Baron                   36\n",
      "Chemistry            Science        Jeffrey   Batzel                  24\n",
      "Computer Science     Science        Kaylea    Monzingo                38\n",
      "Data Science         Science        Mackenzie Olsen                   30\n",
      "English Begginers    English        Conor     Mckittrick              32\n",
      "Genetics             Science        Terran    Beaty                   38\n",
      "Geometry             Science        Alexander Watts                   14\n",
      "Gymnastics           Sport          Maxwell   Romkee                  24\n",
      "History of Arts      Arts           Caroline  Knuesel                 32\n",
      "Java                 Science        Darick    Hess                    16\n",
      "Literature           Arts           Daniel    Bland                   40\n",
      "Matematics Advanced  Science        Alexander Watts                   10\n",
      "Mathematics 101      Science        Amanda    Dworkin                 18\n",
      "Musicology           Arts           Madison   Batan                   30\n",
      "Neurobiology         Science        Terran    Beaty                   24\n",
      "Painting             Arts           Katerina  Young                   34\n",
      "Physics              Science        Alexander Watts                   12\n",
      "Proffesional English English        Conor     Mckittrick              38\n",
      "Python               Science        Terran    Beaty                   24\n",
      "R                    Science        Tanner    Fitzsimons              34\n",
      "SQL                  Science        Zachary   Healy                   24\n",
      "Sculpture            Arts           Robert    Aivazian                24\n",
      "Statistics           Science        Heather   Metcalf                 24\n",
      "Swimming             Sport          Mikayla   Russell                 18\n",
      "Tenis                Sport          Keegan    Price                   18\n",
      "Theater              Arts           Ernest    Stoyanov                26\n",
      "Volleyball           Sport          Kaitlin   Delude                  36\n"
     ]
    }
   ],
   "source": [
    "students_in_courses = class_courses_dep_teach\n",
    "students_in_courses = students_in_courses.loc[:, [\"FirstName\",\"LastName\",\"DepartmentName\",\"CourseName\",\"StudentID\"]]\n",
    "students_in_courses = students_in_courses.groupby([\"CourseName\",\"DepartmentName\",\"FirstName\",\"LastName\"]).agg(Total_Students=(\"StudentID\", \"count\"))\n",
    "print(students_in_courses)"
   ]
  },
  {
   "cell_type": "markdown",
   "metadata": {},
   "source": [
    "## Q10. Create a dataframe showing the students, the number of courses they take, the average of the grades per class, and their overall average (for each student show the student name)."
   ]
  },
  {
   "cell_type": "code",
   "execution_count": null,
   "metadata": {},
   "outputs": [],
   "source": []
  }
 ],
 "metadata": {
  "kernelspec": {
   "display_name": "Python 3",
   "language": "python",
   "name": "python3"
  },
  "language_info": {
   "codemirror_mode": {
    "name": "ipython",
    "version": 3
   },
   "file_extension": ".py",
   "mimetype": "text/x-python",
   "name": "python",
   "nbconvert_exporter": "python",
   "pygments_lexer": "ipython3",
   "version": "3.7.3"
  }
 },
 "nbformat": 4,
 "nbformat_minor": 2
}
