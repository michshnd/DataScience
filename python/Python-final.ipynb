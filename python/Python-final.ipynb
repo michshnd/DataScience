{
 "cells": [
  {
   "cell_type": "markdown",
   "metadata": {},
   "source": [
    "# Python Intro - Final Exercise\n"
   ]
  },
  {
   "cell_type": "code",
   "execution_count": 1,
   "metadata": {},
   "outputs": [],
   "source": [
    "import pyodbc\n",
    "import pandas as pd\n",
    "import numpy as np"
   ]
  },
  {
   "cell_type": "code",
   "execution_count": 2,
   "metadata": {
    "scrolled": false
   },
   "outputs": [
    {
     "ename": "InterfaceError",
     "evalue": "('IM002', '[IM002] [unixODBC][Driver Manager]Data source name not found and no default driver specified (0) (SQLDriverConnect)')",
     "output_type": "error",
     "traceback": [
      "\u001b[0;31m---------------------------------------------------------------------------\u001b[0m",
      "\u001b[0;31mInterfaceError\u001b[0m                            Traceback (most recent call last)",
      "\u001b[0;32m<ipython-input-2-d8c8798c7c77>\u001b[0m in \u001b[0;36m<module>\u001b[0;34m\u001b[0m\n\u001b[1;32m      1\u001b[0m \u001b[0;31m### In windows, Using a ODBC DNS (predefined connection name)\u001b[0m\u001b[0;34m\u001b[0m\u001b[0;34m\u001b[0m\u001b[0;34m\u001b[0m\u001b[0m\n\u001b[0;32m----> 2\u001b[0;31m \u001b[0mconn\u001b[0m \u001b[0;34m=\u001b[0m \u001b[0mpyodbc\u001b[0m\u001b[0;34m.\u001b[0m\u001b[0mconnect\u001b[0m\u001b[0;34m(\u001b[0m\u001b[0;34m'DSN=COLLEGE;Trusted_Connection=yes;'\u001b[0m\u001b[0;34m)\u001b[0m\u001b[0;34m\u001b[0m\u001b[0;34m\u001b[0m\u001b[0m\n\u001b[0m",
      "\u001b[0;31mInterfaceError\u001b[0m: ('IM002', '[IM002] [unixODBC][Driver Manager]Data source name not found and no default driver specified (0) (SQLDriverConnect)')"
     ]
    }
   ],
   "source": [
    "### In windows, Using a ODBC DNS (predefined connection name)\n",
    "conn = pyodbc.connect('DSN=COLLEGE;Trusted_Connection=yes;')\n"
   ]
  },
  {
   "cell_type": "code",
   "execution_count": 3,
   "metadata": {},
   "outputs": [
    {
     "ename": "NameError",
     "evalue": "name 'conn' is not defined",
     "output_type": "error",
     "traceback": [
      "\u001b[0;31m---------------------------------------------------------------------------\u001b[0m",
      "\u001b[0;31mNameError\u001b[0m                                 Traceback (most recent call last)",
      "\u001b[0;32m<ipython-input-3-e0b5bde12a11>\u001b[0m in \u001b[0;36m<module>\u001b[0;34m\u001b[0m\n\u001b[0;32m----> 1\u001b[0;31m \u001b[0mstudents\u001b[0m \u001b[0;34m=\u001b[0m \u001b[0mpd\u001b[0m\u001b[0;34m.\u001b[0m\u001b[0mread_sql\u001b[0m\u001b[0;34m(\u001b[0m\u001b[0;34m\"SELECT * FROM Students;\"\u001b[0m\u001b[0;34m,\u001b[0m \u001b[0mconn\u001b[0m\u001b[0;34m)\u001b[0m\u001b[0;34m\u001b[0m\u001b[0;34m\u001b[0m\u001b[0m\n\u001b[0m\u001b[1;32m      2\u001b[0m \u001b[0mcourses\u001b[0m \u001b[0;34m=\u001b[0m \u001b[0mpd\u001b[0m\u001b[0;34m.\u001b[0m\u001b[0mread_sql\u001b[0m\u001b[0;34m(\u001b[0m\u001b[0;34m\"SELECT * FROM Courses;\"\u001b[0m\u001b[0;34m,\u001b[0m \u001b[0mconn\u001b[0m\u001b[0;34m)\u001b[0m\u001b[0;34m\u001b[0m\u001b[0;34m\u001b[0m\u001b[0m\n\u001b[1;32m      3\u001b[0m \u001b[0mclassrooms\u001b[0m \u001b[0;34m=\u001b[0m \u001b[0mpd\u001b[0m\u001b[0;34m.\u001b[0m\u001b[0mread_sql\u001b[0m\u001b[0;34m(\u001b[0m\u001b[0;34m\"SELECT * FROM Classrooms;\"\u001b[0m\u001b[0;34m,\u001b[0m \u001b[0mconn\u001b[0m\u001b[0;34m)\u001b[0m\u001b[0;34m\u001b[0m\u001b[0;34m\u001b[0m\u001b[0m\n\u001b[1;32m      4\u001b[0m \u001b[0mteachers\u001b[0m \u001b[0;34m=\u001b[0m \u001b[0mpd\u001b[0m\u001b[0;34m.\u001b[0m\u001b[0mread_sql\u001b[0m\u001b[0;34m(\u001b[0m\u001b[0;34m\"SELECT * FROM Teachers;\"\u001b[0m\u001b[0;34m,\u001b[0m \u001b[0mconn\u001b[0m\u001b[0;34m)\u001b[0m\u001b[0;34m\u001b[0m\u001b[0;34m\u001b[0m\u001b[0m\n\u001b[1;32m      5\u001b[0m \u001b[0mdepartments\u001b[0m \u001b[0;34m=\u001b[0m \u001b[0mpd\u001b[0m\u001b[0;34m.\u001b[0m\u001b[0mread_sql\u001b[0m\u001b[0;34m(\u001b[0m\u001b[0;34m\"SELECT * FROM Departments;\"\u001b[0m\u001b[0;34m,\u001b[0m \u001b[0mconn\u001b[0m\u001b[0;34m)\u001b[0m\u001b[0;34m\u001b[0m\u001b[0;34m\u001b[0m\u001b[0m\n",
      "\u001b[0;31mNameError\u001b[0m: name 'conn' is not defined"
     ]
    }
   ],
   "source": [
    "students = pd.read_sql(\"SELECT * FROM Students;\", conn)\n",
    "courses = pd.read_sql(\"SELECT * FROM Courses;\", conn)\n",
    "classrooms = pd.read_sql(\"SELECT * FROM Classrooms;\", conn)\n",
    "teachers = pd.read_sql(\"SELECT * FROM Teachers;\", conn)\n",
    "departments = pd.read_sql(\"SELECT * FROM Departments;\", conn)"
   ]
  },
  {
   "cell_type": "code",
   "execution_count": 4,
   "metadata": {},
   "outputs": [],
   "source": [
    "classroom_courses = pd.merge(classrooms, courses, on='CourseID', how='inner')\n",
    "class_courses_dep = pd.merge(classroom_courses,departments, on='DepartmentID', how='inner')\n",
    "class_courses_dep_stud = pd.merge(class_courses_dep,students, on='StudentID', how='inner')"
   ]
  },
  {
   "cell_type": "markdown",
   "metadata": {},
   "source": [
    "# Questions\n",
    " \n",
    " \n",
    "## Q1. Count the number of students on each department"
   ]
  },
  {
   "cell_type": "code",
   "execution_count": 5,
   "metadata": {},
   "outputs": [
    {
     "name": "stdout",
     "output_type": "stream",
     "text": [
      "                            Student Number\n",
      "                                   nunique\n",
      "DepartmentID DepartmentName               \n",
      "1            English                    84\n",
      "2            Science                   200\n",
      "3            Arts                      137\n",
      "4            Sport                      81\n"
     ]
    }
   ],
   "source": [
    "\n",
    "students_departments = class_courses_dep.groupby([\"DepartmentID\",\"DepartmentName\"]).agg({\"StudentID\": ['nunique']}).rename(columns = {\"StudentID\":\"Student Number\"})\n",
    "print(students_departments)"
   ]
  },
  {
   "cell_type": "markdown",
   "metadata": {},
   "source": [
    "## Q2. How many students have each course of the English department and the total number of students in the department?"
   ]
  },
  {
   "cell_type": "code",
   "execution_count": 6,
   "metadata": {},
   "outputs": [
    {
     "name": "stdout",
     "output_type": "stream",
     "text": [
      "                              Student Number\n",
      "                                       count\n",
      "CourseID CourseName                         \n",
      "1        English Begginers                32\n",
      "2        Advanced English                 24\n",
      "3        Proffesional English             38\n",
      "\n",
      "Total number of students in English department is 84\n"
     ]
    }
   ],
   "source": [
    "students_english_dep = class_courses_dep.query(\"DepartmentID==1\")\n",
    "students_Eng_Courses = students_english_dep.groupby([\"CourseID\",\"CourseName\"]).agg({\"StudentID\": ['count']}).rename(columns = {\"StudentID\":\"Student Number\"})\n",
    "print(students_Eng_Courses)\n",
    "\n",
    "total_stud_eng_dep = students_english_dep.drop_duplicates(subset='StudentID', keep='first')['StudentID'].count()\n",
    "print(\"\\nTotal number of students in English department is\", total_stud_eng_dep)"
   ]
  },
  {
   "cell_type": "markdown",
   "metadata": {},
   "source": [
    "## Q3. How many small (<22 students) and large (22+ students) classrooms are needed for the Science department?"
   ]
  },
  {
   "cell_type": "code",
   "execution_count": 7,
   "metadata": {},
   "outputs": [
    {
     "name": "stdout",
     "output_type": "stream",
     "text": [
      "       Type\n",
      "      count\n",
      "Type       \n",
      "Big       6\n",
      "Small    10\n"
     ]
    }
   ],
   "source": [
    "students_english_dep = class_courses_dep.query(\"DepartmentID==2\")\n",
    "students_num_Sci_Courses = students_english_dep.groupby([\"CourseID\",\"CourseName\"]).agg({\"StudentID\": ['count']})\n",
    "students_num_Sci_Courses.loc[:,'Type'] = \"Big\"\n",
    "students_num_Sci_Courses.loc[students_num_Sci_Courses.iloc[:,0]>21,'Type'] = \"Small\"\n",
    "big_small= students_num_Sci_Courses.groupby([\"Type\"]).agg({\"Type\": ['count']})\n",
    "print(big_small)"
   ]
  },
  {
   "cell_type": "markdown",
   "metadata": {},
   "source": [
    "## Q4. A feminist student claims that there are more male than female in the College. Justify if the argument is correct"
   ]
  },
  {
   "cell_type": "code",
   "execution_count": 8,
   "metadata": {},
   "outputs": [
    {
     "name": "stdout",
     "output_type": "stream",
     "text": [
      "       StudentID\n",
      "           count\n",
      "Gender          \n",
      "F            165\n",
      "M            115\n",
      "The feminist are WRONG, There are more women than man in the college\n"
     ]
    }
   ],
   "source": [
    "print(students.groupby([\"Gender\"]).agg({\"StudentID\": ['count']}))\n",
    "print(\"The feminist are WRONG, There are more women than man in the college\")"
   ]
  },
  {
   "cell_type": "markdown",
   "metadata": {},
   "source": [
    "## Q5. For which courses the percentage of male/female students is over 70%?"
   ]
  },
  {
   "cell_type": "code",
   "execution_count": 9,
   "metadata": {},
   "outputs": [
    {
     "name": "stdout",
     "output_type": "stream",
     "text": [
      "            males  females  Total\n",
      "CourseName                       \n",
      "Sculpture       7       17     24\n",
      "Tenis           5       13     18\n"
     ]
    }
   ],
   "source": [
    "female = class_courses_dep_stud[(class_courses_dep_stud.Gender == \"F\")]\n",
    "male = class_courses_dep_stud[(class_courses_dep_stud.Gender == \"M\")]\n",
    "Total = class_courses_dep_stud.groupby(['CourseName']).agg(Total=(\"StudentID\", \"count\"))\n",
    "\n",
    "male = male.groupby(['CourseName']).agg(males=(\"StudentID\", \"count\"))\n",
    "female = female.groupby(['CourseName']).agg(females=(\"StudentID\", \"count\"))\n",
    "male_female = pd.merge(male, female,  on=\"CourseName\" ,how = 'inner')\n",
    "male_female = pd.merge(male_female, Total,  on=\"CourseName\" ,how = 'inner')\n",
    "\n",
    "male_female['perc_m'] = male_female['males'] / male_female ['Total'] > 0.7\n",
    "male_female['perc_f'] = male_female['females'] / male_female ['Total'] > 0.7\n",
    "male_female = male_female[(male_female.perc_f == True) | (male_female.perc_m == True) ]\n",
    "print(male_female.iloc[:,0:3])"
   ]
  },
  {
   "cell_type": "markdown",
   "metadata": {},
   "source": [
    "## Q6. For each department, how many students passed with a grades over 80?"
   ]
  },
  {
   "cell_type": "code",
   "execution_count": 12,
   "metadata": {},
   "outputs": [
    {
     "name": "stdout",
     "output_type": "stream",
     "text": [
      "                Students_number\n",
      "DepartmentName                 \n",
      "Arts                         68\n",
      "English                      43\n",
      "Science                     171\n",
      "Sport                        41\n"
     ]
    }
   ],
   "source": [
    "depart_stud_80 = class_courses_dep_stud[(class_courses_dep_stud.degree >= 80)]\n",
    "depart_stud_80 = depart_stud_80.groupby(['DepartmentName']).agg(Students_number=(\"StudentID\", \"count\"))\n",
    "print(depart_stud_80)"
   ]
  },
  {
   "cell_type": "markdown",
   "metadata": {},
   "source": [
    "## Q7. For each department, how many students passed with a grades under 60?"
   ]
  },
  {
   "cell_type": "code",
   "execution_count": 13,
   "metadata": {},
   "outputs": [
    {
     "name": "stdout",
     "output_type": "stream",
     "text": [
      "                Students_number\n",
      "DepartmentName                 \n",
      "Arts                          3\n",
      "English                       2\n",
      "Science                       7\n",
      "Sport                         1\n"
     ]
    }
   ],
   "source": [
    "depart_stud_60 = class_courses_dep_stud[(class_courses_dep_stud.degree <= 60)]\n",
    "depart_stud_60 = depart_stud_60.groupby(['DepartmentName']).agg(Students_number=(\"StudentID\", \"count\"))\n",
    "print(depart_stud_60)"
   ]
  },
  {
   "cell_type": "markdown",
   "metadata": {},
   "source": [
    "## Q8. Rate the teachers by their average student's grades (in descending order)."
   ]
  },
  {
   "cell_type": "code",
   "execution_count": null,
   "metadata": {},
   "outputs": [],
   "source": []
  },
  {
   "cell_type": "markdown",
   "metadata": {},
   "source": [
    "## Q9. Create a dataframe showing the courses, departments they are associated with, the teacher in each course, and the number of students enrolled in the course (for each course, department and teacher show the names)."
   ]
  },
  {
   "cell_type": "code",
   "execution_count": null,
   "metadata": {},
   "outputs": [],
   "source": []
  },
  {
   "cell_type": "markdown",
   "metadata": {},
   "source": [
    "## Q10. Create a dataframe showing the students, the number of courses they take, the average of the grades per class, and their overall average (for each student show the student name)."
   ]
  },
  {
   "cell_type": "code",
   "execution_count": null,
   "metadata": {},
   "outputs": [],
   "source": []
  }
 ],
 "metadata": {
  "kernelspec": {
   "display_name": "Python 3",
   "language": "python",
   "name": "python3"
  },
  "language_info": {
   "codemirror_mode": {
    "name": "ipython",
    "version": 3
   },
   "file_extension": ".py",
   "mimetype": "text/x-python",
   "name": "python",
   "nbconvert_exporter": "python",
   "pygments_lexer": "ipython3",
   "version": "3.6.8"
  }
 },
 "nbformat": 4,
 "nbformat_minor": 2
}
